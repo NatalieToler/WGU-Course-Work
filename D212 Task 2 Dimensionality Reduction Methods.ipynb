{
 "cells": [
  {
   "cell_type": "markdown",
   "id": "c1d04b45",
   "metadata": {},
   "source": [
    "# Dimensionality Reduction Methods: D212\n",
    "## By Natalie Toler\n",
    "\n",
    "### Table of Contents\n",
    "#### Part 1: Research Question\n",
    "#### Part 2: Method Justification\n",
    "#### Part 3: Data Preparation\n",
    "#### Part 4: Analysis\n",
    "#### Part 5: Attachments\n",
    "\n",
    "#### Sources"
   ]
  },
  {
   "cell_type": "markdown",
   "id": "5494b4a0",
   "metadata": {},
   "source": [
    "## Part 1: Research Question\n",
    "\n",
    "A1. Research Question\n",
    "\n",
    "   Using the dataset of Age and Total Cost of hospitalization, can we identify the principal components that account for the most variance to reduce the dimensionality of the dataset for better further analysis?\n",
    "\n",
    "A2. Goal\n",
    "\n",
    "   The goal of this project is to reduce the dimensionality of the continuous variable dataset (Age and Total Cost of hospitalization) using PCA, so that further analyses can be more effective and efficient.\n",
    "   \n",
    "## Part 2: Method Justification\n",
    "\n",
    "B1. PCA\n",
    "\n",
    "Principal Component Analysis will analyze the selected dataset through the following steps:\n",
    "\n",
    "- Standardization of Data: The continuous numeric variables, patient age and hospitalization cost, will be standardized to ensure that they have a mean of zero and a standard deviation of one. \n",
    "\n",
    "- Covariance Matrix Calculation: A covariance matrix will be calculated to understand how the variables in the dataset are correlated with each other. This matrix will help in identifying relationships between variables.\n",
    "\n",
    "- Eigenvalue and Eigenvector Computation: Eigenvalues and eigenvectors will be computed from the covariance matrix. Eigenvalues will help determine the amount of variance captured by each principal component, while eigenvectors will define the direction of these components in the multidimensional space.\n",
    "\n",
    "- Principal Component Selection: Principal components will be selected based on their eigenvalues. Components with higher eigenvalues will be chosen as they explain a larger portion of the variance in the dataset. I will use a scree plot will be used to visualize and decide the number of principal components to retain.\n",
    "\n",
    "- Transformation: The original data will be transformed into a new set of variables, the principal components, which are uncorrelated. These components will be linear combinations of the original variables and will capture the maximum variance in the data.\n",
    "\n",
    "Expected Outcomes:\n",
    "\n",
    "- Reduced Dimensionality: The dataset will have fewer dimensions, making it easier to visualize and analyze while preserving most of the original variance.\n",
    "- Uncorrelated Principal Components: Each principal component will be independent of the others, providing unique information about the data's variance.\n",
    "- Explained Variance: The explained variance ratio will indicate the proportion of the dataset's variance captured by each principal component, helping to understand how much information is retained.\n",
    "- Insights into Patient Data: By examining the principal components, we can identify underlying patterns and trends in patient age and hospitalization cost, which can inform strategies for improving patient outcomes.\n",
    "\n",
    "Overall, PCA will help to simplify the complexity of the dataset, making it easier to identify significant patterns and relationships that impact patient outcomes. [A Step-by-Step Explanation of Principal Component Analysis (PCA)](https://builtin.com/data-science/step-step-explanation-principal-component-analysis)\n",
    "\n",
    "B2. Assumption\n",
    "\n",
    "   One important assumption made by PCA is that the relationship between the variables is linear. Which is how the PCA identifies principal components.\n",
    "\n",
    "## Part 3: Data Preparation"
   ]
  },
  {
   "cell_type": "code",
   "execution_count": 1,
   "id": "ed362c73",
   "metadata": {},
   "outputs": [
    {
     "name": "stdout",
     "output_type": "stream",
     "text": [
      "<class 'pandas.core.frame.DataFrame'>\n",
      "Int64Index: 10000 entries, 1 to 10000\n",
      "Data columns (total 49 columns):\n",
      " #   Column              Non-Null Count  Dtype  \n",
      "---  ------              --------------  -----  \n",
      " 0   Customer_id         10000 non-null  object \n",
      " 1   Interaction         10000 non-null  object \n",
      " 2   UID                 10000 non-null  object \n",
      " 3   City                10000 non-null  object \n",
      " 4   State               10000 non-null  object \n",
      " 5   County              10000 non-null  object \n",
      " 6   Zip                 10000 non-null  int64  \n",
      " 7   Lat                 10000 non-null  float64\n",
      " 8   Lng                 10000 non-null  float64\n",
      " 9   Population          10000 non-null  int64  \n",
      " 10  Area                10000 non-null  object \n",
      " 11  TimeZone            10000 non-null  object \n",
      " 12  Job                 10000 non-null  object \n",
      " 13  Children            10000 non-null  int64  \n",
      " 14  Age                 10000 non-null  int64  \n",
      " 15  Income              10000 non-null  float64\n",
      " 16  Marital             10000 non-null  object \n",
      " 17  Gender              10000 non-null  object \n",
      " 18  ReAdmis             10000 non-null  object \n",
      " 19  VitD_levels         10000 non-null  float64\n",
      " 20  Doc_visits          10000 non-null  int64  \n",
      " 21  Full_meals_eaten    10000 non-null  int64  \n",
      " 22  vitD_supp           10000 non-null  int64  \n",
      " 23  Soft_drink          10000 non-null  object \n",
      " 24  Initial_admin       10000 non-null  object \n",
      " 25  HighBlood           10000 non-null  object \n",
      " 26  Stroke              10000 non-null  object \n",
      " 27  Complication_risk   10000 non-null  object \n",
      " 28  Overweight          10000 non-null  object \n",
      " 29  Arthritis           10000 non-null  object \n",
      " 30  Diabetes            10000 non-null  object \n",
      " 31  Hyperlipidemia      10000 non-null  object \n",
      " 32  BackPain            10000 non-null  object \n",
      " 33  Anxiety             10000 non-null  object \n",
      " 34  Allergic_rhinitis   10000 non-null  object \n",
      " 35  Reflux_esophagitis  10000 non-null  object \n",
      " 36  Asthma              10000 non-null  object \n",
      " 37  Services            10000 non-null  object \n",
      " 38  Initial_days        10000 non-null  float64\n",
      " 39  TotalCharge         10000 non-null  float64\n",
      " 40  Additional_charges  10000 non-null  float64\n",
      " 41  Item1               10000 non-null  int64  \n",
      " 42  Item2               10000 non-null  int64  \n",
      " 43  Item3               10000 non-null  int64  \n",
      " 44  Item4               10000 non-null  int64  \n",
      " 45  Item5               10000 non-null  int64  \n",
      " 46  Item6               10000 non-null  int64  \n",
      " 47  Item7               10000 non-null  int64  \n",
      " 48  Item8               10000 non-null  int64  \n",
      "dtypes: float64(7), int64(15), object(27)\n",
      "memory usage: 3.8+ MB\n"
     ]
    }
   ],
   "source": [
    "# The Packages and Libraries I will use for the project\n",
    "\n",
    "import pandas as pd # Handles the dataset\n",
    "import numpy as np # Performs certain maths operations\n",
    "import matplotlib.pyplot as plt # provides visualizations\n",
    "%matplotlib inline\n",
    "import seaborn as sns # Provides more visualizations\n",
    "from sklearn.preprocessing import StandardScaler # Normalizes the data\n",
    "from sklearn.decomposition import PCA\n",
    "\n",
    "#Import the dataset and make sure the bonus column is not created.\n",
    "df = pd.read_csv('medical_clean.csv', index_col=0)\n",
    "# Check dataset\n",
    "df.info()"
   ]
  },
  {
   "cell_type": "code",
   "execution_count": 2,
   "id": "f68f5e1c",
   "metadata": {},
   "outputs": [
    {
     "name": "stdout",
     "output_type": "stream",
     "text": [
      "True\n"
     ]
    }
   ],
   "source": [
    "#Adjusting the Zipcode column because zipcodes with a leading 0 have had that 0 deleted\n",
    "# Convert the Zip column to a string and then pad any values with 4 numbers with a leading 0\n",
    "df['Zip'] = df['Zip'].astype(\"str\").str.zfill(5)\n",
    "\n",
    "# Check that all values are 5 long\n",
    "all_have_five_values = all(len(str(value)) == 5 for value in df['Zip'])\n",
    "print(all_have_five_values)"
   ]
  },
  {
   "cell_type": "code",
   "execution_count": 3,
   "id": "79af202e",
   "metadata": {},
   "outputs": [
    {
     "data": {
      "text/plain": [
       "US - Eastern        4326\n",
       "US - Central        3792\n",
       "US - Pacific         937\n",
       "US - Mountain        698\n",
       "US - Arizona         100\n",
       "US - Alaskan          69\n",
       "US - Puerto Rico      43\n",
       "US - Hawaiian         34\n",
       "US - Aleutian          1\n",
       "Name: TimeZone, dtype: int64"
      ]
     },
     "execution_count": 3,
     "metadata": {},
     "output_type": "execute_result"
    }
   ],
   "source": [
    "#Simplifying the Timezone categories\n",
    "df.TimeZone.replace({\n",
    "    # Puerto Rica has it's own time zone\n",
    "    'America/Puerto_Rico' : \"US - Puerto Rico\",\n",
    "    # All the cities in the US Eastern zone\n",
    "    'America/New_York' : 'US - Eastern',\n",
    "    'America/Detroit' : 'US - Eastern',\n",
    "    'America/Indiana/Indianapolis' : 'US - Eastern',\n",
    "    'America/Indiana/Vevay' : 'US - Eastern',\n",
    "    'America/Indiana/Vincennes' : 'US - Eastern',\n",
    "    'America/Kentucky/Louisville' : 'US - Eastern',\n",
    "    'America/Toronto' : 'US - Eastern',\n",
    "    'America/Indiana/Marengo' : 'US - Eastern',\n",
    "    'America/Indiana/Winamac' : 'US - Eastern',\n",
    "    # All the cities in US Central zone\n",
    "    'America/Chicago' : 'US - Central',\n",
    "    'America/Menominee' : 'US - Central',\n",
    "    'America/Indiana/Knox' : 'US - Central',\n",
    "    'America/Indiana/Tell_City' : 'US - Central',\n",
    "    'America/North_Dakota/Beulah' : 'US - Central',\n",
    "    'America/North_Dakota/New_Salem' : 'US - Central',\n",
    "    # All the Cities in US Mountain zone\n",
    "    'America/Denver' : 'US - Mountain',\n",
    "    'America/Boise' : 'US - Mountain',\n",
    "    # Arizona which is Mountain but doesn't observe day light savings\n",
    "    'America/Phoenix' : 'US - Arizona',\n",
    "    # The city in Pacific time\n",
    "    'America/Los_Angeles' : 'US - Pacific',\n",
    "    # Alaskan Time zone\n",
    "    'America/Nome' : 'US - Alaskan',\n",
    "    'America/Anchorage' : 'US - Alaskan',\n",
    "    'America/Sitka' : 'US - Alaskan',\n",
    "    'America/Yakutat' : 'US - Alaskan',\n",
    "    # Hawaiian Time Zone that doesn't observe day light savings\n",
    "    'Pacific/Honolulu' : 'US - Hawaiian',\n",
    "    # Aleutian time zone that observes day light savings and otherwise would be with Hawaiian\n",
    "    'America/Adak' : 'US - Aleutian'\n",
    "    }, inplace = True)\n",
    "\n",
    "df['TimeZone'].value_counts()"
   ]
  },
  {
   "cell_type": "code",
   "execution_count": 4,
   "id": "e16f8d82",
   "metadata": {},
   "outputs": [],
   "source": [
    "#Changing Datatypes\n",
    "#Convert area to category from string\n",
    "df[\"Area\"] = df[\"Area\"].astype(\"category\")\n",
    "# Convert column to category from string\n",
    "df[\"TimeZone\"] = df[\"TimeZone\"].astype(\"category\")\n",
    "# Convert column to category from string\n",
    "df[\"Marital\"] = df[\"Marital\"].astype(\"category\")\n",
    "# Convert column to category from string\n",
    "df[\"Gender\"] = df[\"Gender\"].astype(\"category\")\n",
    "# Convert column to category from string\n",
    "df[\"Initial_admin\"] = df[\"Initial_admin\"].astype(\"category\")\n",
    "# Convert column to category from string\n",
    "df[\"Complication_risk\"] = df[\"Complication_risk\"].astype(\"category\")\n",
    "# Convert column to category from string\n",
    "df[\"Services\"] = df[\"Services\"].astype(\"category\")"
   ]
  },
  {
   "cell_type": "code",
   "execution_count": 5,
   "id": "ba4d36b6",
   "metadata": {},
   "outputs": [],
   "source": [
    "#Boolean columns remapped to 1/0 binary\n",
    "# Recast object > boolean wants to turn everything True, need to map Yes/No to True/False\n",
    "bool_mapping = {\"Yes\" : 1, \"No\" : 0}\n",
    "# Convert column to boolean from string\n",
    "df[\"ReAdmis\"] = df[\"ReAdmis\"].map(bool_mapping)\n",
    "# Convert column to boolean from string\n",
    "df[\"Soft_drink\"] = df[\"Soft_drink\"].map(bool_mapping)\n",
    "# Convert column to boolean from string\n",
    "df[\"HighBlood\"] = df[\"HighBlood\"].map(bool_mapping)\n",
    "# Convert column to boolean from string\n",
    "df[\"Stroke\"] = df[\"Stroke\"].map(bool_mapping)\n",
    "# Convert column to boolean from string\n",
    "df[\"Overweight\"] = df[\"Overweight\"].map(bool_mapping)\n",
    "# Convert column to boolean from string\n",
    "df[\"Arthritis\"] = df[\"Arthritis\"].map(bool_mapping)\n",
    "# Convert column to boolean from string\n",
    "df[\"Diabetes\"] = df[\"Diabetes\"].map(bool_mapping)\n",
    "# Convert column to boolean from string\n",
    "df[\"Hyperlipidemia\"] = df[\"Hyperlipidemia\"].map(bool_mapping)\n",
    "# Convert column to boolean from string\n",
    "df[\"BackPain\"] = df[\"BackPain\"].map(bool_mapping)\n",
    "# Convert column to boolean from string\n",
    "df[\"Anxiety\"] = df[\"Anxiety\"].map(bool_mapping)\n",
    "# Convert column to boolean from string\n",
    "df[\"Allergic_rhinitis\"] = df[\"Allergic_rhinitis\"].map(bool_mapping)\n",
    "# Convert column to boolean from string\n",
    "df[\"Reflux_esophagitis\"] = df[\"Reflux_esophagitis\"].map(bool_mapping)\n",
    "# Convert column to boolean from string\n",
    "df[\"Asthma\"] = df[\"Asthma\"].map(bool_mapping)"
   ]
  },
  {
   "cell_type": "code",
   "execution_count": 6,
   "id": "250302af",
   "metadata": {},
   "outputs": [],
   "source": [
    "# Convert Complication risk to 1, 2, 3 for low, medium, high\n",
    "risk_mapping = {'High': 3, 'Medium': 2, 'Low': 1}\n",
    "# Map the values in the \"complication_risk\" column using the defined mapping\n",
    "df['Complication_risk'] = df['Complication_risk'].map(risk_mapping)\n",
    "# Convert to int type\n",
    "df['Complication_risk'] = df['Complication_risk'].astype(int)"
   ]
  },
  {
   "cell_type": "code",
   "execution_count": 7,
   "id": "4c5f70d1",
   "metadata": {},
   "outputs": [],
   "source": [
    "# Define the ordered categorical datatype structure\n",
    "survey_response = pd.CategoricalDtype(categories=[\"1\", \"2\", \"3\", \"4\", \"5\", \"6\", \"7\", \"8\"], ordered=True)\n",
    "# Apply the ordered categorical datatype to the columns\n",
    "columns_to_encode = [\"Item1\", \"Item2\", \"Item3\", \"Item4\", \"Item5\", \"Item6\", \"Item7\", \"Item8\"]\n",
    "for column in columns_to_encode:\n",
    "    df[column] = df[column].astype(str)\n",
    "    df[column] = df[column].astype(survey_response)"
   ]
  },
  {
   "cell_type": "code",
   "execution_count": 8,
   "id": "97dfc1db",
   "metadata": {},
   "outputs": [
    {
     "name": "stderr",
     "output_type": "stream",
     "text": [
      "/var/folders/vk/xjtd_82n6p19qm_b7nz56_cw0000gn/T/ipykernel_24894/2711196450.py:11: FutureWarning: DataFrame.set_axis 'inplace' keyword is deprecated and will be removed in a future version. Use `obj = obj.set_axis(..., copy=False)` instead\n",
      "  df.set_axis(pythonic_columns, axis=1, inplace=True)\n"
     ]
    }
   ],
   "source": [
    "#Column renaming\n",
    "# Generate and apply Pythonic names\n",
    "pythonic_columns = ['customer_id', 'interactions', 'uid', 'city', 'state', 'county', 'zip', 'lat', 'lng', 'population',\n",
    "                    'area', 'timezone', 'job', 'children', 'age', 'income', 'marital', 'gender','readmission', 'vit_d',\n",
    "                    'doc_visits', 'full_meals', 'vit_d_supplement', 'soft_drink', 'initial_admin', 'high_blood',\n",
    "                    'stroke', 'complication_risk', 'overweight', 'arthritis', 'diabetes', 'hyperlipidemia', 'back_pain',\n",
    "                    'anxiety', 'allergic_rhinitis','reflux_esophagitis', 'asthma', 'services', 'initial_days',\n",
    "                    'total_charge', 'additional_charges', 'survey_timely_admission', 'survey_timely_treatment',\n",
    "                    'survey_timely_visits', 'survey_reliability', 'survey_options', 'survey_hours_treatment',\n",
    "                    'survey_courteous_staff', 'survey_active_listening']\n",
    "df.set_axis(pythonic_columns, axis=1, inplace=True)"
   ]
  },
  {
   "cell_type": "code",
   "execution_count": 9,
   "id": "a1796bba",
   "metadata": {},
   "outputs": [
    {
     "name": "stdout",
     "output_type": "stream",
     "text": [
      "<class 'pandas.core.frame.DataFrame'>\n",
      "Int64Index: 10000 entries, 1 to 10000\n",
      "Data columns (total 49 columns):\n",
      " #   Column                   Non-Null Count  Dtype   \n",
      "---  ------                   --------------  -----   \n",
      " 0   customer_id              10000 non-null  object  \n",
      " 1   interactions             10000 non-null  object  \n",
      " 2   uid                      10000 non-null  object  \n",
      " 3   city                     10000 non-null  object  \n",
      " 4   state                    10000 non-null  object  \n",
      " 5   county                   10000 non-null  object  \n",
      " 6   zip                      10000 non-null  object  \n",
      " 7   lat                      10000 non-null  float64 \n",
      " 8   lng                      10000 non-null  float64 \n",
      " 9   population               10000 non-null  int64   \n",
      " 10  area                     10000 non-null  category\n",
      " 11  timezone                 10000 non-null  category\n",
      " 12  job                      10000 non-null  object  \n",
      " 13  children                 10000 non-null  int64   \n",
      " 14  age                      10000 non-null  int64   \n",
      " 15  income                   10000 non-null  float64 \n",
      " 16  marital                  10000 non-null  category\n",
      " 17  gender                   10000 non-null  category\n",
      " 18  readmission              10000 non-null  int64   \n",
      " 19  vit_d                    10000 non-null  float64 \n",
      " 20  doc_visits               10000 non-null  int64   \n",
      " 21  full_meals               10000 non-null  int64   \n",
      " 22  vit_d_supplement         10000 non-null  int64   \n",
      " 23  soft_drink               10000 non-null  int64   \n",
      " 24  initial_admin            10000 non-null  category\n",
      " 25  high_blood               10000 non-null  int64   \n",
      " 26  stroke                   10000 non-null  int64   \n",
      " 27  complication_risk        10000 non-null  int64   \n",
      " 28  overweight               10000 non-null  int64   \n",
      " 29  arthritis                10000 non-null  int64   \n",
      " 30  diabetes                 10000 non-null  int64   \n",
      " 31  hyperlipidemia           10000 non-null  int64   \n",
      " 32  back_pain                10000 non-null  int64   \n",
      " 33  anxiety                  10000 non-null  int64   \n",
      " 34  allergic_rhinitis        10000 non-null  int64   \n",
      " 35  reflux_esophagitis       10000 non-null  int64   \n",
      " 36  asthma                   10000 non-null  int64   \n",
      " 37  services                 10000 non-null  category\n",
      " 38  initial_days             10000 non-null  float64 \n",
      " 39  total_charge             10000 non-null  float64 \n",
      " 40  additional_charges       10000 non-null  float64 \n",
      " 41  survey_timely_admission  10000 non-null  category\n",
      " 42  survey_timely_treatment  10000 non-null  category\n",
      " 43  survey_timely_visits     10000 non-null  category\n",
      " 44  survey_reliability       10000 non-null  category\n",
      " 45  survey_options           10000 non-null  category\n",
      " 46  survey_hours_treatment   10000 non-null  category\n",
      " 47  survey_courteous_staff   10000 non-null  category\n",
      " 48  survey_active_listening  10000 non-null  category\n",
      "dtypes: category(14), float64(7), int64(20), object(8)\n",
      "memory usage: 2.9+ MB\n"
     ]
    }
   ],
   "source": [
    "# Check the data now that the cleaning is done\n",
    "df.info()"
   ]
  },
  {
   "cell_type": "markdown",
   "id": "bd05647b",
   "metadata": {},
   "source": [
    "#### C1. Continuous Data"
   ]
  },
  {
   "cell_type": "code",
   "execution_count": 10,
   "id": "45a6273c",
   "metadata": {},
   "outputs": [
    {
     "name": "stdout",
     "output_type": "stream",
     "text": [
      "<class 'pandas.core.frame.DataFrame'>\n",
      "Int64Index: 10000 entries, 1 to 10000\n",
      "Data columns (total 27 columns):\n",
      " #   Column              Non-Null Count  Dtype  \n",
      "---  ------              --------------  -----  \n",
      " 0   lat                 10000 non-null  float64\n",
      " 1   lng                 10000 non-null  float64\n",
      " 2   population          10000 non-null  int64  \n",
      " 3   children            10000 non-null  int64  \n",
      " 4   age                 10000 non-null  int64  \n",
      " 5   income              10000 non-null  float64\n",
      " 6   readmission         10000 non-null  int64  \n",
      " 7   vit_d               10000 non-null  float64\n",
      " 8   doc_visits          10000 non-null  int64  \n",
      " 9   full_meals          10000 non-null  int64  \n",
      " 10  vit_d_supplement    10000 non-null  int64  \n",
      " 11  soft_drink          10000 non-null  int64  \n",
      " 12  high_blood          10000 non-null  int64  \n",
      " 13  stroke              10000 non-null  int64  \n",
      " 14  complication_risk   10000 non-null  int64  \n",
      " 15  overweight          10000 non-null  int64  \n",
      " 16  arthritis           10000 non-null  int64  \n",
      " 17  diabetes            10000 non-null  int64  \n",
      " 18  hyperlipidemia      10000 non-null  int64  \n",
      " 19  back_pain           10000 non-null  int64  \n",
      " 20  anxiety             10000 non-null  int64  \n",
      " 21  allergic_rhinitis   10000 non-null  int64  \n",
      " 22  reflux_esophagitis  10000 non-null  int64  \n",
      " 23  asthma              10000 non-null  int64  \n",
      " 24  initial_days        10000 non-null  float64\n",
      " 25  total_charge        10000 non-null  float64\n",
      " 26  additional_charges  10000 non-null  float64\n",
      "dtypes: float64(7), int64(20)\n",
      "memory usage: 2.1 MB\n"
     ]
    }
   ],
   "source": [
    "# Find all of the numeric columns\n",
    "\n",
    "numeric_data = df.select_dtypes('number')\n",
    "numeric_data.info()"
   ]
  },
  {
   "cell_type": "code",
   "execution_count": 11,
   "id": "d923d715",
   "metadata": {},
   "outputs": [
    {
     "name": "stdout",
     "output_type": "stream",
     "text": [
      "<class 'pandas.core.frame.DataFrame'>\n",
      "Int64Index: 10000 entries, 1 to 10000\n",
      "Data columns (total 13 columns):\n",
      " #   Column              Non-Null Count  Dtype  \n",
      "---  ------              --------------  -----  \n",
      " 0   lat                 10000 non-null  float64\n",
      " 1   lng                 10000 non-null  float64\n",
      " 2   population          10000 non-null  int64  \n",
      " 3   children            10000 non-null  int64  \n",
      " 4   age                 10000 non-null  int64  \n",
      " 5   income              10000 non-null  float64\n",
      " 6   vit_d               10000 non-null  float64\n",
      " 7   doc_visits          10000 non-null  int64  \n",
      " 8   full_meals          10000 non-null  int64  \n",
      " 9   vit_d_supplement    10000 non-null  int64  \n",
      " 10  initial_days        10000 non-null  float64\n",
      " 11  total_charge        10000 non-null  float64\n",
      " 12  additional_charges  10000 non-null  float64\n",
      "dtypes: float64(7), int64(6)\n",
      "memory usage: 1.1 MB\n"
     ]
    }
   ],
   "source": [
    "# Create dataframe with the coninuous variables\n",
    "\n",
    "con_df = numeric_data[['lat', 'lng', 'population', 'children', 'age', 'income', 'vit_d', 'doc_visits', 'full_meals',\n",
    "                 'vit_d_supplement', 'initial_days', 'total_charge', 'additional_charges']].copy()\n",
    "con_df.info()"
   ]
  },
  {
   "cell_type": "markdown",
   "id": "1343a608",
   "metadata": {},
   "source": [
    "#### C2. Standardization"
   ]
  },
  {
   "cell_type": "code",
   "execution_count": 12,
   "id": "546f6431",
   "metadata": {},
   "outputs": [],
   "source": [
    "scaled = StandardScaler()"
   ]
  },
  {
   "cell_type": "code",
   "execution_count": 13,
   "id": "ff4de67f",
   "metadata": {},
   "outputs": [
    {
     "data": {
      "text/html": [
       "<div>\n",
       "<style scoped>\n",
       "    .dataframe tbody tr th:only-of-type {\n",
       "        vertical-align: middle;\n",
       "    }\n",
       "\n",
       "    .dataframe tbody tr th {\n",
       "        vertical-align: top;\n",
       "    }\n",
       "\n",
       "    .dataframe thead th {\n",
       "        text-align: right;\n",
       "    }\n",
       "</style>\n",
       "<table border=\"1\" class=\"dataframe\">\n",
       "  <thead>\n",
       "    <tr style=\"text-align: right;\">\n",
       "      <th></th>\n",
       "      <th>lat</th>\n",
       "      <th>lng</th>\n",
       "      <th>population</th>\n",
       "      <th>children</th>\n",
       "      <th>age</th>\n",
       "      <th>income</th>\n",
       "      <th>vit_d</th>\n",
       "      <th>doc_visits</th>\n",
       "      <th>full_meals</th>\n",
       "      <th>vit_d_supplement</th>\n",
       "      <th>initial_days</th>\n",
       "      <th>total_charge</th>\n",
       "      <th>additional_charges</th>\n",
       "    </tr>\n",
       "  </thead>\n",
       "  <tbody>\n",
       "    <tr>\n",
       "      <th>0</th>\n",
       "      <td>-0.814668</td>\n",
       "      <td>0.297134</td>\n",
       "      <td>-0.473168</td>\n",
       "      <td>-0.507129</td>\n",
       "      <td>-0.024795</td>\n",
       "      <td>1.615914</td>\n",
       "      <td>0.583603</td>\n",
       "      <td>0.944647</td>\n",
       "      <td>-0.993387</td>\n",
       "      <td>-0.634713</td>\n",
       "      <td>-0.907310</td>\n",
       "      <td>-0.727185</td>\n",
       "      <td>0.765005</td>\n",
       "    </tr>\n",
       "    <tr>\n",
       "      <th>1</th>\n",
       "      <td>-1.463305</td>\n",
       "      <td>0.395522</td>\n",
       "      <td>0.090242</td>\n",
       "      <td>0.417277</td>\n",
       "      <td>-0.121706</td>\n",
       "      <td>0.221443</td>\n",
       "      <td>0.483901</td>\n",
       "      <td>-0.967981</td>\n",
       "      <td>0.990609</td>\n",
       "      <td>0.956445</td>\n",
       "      <td>-0.734595</td>\n",
       "      <td>-0.513228</td>\n",
       "      <td>0.715114</td>\n",
       "    </tr>\n",
       "    <tr>\n",
       "      <th>2</th>\n",
       "      <td>0.886966</td>\n",
       "      <td>-0.354788</td>\n",
       "      <td>0.482983</td>\n",
       "      <td>0.417277</td>\n",
       "      <td>-0.024795</td>\n",
       "      <td>-0.915870</td>\n",
       "      <td>0.046227</td>\n",
       "      <td>-0.967981</td>\n",
       "      <td>-0.001389</td>\n",
       "      <td>-0.634713</td>\n",
       "      <td>-1.128292</td>\n",
       "      <td>-1.319983</td>\n",
       "      <td>0.698635</td>\n",
       "    </tr>\n",
       "    <tr>\n",
       "      <th>3</th>\n",
       "      <td>0.952530</td>\n",
       "      <td>-0.149403</td>\n",
       "      <td>-0.526393</td>\n",
       "      <td>-0.969332</td>\n",
       "      <td>1.186592</td>\n",
       "      <td>-0.026263</td>\n",
       "      <td>-0.687811</td>\n",
       "      <td>-0.967981</td>\n",
       "      <td>-0.001389</td>\n",
       "      <td>-0.634713</td>\n",
       "      <td>-1.244503</td>\n",
       "      <td>-1.460517</td>\n",
       "      <td>0.009004</td>\n",
       "    </tr>\n",
       "    <tr>\n",
       "      <th>4</th>\n",
       "      <td>-0.213252</td>\n",
       "      <td>0.943984</td>\n",
       "      <td>-0.315586</td>\n",
       "      <td>-0.507129</td>\n",
       "      <td>-1.526914</td>\n",
       "      <td>-1.377325</td>\n",
       "      <td>-0.260366</td>\n",
       "      <td>-0.011667</td>\n",
       "      <td>-0.993387</td>\n",
       "      <td>2.547602</td>\n",
       "      <td>-1.261991</td>\n",
       "      <td>-1.467285</td>\n",
       "      <td>-1.408991</td>\n",
       "    </tr>\n",
       "  </tbody>\n",
       "</table>\n",
       "</div>"
      ],
      "text/plain": [
       "        lat       lng  population  children       age    income     vit_d  \\\n",
       "0 -0.814668  0.297134   -0.473168 -0.507129 -0.024795  1.615914  0.583603   \n",
       "1 -1.463305  0.395522    0.090242  0.417277 -0.121706  0.221443  0.483901   \n",
       "2  0.886966 -0.354788    0.482983  0.417277 -0.024795 -0.915870  0.046227   \n",
       "3  0.952530 -0.149403   -0.526393 -0.969332  1.186592 -0.026263 -0.687811   \n",
       "4 -0.213252  0.943984   -0.315586 -0.507129 -1.526914 -1.377325 -0.260366   \n",
       "\n",
       "   doc_visits  full_meals  vit_d_supplement  initial_days  total_charge  \\\n",
       "0    0.944647   -0.993387         -0.634713     -0.907310     -0.727185   \n",
       "1   -0.967981    0.990609          0.956445     -0.734595     -0.513228   \n",
       "2   -0.967981   -0.001389         -0.634713     -1.128292     -1.319983   \n",
       "3   -0.967981   -0.001389         -0.634713     -1.244503     -1.460517   \n",
       "4   -0.011667   -0.993387          2.547602     -1.261991     -1.467285   \n",
       "\n",
       "   additional_charges  \n",
       "0            0.765005  \n",
       "1            0.715114  \n",
       "2            0.698635  \n",
       "3            0.009004  \n",
       "4           -1.408991  "
      ]
     },
     "execution_count": 13,
     "metadata": {},
     "output_type": "execute_result"
    }
   ],
   "source": [
    "scaled_df = scaled.fit_transform(con_df)\n",
    "scaled_df = pd.DataFrame(scaled_df, columns = con_df.columns)\n",
    "scaled_df.head()"
   ]
  },
  {
   "cell_type": "code",
   "execution_count": 14,
   "id": "a235835b",
   "metadata": {},
   "outputs": [],
   "source": [
    "# Save Scaled Data to a CSV\n",
    "scaled_df.to_csv('scaled_df.csv')"
   ]
  },
  {
   "cell_type": "markdown",
   "id": "f3a2b1ae",
   "metadata": {},
   "source": [
    "## Part 4: Analysis\n",
    "\n",
    "#### D1. Matrix"
   ]
  },
  {
   "cell_type": "code",
   "execution_count": 15,
   "id": "e1a75b62",
   "metadata": {},
   "outputs": [
    {
     "data": {
      "text/html": [
       "<div>\n",
       "<style scoped>\n",
       "    .dataframe tbody tr th:only-of-type {\n",
       "        vertical-align: middle;\n",
       "    }\n",
       "\n",
       "    .dataframe tbody tr th {\n",
       "        vertical-align: top;\n",
       "    }\n",
       "\n",
       "    .dataframe thead th {\n",
       "        text-align: right;\n",
       "    }\n",
       "</style>\n",
       "<table border=\"1\" class=\"dataframe\">\n",
       "  <thead>\n",
       "    <tr style=\"text-align: right;\">\n",
       "      <th></th>\n",
       "      <th>lat</th>\n",
       "      <th>lng</th>\n",
       "      <th>population</th>\n",
       "      <th>children</th>\n",
       "      <th>age</th>\n",
       "      <th>income</th>\n",
       "      <th>vit_d</th>\n",
       "      <th>doc_visits</th>\n",
       "      <th>full_meals</th>\n",
       "      <th>vit_d_supplement</th>\n",
       "      <th>initial_days</th>\n",
       "      <th>total_charge</th>\n",
       "      <th>additional_charges</th>\n",
       "    </tr>\n",
       "  </thead>\n",
       "  <tbody>\n",
       "    <tr>\n",
       "      <th>PC1</th>\n",
       "      <td>-0.018834</td>\n",
       "      <td>-0.011011</td>\n",
       "      <td>0.028719</td>\n",
       "      <td>0.034537</td>\n",
       "      <td>0.084650</td>\n",
       "      <td>-0.019701</td>\n",
       "      <td>-0.001995</td>\n",
       "      <td>-0.006991</td>\n",
       "      <td>-0.020712</td>\n",
       "      <td>0.025381</td>\n",
       "      <td>0.699994</td>\n",
       "      <td>0.701146</td>\n",
       "      <td>0.085029</td>\n",
       "    </tr>\n",
       "    <tr>\n",
       "      <th>PC2</th>\n",
       "      <td>0.000913</td>\n",
       "      <td>0.009716</td>\n",
       "      <td>-0.029027</td>\n",
       "      <td>0.017244</td>\n",
       "      <td>0.700793</td>\n",
       "      <td>-0.019176</td>\n",
       "      <td>0.020340</td>\n",
       "      <td>0.015446</td>\n",
       "      <td>0.031960</td>\n",
       "      <td>0.014511</td>\n",
       "      <td>-0.089859</td>\n",
       "      <td>-0.079267</td>\n",
       "      <td>0.700745</td>\n",
       "    </tr>\n",
       "    <tr>\n",
       "      <th>PC3</th>\n",
       "      <td>-0.715570</td>\n",
       "      <td>0.274895</td>\n",
       "      <td>0.626046</td>\n",
       "      <td>-0.034510</td>\n",
       "      <td>0.011244</td>\n",
       "      <td>0.075776</td>\n",
       "      <td>-0.020176</td>\n",
       "      <td>0.017291</td>\n",
       "      <td>-0.103248</td>\n",
       "      <td>0.029741</td>\n",
       "      <td>-0.022902</td>\n",
       "      <td>-0.020888</td>\n",
       "      <td>0.013730</td>\n",
       "    </tr>\n",
       "    <tr>\n",
       "      <th>PC4</th>\n",
       "      <td>-0.036559</td>\n",
       "      <td>-0.474659</td>\n",
       "      <td>0.295638</td>\n",
       "      <td>0.344621</td>\n",
       "      <td>-0.020860</td>\n",
       "      <td>-0.067301</td>\n",
       "      <td>0.526197</td>\n",
       "      <td>0.096735</td>\n",
       "      <td>0.454738</td>\n",
       "      <td>-0.262904</td>\n",
       "      <td>-0.007101</td>\n",
       "      <td>-0.003830</td>\n",
       "      <td>-0.004630</td>\n",
       "    </tr>\n",
       "    <tr>\n",
       "      <th>PC5</th>\n",
       "      <td>0.128188</td>\n",
       "      <td>-0.554592</td>\n",
       "      <td>0.250669</td>\n",
       "      <td>0.158969</td>\n",
       "      <td>0.010691</td>\n",
       "      <td>0.412381</td>\n",
       "      <td>-0.213021</td>\n",
       "      <td>0.282211</td>\n",
       "      <td>-0.385982</td>\n",
       "      <td>0.377611</td>\n",
       "      <td>-0.018751</td>\n",
       "      <td>-0.019601</td>\n",
       "      <td>0.019713</td>\n",
       "    </tr>\n",
       "    <tr>\n",
       "      <th>PC6</th>\n",
       "      <td>-0.018260</td>\n",
       "      <td>-0.289613</td>\n",
       "      <td>0.142253</td>\n",
       "      <td>0.231131</td>\n",
       "      <td>0.011755</td>\n",
       "      <td>-0.149024</td>\n",
       "      <td>-0.366372</td>\n",
       "      <td>-0.820104</td>\n",
       "      <td>-0.050904</td>\n",
       "      <td>-0.097049</td>\n",
       "      <td>-0.017957</td>\n",
       "      <td>-0.019199</td>\n",
       "      <td>0.016979</td>\n",
       "    </tr>\n",
       "    <tr>\n",
       "      <th>PC7</th>\n",
       "      <td>-0.039974</td>\n",
       "      <td>0.229759</td>\n",
       "      <td>-0.174676</td>\n",
       "      <td>0.427505</td>\n",
       "      <td>0.006632</td>\n",
       "      <td>0.651545</td>\n",
       "      <td>-0.208667</td>\n",
       "      <td>0.040698</td>\n",
       "      <td>0.062235</td>\n",
       "      <td>-0.508283</td>\n",
       "      <td>0.013322</td>\n",
       "      <td>0.012132</td>\n",
       "      <td>0.006236</td>\n",
       "    </tr>\n",
       "    <tr>\n",
       "      <th>PC8</th>\n",
       "      <td>-0.005117</td>\n",
       "      <td>0.320779</td>\n",
       "      <td>-0.135732</td>\n",
       "      <td>0.717166</td>\n",
       "      <td>-0.017856</td>\n",
       "      <td>-0.162893</td>\n",
       "      <td>0.305325</td>\n",
       "      <td>-0.076493</td>\n",
       "      <td>-0.238447</td>\n",
       "      <td>0.424062</td>\n",
       "      <td>-0.023812</td>\n",
       "      <td>-0.022769</td>\n",
       "      <td>-0.025023</td>\n",
       "    </tr>\n",
       "    <tr>\n",
       "      <th>PC9</th>\n",
       "      <td>-0.067661</td>\n",
       "      <td>0.056053</td>\n",
       "      <td>-0.083567</td>\n",
       "      <td>-0.131085</td>\n",
       "      <td>-0.013308</td>\n",
       "      <td>0.461862</td>\n",
       "      <td>0.061710</td>\n",
       "      <td>-0.285582</td>\n",
       "      <td>0.590939</td>\n",
       "      <td>0.565530</td>\n",
       "      <td>0.008988</td>\n",
       "      <td>0.009702</td>\n",
       "      <td>-0.006886</td>\n",
       "    </tr>\n",
       "    <tr>\n",
       "      <th>PC10</th>\n",
       "      <td>-0.039423</td>\n",
       "      <td>0.033702</td>\n",
       "      <td>0.038751</td>\n",
       "      <td>0.292473</td>\n",
       "      <td>-0.020631</td>\n",
       "      <td>-0.359436</td>\n",
       "      <td>-0.634109</td>\n",
       "      <td>0.381544</td>\n",
       "      <td>0.462602</td>\n",
       "      <td>0.137073</td>\n",
       "      <td>-0.007002</td>\n",
       "      <td>-0.005149</td>\n",
       "      <td>-0.010633</td>\n",
       "    </tr>\n",
       "    <tr>\n",
       "      <th>PC11</th>\n",
       "      <td>0.679459</td>\n",
       "      <td>0.384029</td>\n",
       "      <td>0.615001</td>\n",
       "      <td>-0.006222</td>\n",
       "      <td>-0.001154</td>\n",
       "      <td>0.056064</td>\n",
       "      <td>-0.003265</td>\n",
       "      <td>-0.056573</td>\n",
       "      <td>0.073982</td>\n",
       "      <td>-0.018434</td>\n",
       "      <td>0.000171</td>\n",
       "      <td>0.000729</td>\n",
       "      <td>0.020560</td>\n",
       "    </tr>\n",
       "    <tr>\n",
       "      <th>PC12</th>\n",
       "      <td>0.008903</td>\n",
       "      <td>-0.004863</td>\n",
       "      <td>0.016751</td>\n",
       "      <td>0.003440</td>\n",
       "      <td>0.706577</td>\n",
       "      <td>0.002441</td>\n",
       "      <td>-0.002389</td>\n",
       "      <td>0.000868</td>\n",
       "      <td>0.010748</td>\n",
       "      <td>0.000367</td>\n",
       "      <td>0.031504</td>\n",
       "      <td>-0.031475</td>\n",
       "      <td>-0.705862</td>\n",
       "    </tr>\n",
       "    <tr>\n",
       "      <th>PC13</th>\n",
       "      <td>0.001359</td>\n",
       "      <td>-0.000429</td>\n",
       "      <td>-0.000658</td>\n",
       "      <td>-0.000938</td>\n",
       "      <td>0.026277</td>\n",
       "      <td>0.001318</td>\n",
       "      <td>-0.001497</td>\n",
       "      <td>-0.001114</td>\n",
       "      <td>-0.001632</td>\n",
       "      <td>-0.000604</td>\n",
       "      <td>-0.706271</td>\n",
       "      <td>0.706491</td>\n",
       "      <td>-0.036739</td>\n",
       "    </tr>\n",
       "  </tbody>\n",
       "</table>\n",
       "</div>"
      ],
      "text/plain": [
       "           lat       lng  population  children       age    income     vit_d  \\\n",
       "PC1  -0.018834 -0.011011    0.028719  0.034537  0.084650 -0.019701 -0.001995   \n",
       "PC2   0.000913  0.009716   -0.029027  0.017244  0.700793 -0.019176  0.020340   \n",
       "PC3  -0.715570  0.274895    0.626046 -0.034510  0.011244  0.075776 -0.020176   \n",
       "PC4  -0.036559 -0.474659    0.295638  0.344621 -0.020860 -0.067301  0.526197   \n",
       "PC5   0.128188 -0.554592    0.250669  0.158969  0.010691  0.412381 -0.213021   \n",
       "PC6  -0.018260 -0.289613    0.142253  0.231131  0.011755 -0.149024 -0.366372   \n",
       "PC7  -0.039974  0.229759   -0.174676  0.427505  0.006632  0.651545 -0.208667   \n",
       "PC8  -0.005117  0.320779   -0.135732  0.717166 -0.017856 -0.162893  0.305325   \n",
       "PC9  -0.067661  0.056053   -0.083567 -0.131085 -0.013308  0.461862  0.061710   \n",
       "PC10 -0.039423  0.033702    0.038751  0.292473 -0.020631 -0.359436 -0.634109   \n",
       "PC11  0.679459  0.384029    0.615001 -0.006222 -0.001154  0.056064 -0.003265   \n",
       "PC12  0.008903 -0.004863    0.016751  0.003440  0.706577  0.002441 -0.002389   \n",
       "PC13  0.001359 -0.000429   -0.000658 -0.000938  0.026277  0.001318 -0.001497   \n",
       "\n",
       "      doc_visits  full_meals  vit_d_supplement  initial_days  total_charge  \\\n",
       "PC1    -0.006991   -0.020712          0.025381      0.699994      0.701146   \n",
       "PC2     0.015446    0.031960          0.014511     -0.089859     -0.079267   \n",
       "PC3     0.017291   -0.103248          0.029741     -0.022902     -0.020888   \n",
       "PC4     0.096735    0.454738         -0.262904     -0.007101     -0.003830   \n",
       "PC5     0.282211   -0.385982          0.377611     -0.018751     -0.019601   \n",
       "PC6    -0.820104   -0.050904         -0.097049     -0.017957     -0.019199   \n",
       "PC7     0.040698    0.062235         -0.508283      0.013322      0.012132   \n",
       "PC8    -0.076493   -0.238447          0.424062     -0.023812     -0.022769   \n",
       "PC9    -0.285582    0.590939          0.565530      0.008988      0.009702   \n",
       "PC10    0.381544    0.462602          0.137073     -0.007002     -0.005149   \n",
       "PC11   -0.056573    0.073982         -0.018434      0.000171      0.000729   \n",
       "PC12    0.000868    0.010748          0.000367      0.031504     -0.031475   \n",
       "PC13   -0.001114   -0.001632         -0.000604     -0.706271      0.706491   \n",
       "\n",
       "      additional_charges  \n",
       "PC1             0.085029  \n",
       "PC2             0.700745  \n",
       "PC3             0.013730  \n",
       "PC4            -0.004630  \n",
       "PC5             0.019713  \n",
       "PC6             0.016979  \n",
       "PC7             0.006236  \n",
       "PC8            -0.025023  \n",
       "PC9            -0.006886  \n",
       "PC10           -0.010633  \n",
       "PC11            0.020560  \n",
       "PC12           -0.705862  \n",
       "PC13           -0.036739  "
      ]
     },
     "execution_count": 15,
     "metadata": {},
     "output_type": "execute_result"
    }
   ],
   "source": [
    "pca = PCA()\n",
    "pc = pca.fit_transform(scaled_df)\n",
    "loading_matrix = pd.DataFrame(pca.components_, columns=con_df.columns, \n",
    "                              index=[f'PC{i+1}' for i in range(pca.n_components_)])\n",
    "loading_matrix"
   ]
  },
  {
   "cell_type": "code",
   "execution_count": 16,
   "id": "13e5ffb0",
   "metadata": {},
   "outputs": [
    {
     "data": {
      "text/plain": [
       "array([0.15349968, 0.13194741, 0.09438151, 0.08001254, 0.07978794,\n",
       "       0.07737552, 0.0772561 , 0.07613626, 0.07506779, 0.07441192,\n",
       "       0.05742498, 0.02179743, 0.00090091])"
      ]
     },
     "execution_count": 16,
     "metadata": {},
     "output_type": "execute_result"
    }
   ],
   "source": [
    "variance_ratio = pca.explained_variance_ratio_\n",
    "variance_ratio"
   ]
  },
  {
   "cell_type": "markdown",
   "id": "c043cccc",
   "metadata": {},
   "source": [
    "#### D2. Total Number of Principal Components"
   ]
  },
  {
   "cell_type": "code",
   "execution_count": 17,
   "id": "ee6feab5",
   "metadata": {},
   "outputs": [
    {
     "data": {
      "image/png": "[encoded data removed]",
      "text/plain": [
       "<Figure size 1300x600 with 1 Axes>"
      ]
     },
     "metadata": {},
     "output_type": "display_data"
    }
   ],
   "source": [
    "# Using Elbow Method to Determine the Principal Components\n",
    "\n",
    "principal_component = np.arange(pca.n_components_) + 1\n",
    "plt.figure(figsize=(13, 6))\n",
    "plt.plot(principal_component, variance_ratio, 'b-')\n",
    "plt.title('Elbow Method to Determine Principal Components', fontsize=14)\n",
    "plt.xlabel('Number of Components', fontsize=14)\n",
    "plt.ylabel('Variance Proportion', fontsize=14)\n",
    "plt.grid()\n",
    "plt.show()"
   ]
  },
  {
   "cell_type": "markdown",
   "id": "352db60b",
   "metadata": {},
   "source": [
    "From the elbow method I would conclude that there are four principal components."
   ]
  },
  {
   "cell_type": "code",
   "execution_count": 18,
   "id": "021c3a90",
   "metadata": {},
   "outputs": [
    {
     "name": "stdout",
     "output_type": "stream",
     "text": [
      "{'PC1': 1, 'PC2': 2, 'PC3': 3, 'PC4': 4}\n"
     ]
    }
   ],
   "source": [
    "print(dict(zip(['PC1', 'PC2', 'PC3', 'PC4'], principal_component)))"
   ]
  },
  {
   "cell_type": "code",
   "execution_count": 19,
   "id": "b5765843",
   "metadata": {},
   "outputs": [
    {
     "name": "stdout",
     "output_type": "stream",
     "text": [
      "Variance of the first 4 principal components\n",
      "[1.99569541 1.71548793 1.22708234 1.0402671 ]\n"
     ]
    }
   ],
   "source": [
    "print('Variance of the first 4 principal components')\n",
    "print(pca.explained_variance_[:4])"
   ]
  },
  {
   "cell_type": "code",
   "execution_count": 20,
   "id": "43141990",
   "metadata": {},
   "outputs": [
    {
     "name": "stdout",
     "output_type": "stream",
     "text": [
      "Total variance captured by the first 4 principal components: 0.4598411483762099\n"
     ]
    }
   ],
   "source": [
    "total_variance_elbow = np.sum(variance_ratio[:4])\n",
    "print(\"Total variance captured by the first 4 principal components:\", total_variance_elbow)"
   ]
  },
  {
   "cell_type": "code",
   "execution_count": 21,
   "id": "3dbd037d",
   "metadata": {},
   "outputs": [
    {
     "data": {
      "text/plain": [
       "array([1.99569541, 1.71548793, 1.22708234, 1.0402671 , 1.03734702,\n",
       "       1.00598239, 1.0044298 , 0.9898703 , 0.97597888, 0.96745167,\n",
       "       0.74659936, 0.28339498, 0.01171295])"
      ]
     },
     "execution_count": 21,
     "metadata": {},
     "output_type": "execute_result"
    }
   ],
   "source": [
    "variance = pca.explained_variance_\n",
    "variance"
   ]
  },
  {
   "cell_type": "code",
   "execution_count": 22,
   "id": "5bd04cf1",
   "metadata": {},
   "outputs": [
    {
     "data": {
      "image/png": "[encoded data removed]",
      "text/plain": [
       "<Figure size 1300x600 with 1 Axes>"
      ]
     },
     "metadata": {},
     "output_type": "display_data"
    }
   ],
   "source": [
    "# Using the Kaiser Criterion to determine the Principal Components\n",
    "\n",
    "plt.figure(figsize=(13, 6))\n",
    "plt.plot(principal_component, variance, 'b')\n",
    "plt.title('Kaiser Criterion', fontsize=14)\n",
    "plt.xlabel('Number of Components', fontsize=14)\n",
    "plt.ylabel('Eigenvalues', fontsize=14)\n",
    "plt.axhline(y=1, color='g', linestyle='dashdot')\n",
    "plt.grid()\n",
    "plt.show()"
   ]
  },
  {
   "cell_type": "markdown",
   "id": "a9c89ff5",
   "metadata": {},
   "source": [
    "From the Kaiser Criterion I would determine that there are 6 principal components."
   ]
  },
  {
   "cell_type": "code",
   "execution_count": 23,
   "id": "397556eb",
   "metadata": {},
   "outputs": [
    {
     "name": "stdout",
     "output_type": "stream",
     "text": [
      "{'PC1': 1, 'PC2': 2, 'PC3': 3, 'PC4': 4, 'PC5': 5, 'PC6': 6}\n"
     ]
    }
   ],
   "source": [
    "print(dict(zip(['PC1', 'PC2', 'PC3', 'PC4', 'PC5', 'PC6'], principal_component)))"
   ]
  },
  {
   "cell_type": "code",
   "execution_count": 24,
   "id": "e1a76eb2",
   "metadata": {},
   "outputs": [
    {
     "name": "stdout",
     "output_type": "stream",
     "text": [
      "Variance of the first 6 principal components:\n",
      "[1.99569541 1.71548793 1.22708234 1.0402671  1.03734702 1.00598239]\n"
     ]
    }
   ],
   "source": [
    "print('Variance of the first 6 principal components:')\n",
    "print(pca.explained_variance_[:6])"
   ]
  },
  {
   "cell_type": "code",
   "execution_count": 25,
   "id": "fcf07512",
   "metadata": {},
   "outputs": [
    {
     "name": "stdout",
     "output_type": "stream",
     "text": [
      "Total variance captured by the first 6 principal components: 0.6170046160828812\n"
     ]
    }
   ],
   "source": [
    "total_variance_elbow = np.sum(variance_ratio[:6])\n",
    "print(\"Total variance captured by the first 6 principal components:\", total_variance_elbow)"
   ]
  },
  {
   "cell_type": "markdown",
   "id": "763407e6",
   "metadata": {},
   "source": [
    "### D3. Variance of Principal Components\n",
    "\n",
    "Using the Elbow Method, I concluded that the first four principal components should be retained. The variance ratios, eigenvalues, and explained variance percentages for these components are as follows:\n",
    "\n",
    "- PC1: Variance Ratio: 0.1535, Eigenvalue: 1.9957, Explained Variance: 15.35%\n",
    "- PC2: Variance Ratio: 0.1319, Eigenvalue: 1.7155, Explained Variance: 13.19%\n",
    "- PC3: Variance Ratio: 0.0944, Eigenvalue: 1.2271, Explained Variance: 9.44%\n",
    "- PC4: Variance Ratio: 0.0800, Eigenvalue: 1.0403, Explained Variance: 8.00%\n",
    "\n",
    "By summing the variance ratios of the first four principal components, I determined that they explain 46% of the total variance in the data. This significant reduction from 13 to 4 dimensions retains nearly half of the dataset’s variance.\n",
    "\n",
    "Using the Kaiser Criterion, which suggests retaining components with eigenvalues greater than 1, I identified six principal components to keep. The variance ratios, eigenvalues, and explained variance percentages for these components are:\n",
    "\n",
    "- PC1: Variance Ratio: 0.1535, Eigenvalue: 1.9957, Explained Variance: 15.35%\n",
    "- PC2: Variance Ratio: 0.1319, Eigenvalue: 1.7155, Explained Variance: 13.19%\n",
    "- PC3: Variance Ratio: 0.0944, Eigenvalue: 1.2271, Explained Variance: 9.44%\n",
    "- PC4: Variance Ratio: 0.0800, Eigenvalue: 1.0403, Explained Variance: 8.00%\n",
    "- PC5: Variance Ratio: 0.0798, Eigenvalue: 1.0373, Explained Variance: 7.98%\n",
    "- PC6: Variance Ratio: 0.0774, Eigenvalue: 1.0060, Explained Variance: 7.74%\n",
    "\n",
    "Summing these variance ratios shows that the first six principal components explain 62% of the total variance. This greater portion of the dataset’s variance provides a more comprehensive reduction in dimensionality from 13 to 6, making the Kaiser Criterion's recommendation more suitable for further analysis."
   ]
  },
  {
   "cell_type": "code",
   "execution_count": 26,
   "id": "0efdfee4",
   "metadata": {},
   "outputs": [
    {
     "name": "stdout",
     "output_type": "stream",
     "text": [
      "Component       Variance Ratio          Eigenvalue        Explained Variance (%)\n",
      "--------------------------------------------------------------------------------\n",
      "PC1                     0.1535              1.9957                         15.35\n",
      "PC2                     0.1319              1.7155                         13.19\n",
      "PC3                     0.0944              1.2271                          9.44\n",
      "PC4                     0.0800              1.0403                          8.00\n",
      "PC5                     0.0798              1.0373                          7.98\n",
      "PC6                     0.0774              1.0060                          7.74\n"
     ]
    }
   ],
   "source": [
    "# Provided eigenvalues and explained variance ratios for the first 6 principal components\n",
    "eigenvalues = pca.explained_variance_[:6]\n",
    "variance_ratios = pca.explained_variance_ratio_[:6]\n",
    "\n",
    "# Calculate the explained variance percentages for the first six components\n",
    "explained_variances = [vr * 100 for vr in variance_ratios]\n",
    "\n",
    "print(f\"{'Component':<10}{'Variance Ratio':>20}{'Eigenvalue':>20}{'Explained Variance (%)':>30}\")\n",
    "print(\"-\" * 80)\n",
    "for i, (vr, ev, evp) in enumerate(zip(variance_ratios, eigenvalues, explained_variances), 1):\n",
    "    print(f\"PC{i:<8}{vr:>20.4f}{ev:>20.4f}{evp:>30.2f}\")"
   ]
  },
  {
   "cell_type": "markdown",
   "id": "bad2e4e1",
   "metadata": {},
   "source": [
    "D4. Total Variance of Principal Components\n",
    "\n",
    "As seen above the total variance ratio of the first six principal components is 0.62, which represents 62% of the total variance of the dataset can be explained by the first six principal components. "
   ]
  },
  {
   "cell_type": "markdown",
   "id": "976efd75",
   "metadata": {},
   "source": [
    "D5. Summary of Results\n",
    "\n",
    "From this PCA analysis I have concluded that by using the Kaiser criterion of keeping only PCs that have eigenvalues above 1 that there are six principal compondents to keep for further analysis of the dataset. These 6 components explain 62% of the variance in the dataset while cutting down the dimensionality to 6 which will lead to better models and avoid overfitting. While it is not within the scope of this project I have included below the loading matrix for the six principal components and the key variables for each. This would be the next step for further analysis to determine which variables will most impact patient outcomes and the patient population."
   ]
  },
  {
   "cell_type": "code",
   "execution_count": 27,
   "id": "c3e0fcfa",
   "metadata": {},
   "outputs": [
    {
     "name": "stdout",
     "output_type": "stream",
     "text": [
      "          lat       lng  population  children       age    income     vit_d  \\\n",
      "PC1 -0.018834 -0.011011    0.028719  0.034537  0.084650 -0.019701 -0.001995   \n",
      "PC2  0.000913  0.009716   -0.029027  0.017244  0.700793 -0.019176  0.020340   \n",
      "PC3 -0.715570  0.274895    0.626046 -0.034510  0.011244  0.075776 -0.020176   \n",
      "PC4 -0.036559 -0.474659    0.295638  0.344621 -0.020860 -0.067301  0.526197   \n",
      "PC5  0.128188 -0.554592    0.250669  0.158969  0.010691  0.412381 -0.213021   \n",
      "PC6 -0.018260 -0.289613    0.142253  0.231131  0.011755 -0.149024 -0.366372   \n",
      "\n",
      "     doc_visits  full_meals  vit_d_supplement  initial_days  total_charge  \\\n",
      "PC1   -0.006991   -0.020712          0.025381      0.699994      0.701146   \n",
      "PC2    0.015446    0.031960          0.014511     -0.089859     -0.079267   \n",
      "PC3    0.017291   -0.103248          0.029741     -0.022902     -0.020888   \n",
      "PC4    0.096735    0.454738         -0.262904     -0.007101     -0.003830   \n",
      "PC5    0.282211   -0.385982          0.377611     -0.018751     -0.019601   \n",
      "PC6   -0.820104   -0.050904         -0.097049     -0.017957     -0.019199   \n",
      "\n",
      "     additional_charges  \n",
      "PC1            0.085029  \n",
      "PC2            0.700745  \n",
      "PC3            0.013730  \n",
      "PC4           -0.004630  \n",
      "PC5            0.019713  \n",
      "PC6            0.016979  \n",
      "PC1 key variables: ['total_charge', 'initial_days', 'additional_charges']\n",
      "PC2 key variables: ['age', 'additional_charges', 'initial_days']\n",
      "PC3 key variables: ['lat', 'population', 'lng']\n",
      "PC4 key variables: ['vit_d', 'lng', 'full_meals']\n",
      "PC5 key variables: ['lng', 'income', 'full_meals']\n",
      "PC6 key variables: ['doc_visits', 'vit_d', 'lng']\n"
     ]
    }
   ],
   "source": [
    "# Get the loading matrix\n",
    "loading_matrix = pd.DataFrame(pca.components_, columns=con_df.columns, index=[f'PC{i+1}' for i in range(len(pca.components_))])\n",
    "\n",
    "# Display the loading matrix for the first six principal components\n",
    "print(loading_matrix.head(6))\n",
    "\n",
    "# Interpret key variables for each PC\n",
    "for i in range(6):\n",
    "    pc_loadings = loading_matrix.iloc[i]\n",
    "    sorted_loadings = pc_loadings.abs().sort_values(ascending=False)\n",
    "    key_variables = sorted_loadings.index[:3]  # Top 3 variables\n",
    "    print(f'PC{i+1} key variables: {key_variables.tolist()}')"
   ]
  },
  {
   "cell_type": "markdown",
   "id": "02d78349",
   "metadata": {},
   "source": [
    "### Sources\n",
    "\n",
    "For the cleaning of the dataset I have used my previous PA's throughout this program. \n",
    "\n",
    "The code for much of the PCA was developed using the DataCamp courses provided and the Panopto videos from the course instructor. \n",
    "\n",
    "Further interpretation and explaination of the PCA method were found in the course resources. \n",
    "\n",
    "> DataCamp. (n.d.). Custom Data Mining II. Retrieved June 30, 2024, from https://app.datacamp.com/learn/custom-tracks/custom-data-mining-ii\n",
    "\n",
    "> Panopto. (n.d.). PCA Python Tools (Dr. Kesselly Kamara). Retrieved June 30, 2024, from https://wgu.hosted.panopto.com/Panopto/Pages/Viewer.aspx?id=4406550f-d37b-40b1-9783-b14001098759\n",
    "\n",
    "> Panopto. (n.d.). PCA Data Preprocessing (Dr. Kesselly Kamara). Retrieved June 30, 2024, from https://wgu.hosted.panopto.com/Panopto/Pages/Viewer.aspx?id=b094cb1f-ba6f-40c1-a033-b140010a4314\n",
    "\n",
    "> Panopto. (n.d.). Create PCA Object and Analyze Data (Dr. Kesselly Kamara). Retrieved June 30, 2024, from https://wgu.hosted.panopto.com/Panopto/Pages/Viewer.aspx?id=d656d2c9-9409-41e0-a01c-b14001099afa\n",
    "\n",
    "> Panopto. (n.d.). Interpret PCA Results (Dr. Kesselly Kamara). Retrieved June 30, 2024, from https://wgu.hosted.panopto.com/Panopto/Pages/Viewer.aspx?id=bc874da5-bef1-4468-b829-b1400109a36d\n",
    "\n",
    "> Panopto. (n.d.). Summary of PCA (Dr. Kesselly Kamara). Retrieved June 30, 2024, from https://wgu.hosted.panopto.com/Panopto/Pages/Viewer.aspx?id=76db963a-9c7b-476f-af92-b150000eb58d\n",
    "\n",
    "> DataCamp. (01/2020). Principal Component Analysis (PCA) in Python Tutorial (Aditya Sharma). Retrieved June 30, 2024, from https://www.datacamp.com/tutorial/principal-component-analysis-in-python\n",
    "\n",
    "> Jaadi, Z. (2024, February 23). A step-by-step explanation of principal component analysis (PCA). Built In. Retrieved from https://builtin.com/data-science/step-step-explanation-principal-component-analysis"
   ]
  }
 ],
 "metadata": {
  "kernelspec": {
   "display_name": "Python 3 (ipykernel)",
   "language": "python",
   "name": "python3"
  },
  "language_info": {
   "codemirror_mode": {
    "name": "ipython",
    "version": 3
   },
   "file_extension": ".py",
   "mimetype": "text/x-python",
   "name": "python",
   "nbconvert_exporter": "python",
   "pygments_lexer": "ipython3",
   "version": "3.11.4"
  }
 },
 "nbformat": 4,
 "nbformat_minor": 5
}
