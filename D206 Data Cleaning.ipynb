{
 "cells": [
  {
   "cell_type": "markdown",
   "id": "5ac25da8",
   "metadata": {},
   "source": [
    "# **Medical Readmission**\n",
    "## WGU D206: Data Cleaning\n",
    "### Natalie Toler\n",
    "\n",
    "---------\n",
    "\n",
    "## Table of Contents\n",
    "### Part 1: Research Questions and Variables\n",
    "#### A. Research Question\n",
    "#### B. Variables\n",
    "\n",
    "### Part 2: Data-Cleaning Plan\n",
    "#### C. Detection\n",
    ">##### 1. Methods\n",
    ">##### 2. Why\n",
    ">##### 3. Programming Language\n",
    ">##### 4. Code\n",
    "\n",
    "### Part 3: Data Cleaning\n",
    "#### D. Treatment\n",
    ">##### 1. Findings\n",
    ">##### 2. Why\n",
    ">##### 3. Results\n",
    ">##### 4. Code\n",
    ">##### 5. CSV File\n",
    ">##### 6. Disadvantages\n",
    ">##### 7. Challenges\n",
    "\n",
    "### Part 4: PCA and Sources\n",
    "#### E. PCA\n",
    ">##### 1. Variables and Output\n",
    ">##### 2. PCs to Keep\n",
    ">##### 3. PCA Benefits\n",
    "#### F. Panopto Recording\n",
    "#### G. Code Sources\n",
    "#### H. References"
   ]
  },
  {
   "cell_type": "markdown",
   "id": "292e1274",
   "metadata": {},
   "source": [
    "### Part 1: Research Question and Variables"
   ]
  },
  {
   "cell_type": "code",
   "execution_count": 1,
   "id": "82888989",
   "metadata": {},
   "outputs": [
    {
     "data": {
      "text/html": [
       "<div>\n",
       "<style scoped>\n",
       "    .dataframe tbody tr th:only-of-type {\n",
       "        vertical-align: middle;\n",
       "    }\n",
       "\n",
       "    .dataframe tbody tr th {\n",
       "        vertical-align: top;\n",
       "    }\n",
       "\n",
       "    .dataframe thead th {\n",
       "        text-align: right;\n",
       "    }\n",
       "</style>\n",
       "<table border=\"1\" class=\"dataframe\">\n",
       "  <thead>\n",
       "    <tr style=\"text-align: right;\">\n",
       "      <th></th>\n",
       "      <th>Unnamed: 0</th>\n",
       "      <th>CaseOrder</th>\n",
       "      <th>Customer_id</th>\n",
       "      <th>Interaction</th>\n",
       "      <th>UID</th>\n",
       "      <th>City</th>\n",
       "      <th>State</th>\n",
       "      <th>County</th>\n",
       "      <th>Zip</th>\n",
       "      <th>Lat</th>\n",
       "      <th>...</th>\n",
       "      <th>TotalCharge</th>\n",
       "      <th>Additional_charges</th>\n",
       "      <th>Item1</th>\n",
       "      <th>Item2</th>\n",
       "      <th>Item3</th>\n",
       "      <th>Item4</th>\n",
       "      <th>Item5</th>\n",
       "      <th>Item6</th>\n",
       "      <th>Item7</th>\n",
       "      <th>Item8</th>\n",
       "    </tr>\n",
       "  </thead>\n",
       "  <tbody>\n",
       "    <tr>\n",
       "      <th>0</th>\n",
       "      <td>1</td>\n",
       "      <td>1</td>\n",
       "      <td>C412403</td>\n",
       "      <td>8cd49b13-f45a-4b47-a2bd-173ffa932c2f</td>\n",
       "      <td>3a83ddb66e2ae73798bdf1d705dc0932</td>\n",
       "      <td>Eva</td>\n",
       "      <td>AL</td>\n",
       "      <td>Morgan</td>\n",
       "      <td>35621</td>\n",
       "      <td>34.34960</td>\n",
       "      <td>...</td>\n",
       "      <td>3191.048774</td>\n",
       "      <td>17939.403420</td>\n",
       "      <td>3</td>\n",
       "      <td>3</td>\n",
       "      <td>2</td>\n",
       "      <td>2</td>\n",
       "      <td>4</td>\n",
       "      <td>3</td>\n",
       "      <td>3</td>\n",
       "      <td>4</td>\n",
       "    </tr>\n",
       "    <tr>\n",
       "      <th>1</th>\n",
       "      <td>2</td>\n",
       "      <td>2</td>\n",
       "      <td>Z919181</td>\n",
       "      <td>d2450b70-0337-4406-bdbb-bc1037f1734c</td>\n",
       "      <td>176354c5eef714957d486009feabf195</td>\n",
       "      <td>Marianna</td>\n",
       "      <td>FL</td>\n",
       "      <td>Jackson</td>\n",
       "      <td>32446</td>\n",
       "      <td>30.84513</td>\n",
       "      <td>...</td>\n",
       "      <td>4214.905346</td>\n",
       "      <td>17612.998120</td>\n",
       "      <td>3</td>\n",
       "      <td>4</td>\n",
       "      <td>3</td>\n",
       "      <td>4</td>\n",
       "      <td>4</td>\n",
       "      <td>4</td>\n",
       "      <td>3</td>\n",
       "      <td>3</td>\n",
       "    </tr>\n",
       "    <tr>\n",
       "      <th>2</th>\n",
       "      <td>3</td>\n",
       "      <td>3</td>\n",
       "      <td>F995323</td>\n",
       "      <td>a2057123-abf5-4a2c-abad-8ffe33512562</td>\n",
       "      <td>e19a0fa00aeda885b8a436757e889bc9</td>\n",
       "      <td>Sioux Falls</td>\n",
       "      <td>SD</td>\n",
       "      <td>Minnehaha</td>\n",
       "      <td>57110</td>\n",
       "      <td>43.54321</td>\n",
       "      <td>...</td>\n",
       "      <td>2177.586768</td>\n",
       "      <td>17505.192460</td>\n",
       "      <td>2</td>\n",
       "      <td>4</td>\n",
       "      <td>4</td>\n",
       "      <td>4</td>\n",
       "      <td>3</td>\n",
       "      <td>4</td>\n",
       "      <td>3</td>\n",
       "      <td>3</td>\n",
       "    </tr>\n",
       "    <tr>\n",
       "      <th>3</th>\n",
       "      <td>4</td>\n",
       "      <td>4</td>\n",
       "      <td>A879973</td>\n",
       "      <td>1dec528d-eb34-4079-adce-0d7a40e82205</td>\n",
       "      <td>cd17d7b6d152cb6f23957346d11c3f07</td>\n",
       "      <td>New Richland</td>\n",
       "      <td>MN</td>\n",
       "      <td>Waseca</td>\n",
       "      <td>56072</td>\n",
       "      <td>43.89744</td>\n",
       "      <td>...</td>\n",
       "      <td>2465.118965</td>\n",
       "      <td>12993.437350</td>\n",
       "      <td>3</td>\n",
       "      <td>5</td>\n",
       "      <td>5</td>\n",
       "      <td>3</td>\n",
       "      <td>4</td>\n",
       "      <td>5</td>\n",
       "      <td>5</td>\n",
       "      <td>5</td>\n",
       "    </tr>\n",
       "    <tr>\n",
       "      <th>4</th>\n",
       "      <td>5</td>\n",
       "      <td>5</td>\n",
       "      <td>C544523</td>\n",
       "      <td>5885f56b-d6da-43a3-8760-83583af94266</td>\n",
       "      <td>d2f0425877b10ed6bb381f3e2579424a</td>\n",
       "      <td>West Point</td>\n",
       "      <td>VA</td>\n",
       "      <td>King William</td>\n",
       "      <td>23181</td>\n",
       "      <td>37.59894</td>\n",
       "      <td>...</td>\n",
       "      <td>1885.655137</td>\n",
       "      <td>3716.525786</td>\n",
       "      <td>2</td>\n",
       "      <td>1</td>\n",
       "      <td>3</td>\n",
       "      <td>3</td>\n",
       "      <td>5</td>\n",
       "      <td>3</td>\n",
       "      <td>4</td>\n",
       "      <td>3</td>\n",
       "    </tr>\n",
       "  </tbody>\n",
       "</table>\n",
       "<p>5 rows × 53 columns</p>\n",
       "</div>"
      ],
      "text/plain": [
       "   Unnamed: 0  CaseOrder Customer_id                           Interaction  \\\n",
       "0           1          1     C412403  8cd49b13-f45a-4b47-a2bd-173ffa932c2f   \n",
       "1           2          2     Z919181  d2450b70-0337-4406-bdbb-bc1037f1734c   \n",
       "2           3          3     F995323  a2057123-abf5-4a2c-abad-8ffe33512562   \n",
       "3           4          4     A879973  1dec528d-eb34-4079-adce-0d7a40e82205   \n",
       "4           5          5     C544523  5885f56b-d6da-43a3-8760-83583af94266   \n",
       "\n",
       "                                UID          City State        County    Zip  \\\n",
       "0  3a83ddb66e2ae73798bdf1d705dc0932           Eva    AL        Morgan  35621   \n",
       "1  176354c5eef714957d486009feabf195      Marianna    FL       Jackson  32446   \n",
       "2  e19a0fa00aeda885b8a436757e889bc9   Sioux Falls    SD     Minnehaha  57110   \n",
       "3  cd17d7b6d152cb6f23957346d11c3f07  New Richland    MN        Waseca  56072   \n",
       "4  d2f0425877b10ed6bb381f3e2579424a    West Point    VA  King William  23181   \n",
       "\n",
       "        Lat  ...  TotalCharge  Additional_charges Item1 Item2 Item3  Item4  \\\n",
       "0  34.34960  ...  3191.048774        17939.403420     3     3     2      2   \n",
       "1  30.84513  ...  4214.905346        17612.998120     3     4     3      4   \n",
       "2  43.54321  ...  2177.586768        17505.192460     2     4     4      4   \n",
       "3  43.89744  ...  2465.118965        12993.437350     3     5     5      3   \n",
       "4  37.59894  ...  1885.655137         3716.525786     2     1     3      3   \n",
       "\n",
       "   Item5 Item6 Item7  Item8  \n",
       "0      4     3     3      4  \n",
       "1      4     4     3      3  \n",
       "2      3     4     3      3  \n",
       "3      4     5     5      5  \n",
       "4      5     3     4      3  \n",
       "\n",
       "[5 rows x 53 columns]"
      ]
     },
     "execution_count": 1,
     "metadata": {},
     "output_type": "execute_result"
    }
   ],
   "source": [
    "# Before starting I will set up the space, loading in the needed libraries and data that will be used\n",
    "import pandas as pd\n",
    "import numpy as np\n",
    "import matplotlib.pyplot as plt\n",
    "import missingno\n",
    "import seaborn as sb\n",
    "from sklearn.impute import SimpleImputer\n",
    "from sklearn.decomposition import PCA\n",
    "%matplotlib inline\n",
    "\n",
    "df=pd.read_csv('medical_raw_data.csv', index_col=False)\n",
    "df.head() # I want to see a snapshot of the data"
   ]
  },
  {
   "cell_type": "markdown",
   "id": "81d7d872",
   "metadata": {},
   "source": [
    "#### A. The Research Question\n",
    "\n",
    "**What factors play a role in medical readmission?**\n",
    "\n",
    "The business problem presented here is medical readmission. Patience being readmitted to hospitals is fined by the Centers for Medicare and Medicaid Services and so getting the numbers decreased is an important task for hospitals. The data provided is from a medical hospital chain across the United States who are looking to decrease their readmission count. Before a business plan can be created we first need to understand what variables affect the readmission rate. Therefore to start the analysis my research question is: which of the provided variables affects readmission rate? In order to find out this information I will need to clean the entire dataset so that each variable can be looked at as accurately as possible. From this further analysis would be done on the variables that are found to have significant affects on readmission. "
   ]
  },
  {
   "cell_type": "markdown",
   "id": "595925d3",
   "metadata": {},
   "source": [
    "#### B. The Variables\n",
    "\n",
    "The dataset is comprised of 10,000 customers and 50 variables. \n",
    "\n",
    "* CaseOrder - This variable is just to preserve the order of the data.\n",
    "* Customer_id - Each row should have a unique customer_id which indentifies individual patients. \n",
    "* Interaction and UID - These two variables are unique to each patient and the procedures and admissions.\n",
    "\n",
    "Let's look at a sample of these four variables in the dataset and grab their datatype and other info."
   ]
  },
  {
   "cell_type": "code",
   "execution_count": 2,
   "id": "e169560c",
   "metadata": {},
   "outputs": [
    {
     "name": "stdout",
     "output_type": "stream",
     "text": [
      "      CaseOrder Customer_id                           Interaction  \\\n",
      "9260       9261     S115189  5aa51250-b45f-4b32-a589-74dde0a15076   \n",
      "2573       2574     E784001  217dde07-1ac2-439b-b8e2-ba1f558a118b   \n",
      "3505       3506     G620554  ec9b8236-6b51-488e-abba-30f73059cc24   \n",
      "9628       9629     X941735  1cdc9fbd-873c-4571-9f9f-1621b569f5d5   \n",
      "5214       5215     J495095  96cf0d46-c7c7-420e-b432-a789cc68086c   \n",
      "\n",
      "                                   UID  \n",
      "9260  9754fe3ca135ac7bac630570e20ba662  \n",
      "2573  e9e77960782fa5e80756f6dcbfb14620  \n",
      "3505  6cb80c307d5dde4a307ed50977d2e9c7  \n",
      "9628  d3d7ec8030999253444f8032f28ba112  \n",
      "5214  6f522d96efa6b39e1741816f98507611  \n"
     ]
    }
   ],
   "source": [
    "id_variables = ['CaseOrder', 'Customer_id', 'Interaction', 'UID']\n",
    "sample = df[id_variables].sample(n=5)\n",
    "print(sample)"
   ]
  },
  {
   "cell_type": "code",
   "execution_count": 3,
   "id": "49413985",
   "metadata": {},
   "outputs": [
    {
     "name": "stdout",
     "output_type": "stream",
     "text": [
      "<class 'pandas.core.frame.DataFrame'>\n",
      "RangeIndex: 10000 entries, 0 to 9999\n",
      "Data columns (total 4 columns):\n",
      " #   Column       Non-Null Count  Dtype \n",
      "---  ------       --------------  ----- \n",
      " 0   CaseOrder    10000 non-null  int64 \n",
      " 1   Customer_id  10000 non-null  object\n",
      " 2   Interaction  10000 non-null  object\n",
      " 3   UID          10000 non-null  object\n",
      "dtypes: int64(1), object(3)\n",
      "memory usage: 312.6+ KB\n"
     ]
    }
   ],
   "source": [
    "id_variables = df[id_variables]\n",
    "id_variables.info()"
   ]
  },
  {
   "cell_type": "markdown",
   "id": "4af5587a",
   "metadata": {},
   "source": [
    "As we can see here these variables are qualitative. The CaseOrder column is an index and not truly a variable. Customer_id, Interaction, and UID however are qualitative variables that will be used. CaseOrder is stored as an Int which is fine because we won't be using it in any analysis. The other three variables, Customer_id, Interaction, and UID are stored appropriately as objects."
   ]
  },
  {
   "cell_type": "markdown",
   "id": "be64b459",
   "metadata": {},
   "source": [
    "The next set of variables are customer demographics. These include City, state, county, zip code and latitude and longitude which all identify where a patient has for their billing and assumingly correlates fairly well to where the patient lives. We also have variables for population which is the population, based on census data, within a mile radius of the patient's address, area which is the type of community, whether rural, urban, or suburban, again based on census data. And the TimeZone the patient lives within. City, state, county, zip code, area, and timezone are all qualitative variables. While latitude, longitude, and population are quantitative. \n",
    "\n",
    "Let's take a look at a sample of these locational variables. "
   ]
  },
  {
   "cell_type": "code",
   "execution_count": 4,
   "id": "157e8d86",
   "metadata": {},
   "outputs": [
    {
     "name": "stdout",
     "output_type": "stream",
     "text": [
      "              City State      County    Zip       Lat        Lng  Population  \\\n",
      "422      Hollywood    FL     Broward  33027  25.98245  -80.34359       60191   \n",
      "3992      Superior    NE    Nuckolls  68978  40.06335  -98.09144        2153   \n",
      "7504  New Richmond    IN  Montgomery  47967  40.19668  -87.00164         564   \n",
      "1827     Talbotton    GA      Talbot  31827  32.68709  -84.52690        2174   \n",
      "6191      Fairview    MT    Richland  59221  47.92807 -104.19223        1870   \n",
      "\n",
      "          Area                      Timezone  \n",
      "422      Urban              America/New_York  \n",
      "3992     Rural               America/Chicago  \n",
      "7504     Rural  America/Indiana/Indianapolis  \n",
      "1827     Urban              America/New_York  \n",
      "6191  Suburban                America/Denver  \n"
     ]
    }
   ],
   "source": [
    "location_variables = ['City', 'State', 'County', 'Zip', 'Lat', 'Lng', 'Population', 'Area', 'Timezone']\n",
    "sample = df[location_variables].sample(n=5)\n",
    "print(sample)"
   ]
  },
  {
   "cell_type": "code",
   "execution_count": 5,
   "id": "839453b8",
   "metadata": {},
   "outputs": [
    {
     "name": "stdout",
     "output_type": "stream",
     "text": [
      "<class 'pandas.core.frame.DataFrame'>\n",
      "RangeIndex: 10000 entries, 0 to 9999\n",
      "Data columns (total 9 columns):\n",
      " #   Column      Non-Null Count  Dtype  \n",
      "---  ------      --------------  -----  \n",
      " 0   City        10000 non-null  object \n",
      " 1   State       10000 non-null  object \n",
      " 2   County      10000 non-null  object \n",
      " 3   Zip         10000 non-null  int64  \n",
      " 4   Lat         10000 non-null  float64\n",
      " 5   Lng         10000 non-null  float64\n",
      " 6   Population  10000 non-null  int64  \n",
      " 7   Area        10000 non-null  object \n",
      " 8   Timezone    10000 non-null  object \n",
      "dtypes: float64(2), int64(2), object(5)\n",
      "memory usage: 703.3+ KB\n"
     ]
    }
   ],
   "source": [
    "location_variables = df[location_variables]\n",
    "location_variables.info()"
   ]
  },
  {
   "cell_type": "markdown",
   "id": "dbc0c038",
   "metadata": {},
   "source": [
    "The rest of the patient demographic variables are specific to a patient's job and home life. Job states the job of the patient or that of the primary insurance holder. Children is the number of children that patient reports to have. Age is the patient's age at the time of admission. Education is the highest earned degree of the patient. Employment is the employment status of the patient. Income is the annual income of the patient or the primary insurance holder. Marital is the marital status of the patient or primary insurance holder. And the last variable is gender which is the self-identified gender of the parient with only three option, Male, Female, and non-binary. \n",
    "\n",
    "Of these variables Job, Education, Employment, Marital, and Gender are qualitative variables. While Children, Age, and Income are quantitative. "
   ]
  },
  {
   "cell_type": "code",
   "execution_count": 6,
   "id": "6c8491af",
   "metadata": {},
   "outputs": [
    {
     "name": "stdout",
     "output_type": "stream",
     "text": [
      "                              Job  Children   Age  \\\n",
      "2657       Advertising copywriter       NaN   NaN   \n",
      "6999  Scientist, research (maths)       0.0  77.0   \n",
      "9247                 Toxicologist       1.0   NaN   \n",
      "3795         Sports administrator       1.0  19.0   \n",
      "4595           Arts administrator       3.0  50.0   \n",
      "\n",
      "                                     Education  Employment    Income  \\\n",
      "2657               Nursery School to 8th Grade   Full Time  79870.64   \n",
      "6999             GED or Alternative Credential  Unemployed   5612.38   \n",
      "9247            Some College, Less than 1 Year     Retired  22516.10   \n",
      "3795  Some College, 1 or More Years, No Degree   Full Time  33080.23   \n",
      "4595                           Master's Degree   Part Time  48666.80   \n",
      "\n",
      "            Marital  Gender  \n",
      "2657       Divorced  Female  \n",
      "6999       Divorced  Female  \n",
      "9247        Married  Female  \n",
      "3795      Separated  Female  \n",
      "4595  Never Married    Male  \n"
     ]
    }
   ],
   "source": [
    "demographic_variables = ['Job', 'Children', 'Age', 'Education', 'Employment', 'Income', 'Marital', 'Gender']\n",
    "sample = df[demographic_variables].sample(n=5)\n",
    "print(sample)"
   ]
  },
  {
   "cell_type": "code",
   "execution_count": 7,
   "id": "92a17e07",
   "metadata": {},
   "outputs": [
    {
     "name": "stdout",
     "output_type": "stream",
     "text": [
      "<class 'pandas.core.frame.DataFrame'>\n",
      "RangeIndex: 10000 entries, 0 to 9999\n",
      "Data columns (total 8 columns):\n",
      " #   Column      Non-Null Count  Dtype  \n",
      "---  ------      --------------  -----  \n",
      " 0   Job         10000 non-null  object \n",
      " 1   Children    7412 non-null   float64\n",
      " 2   Age         7586 non-null   float64\n",
      " 3   Education   10000 non-null  object \n",
      " 4   Employment  10000 non-null  object \n",
      " 5   Income      7536 non-null   float64\n",
      " 6   Marital     10000 non-null  object \n",
      " 7   Gender      10000 non-null  object \n",
      "dtypes: float64(3), object(5)\n",
      "memory usage: 625.1+ KB\n"
     ]
    }
   ],
   "source": [
    "demographic_variables = df[demographic_variables]\n",
    "demographic_variables.info()"
   ]
  },
  {
   "cell_type": "markdown",
   "id": "9affaee8",
   "metadata": {},
   "source": [
    "The third group of variables are about the patient's medical situation. This starts with the important variable of 'ReAdmis' which is whether the patient was readmitted within a month of release or not. This is a qualitative yes/no binary. \n",
    "\n",
    "VitD_levels are the vitamin D levels of the patient in ng/mL. Doc_visits is the number of times the primary physician visited the patient. Full_meals_eaten is the number of meals the patient ate. VitD_supp is the number of times that vitamin D suppliments were given to the patient. These are all quanitative variables. \n",
    "\n",
    "Soft_drink is a yes/no binary whether the patient drinks three or more soft drinks a day on average. Initial_admin is what the patient was initially admitted to hospital for. HighBlood is whether the patient has high blood pressure with a yes/no binary instead of numbers. Stroke is whether the patient has ever had a stroke. Complication_risk is the rating for complications for the patient. Overweight is whether the paitent is considered overwheight. Arthritis, diabetes, hyperlipidemia, Backpain, Anxiety, allergic_rhinitis, reflux_esophagitis, and Asthma are all yes/no binaries if the patient has those conditions. Services is the primary service a patient recieved. These are all qualitative variables. \n",
    "\n",
    "Initial_days are the number of days the patients was in hospital for the initial visit. Total Charge is the amount that patient is charged, however this number is developed by taking the average charge per patient divided by the number of days they were in hospital. Additional_charges are the average amount charged for specialized treatments."
   ]
  },
  {
   "cell_type": "code",
   "execution_count": 8,
   "id": "7cd59658",
   "metadata": {},
   "outputs": [
    {
     "name": "stdout",
     "output_type": "stream",
     "text": [
      "     ReAdmis  VitD_levels  Doc_visits  Full_meals_eaten  VitD_supp Soft_drink  \\\n",
      "248       No    14.704421           5                 0          1         No   \n",
      "7060      No    17.466200           5                 0          0         No   \n",
      "8168      No    17.310000           6                 1          0         No   \n",
      "8849     Yes    13.113454           4                 0          1        NaN   \n",
      "7158     Yes    20.664207           4                 2          0        Yes   \n",
      "\n",
      "              Initial_admin HighBlood Stroke Complication_risk  ...  \\\n",
      "248      Elective Admission       Yes     No            Medium  ...   \n",
      "7060     Elective Admission        No     No               Low  ...   \n",
      "8168    Emergency Admission        No     No            Medium  ...   \n",
      "8849  Observation Admission        No     No              High  ...   \n",
      "7158    Emergency Admission        No    Yes              High  ...   \n",
      "\n",
      "      Hyperlipidemia BackPain Anxiety Allergic_rhinitis Reflux_esophagitis  \\\n",
      "248               No      Yes     0.0                No                Yes   \n",
      "7060              No      Yes     0.0                No                Yes   \n",
      "8168              No       No     1.0               Yes                Yes   \n",
      "8849              No      Yes     0.0                No                Yes   \n",
      "7158             Yes       No     1.0                No                 No   \n",
      "\n",
      "      Asthma     Services Initial_days  TotalCharge Additional_charges  \n",
      "248       No  Intravenous     8.658415  2327.365348       14855.771490  \n",
      "7060      No   Blood Work    37.271933  5252.529451       11041.586580  \n",
      "8168      No   Blood Work    45.698697  6993.922581        8437.662967  \n",
      "8849      No   Blood Work    70.472707  7464.199981        6954.938917  \n",
      "7158     Yes   Blood Work    67.696723  8949.093224       11700.643630  \n",
      "\n",
      "[5 rows x 23 columns]\n"
     ]
    }
   ],
   "source": [
    "medical_demographic = ['ReAdmis', 'VitD_levels', 'Doc_visits', 'Full_meals_eaten', 'VitD_supp', 'Soft_drink', 'Initial_admin', 'HighBlood', 'Stroke', 'Complication_risk', 'Overweight', 'Arthritis', 'Diabetes', 'Hyperlipidemia', 'BackPain', 'Anxiety', 'Allergic_rhinitis', 'Reflux_esophagitis', 'Asthma', 'Services', 'Initial_days', 'TotalCharge', 'Additional_charges']\n",
    "sample = df[medical_demographic].sample(n=5)\n",
    "print(sample)"
   ]
  },
  {
   "cell_type": "code",
   "execution_count": 9,
   "id": "38d20967",
   "metadata": {},
   "outputs": [
    {
     "name": "stdout",
     "output_type": "stream",
     "text": [
      "<class 'pandas.core.frame.DataFrame'>\n",
      "RangeIndex: 10000 entries, 0 to 9999\n",
      "Data columns (total 23 columns):\n",
      " #   Column              Non-Null Count  Dtype  \n",
      "---  ------              --------------  -----  \n",
      " 0   ReAdmis             10000 non-null  object \n",
      " 1   VitD_levels         10000 non-null  float64\n",
      " 2   Doc_visits          10000 non-null  int64  \n",
      " 3   Full_meals_eaten    10000 non-null  int64  \n",
      " 4   VitD_supp           10000 non-null  int64  \n",
      " 5   Soft_drink          7533 non-null   object \n",
      " 6   Initial_admin       10000 non-null  object \n",
      " 7   HighBlood           10000 non-null  object \n",
      " 8   Stroke              10000 non-null  object \n",
      " 9   Complication_risk   10000 non-null  object \n",
      " 10  Overweight          9018 non-null   float64\n",
      " 11  Arthritis           10000 non-null  object \n",
      " 12  Diabetes            10000 non-null  object \n",
      " 13  Hyperlipidemia      10000 non-null  object \n",
      " 14  BackPain            10000 non-null  object \n",
      " 15  Anxiety             9016 non-null   float64\n",
      " 16  Allergic_rhinitis   10000 non-null  object \n",
      " 17  Reflux_esophagitis  10000 non-null  object \n",
      " 18  Asthma              10000 non-null  object \n",
      " 19  Services            10000 non-null  object \n",
      " 20  Initial_days        8944 non-null   float64\n",
      " 21  TotalCharge         10000 non-null  float64\n",
      " 22  Additional_charges  10000 non-null  float64\n",
      "dtypes: float64(6), int64(3), object(14)\n",
      "memory usage: 1.8+ MB\n"
     ]
    }
   ],
   "source": [
    "medical_demographic = df[medical_demographic]\n",
    "medical_demographic.info()"
   ]
  },
  {
   "cell_type": "markdown",
   "id": "24b009c7",
   "metadata": {},
   "source": [
    "And finally we have the last set of variables. These are the answers to survey questions about how important certain factors are to a patient on a scale of 1 to 8 with 1 being most important and 8 being least important. \n",
    "\n",
    "* Item1 - Timely Admission\n",
    "* Item2 - Timely Treatment\n",
    "* Item3 - Timely Visits\n",
    "* Item4 - Reliability\n",
    "* Item5 - Options\n",
    "* Item6 - Hours of Treatment\n",
    "* Item7 - Courteous Staff\n",
    "* Item8 - Evidence of Active Listening from doctor\n",
    "\n",
    "These are qualitative variables. "
   ]
  },
  {
   "cell_type": "code",
   "execution_count": 10,
   "id": "1624da33",
   "metadata": {},
   "outputs": [
    {
     "name": "stdout",
     "output_type": "stream",
     "text": [
      "      Item1  Item2  Item3  Item4  Item5  Item6  Item7  Item8\n",
      "7982      3      2      3      2      3      3      4      4\n",
      "5179      4      5      4      4      3      5      4      3\n",
      "8290      4      4      3      3      4      5      5      4\n",
      "1197      3      4      5      6      2      4      4      3\n",
      "4655      4      3      4      4      3      3      4      4\n"
     ]
    }
   ],
   "source": [
    "survey = ['Item1', 'Item2', 'Item3', 'Item4', 'Item5', 'Item6', 'Item7', 'Item8']\n",
    "sample = df[survey].sample(n=5)\n",
    "print(sample)"
   ]
  },
  {
   "cell_type": "code",
   "execution_count": 11,
   "id": "ce876fde",
   "metadata": {},
   "outputs": [
    {
     "name": "stdout",
     "output_type": "stream",
     "text": [
      "<class 'pandas.core.frame.DataFrame'>\n",
      "RangeIndex: 10000 entries, 0 to 9999\n",
      "Data columns (total 8 columns):\n",
      " #   Column  Non-Null Count  Dtype\n",
      "---  ------  --------------  -----\n",
      " 0   Item1   10000 non-null  int64\n",
      " 1   Item2   10000 non-null  int64\n",
      " 2   Item3   10000 non-null  int64\n",
      " 3   Item4   10000 non-null  int64\n",
      " 4   Item5   10000 non-null  int64\n",
      " 5   Item6   10000 non-null  int64\n",
      " 6   Item7   10000 non-null  int64\n",
      " 7   Item8   10000 non-null  int64\n",
      "dtypes: int64(8)\n",
      "memory usage: 625.1 KB\n"
     ]
    }
   ],
   "source": [
    "survey = df[survey]\n",
    "survey.info()"
   ]
  },
  {
   "cell_type": "markdown",
   "id": "452563fb",
   "metadata": {},
   "source": [
    "### Part 2: Data-Cleaning Plan\n",
    "\n",
    "#### C. Detection\n",
    "\n",
    "For the purpose of this course and the research question I will be go through each variable to check for duplicates, missing values, outlies in the quantitative variables, and other quality issues that need to be fixed before analysis can happen. Since this section is only discussion of the methods used please see Part 3 for the implementation of the code.\n",
    "\n",
    "1. Methods\n",
    "    * To get a snapshot of the data I will use `df.info()` and make sure that the columns are in the correct datatypes and see any missing data. Since I know that there are 10000 rows I will expect any rows with less to be nulls. \n",
    "    * Once I have an idea of the full dataset I will go into each variable to examine the contents are consistent and correct. I will do this by using `value_counts()`, `describe()`, `nunuique()`, and `isnull()` functions. \n",
    "    * For appropriate variables I will use histograms - `plt.hist()` - to visualize the distribution of the data.\n",
    "    * For categorical data I will use `value_counts()` and `nunique()` to ensure proper classification.\n",
    "    * For quantitative data I will use `describe()` to see the statistics for the variables and use histograms and box plots to detect outliers.\n",
    "    ---\n",
    "    \n",
    "2. Why\n",
    "    * This method of detection using logical steps going from a big picture of the data to be able to pick out any variables that need extra cleaning and then going through each variable for any inconsistencies in the data. Doing it this way I can ensure that no variable is missed in the exploration of the data and that each variable has been explored thoroughly. This is important since the research question and the guidelines of this project want me to clean the entire dataset. \n",
    "    \n",
    "    * Using Functions like `describe()` and `plt.hist()` will allow me to see the statistics of each variable which will help in the process of cleaning. While finding null values and the unique values in each column will allow me to ensure data integrity by making sure the data is consistent. \n",
    "    ---\n",
    "    \n",
    "3. Programming Language\n",
    "    * Python is an open source, coding specific language that has consistent syntax and a large amount of libraries to increase the usability. Using the libraries `pandas` and `numpy` I will be able to do write simple and clear code that will be easy to follow. I also will have access to `matplotlib` and `seaborn` for creating visuals that are pleasing but simple. \n",
    "    \n",
    "    ---\n",
    "    \n",
    "4. Code:"
   ]
  },
  {
   "cell_type": "code",
   "execution_count": 12,
   "id": "388e9afa",
   "metadata": {},
   "outputs": [
    {
     "name": "stdout",
     "output_type": "stream",
     "text": [
      "<class 'pandas.core.frame.DataFrame'>\n",
      "RangeIndex: 10000 entries, 0 to 9999\n",
      "Data columns (total 53 columns):\n",
      " #   Column              Non-Null Count  Dtype  \n",
      "---  ------              --------------  -----  \n",
      " 0   Unnamed: 0          10000 non-null  int64  \n",
      " 1   CaseOrder           10000 non-null  int64  \n",
      " 2   Customer_id         10000 non-null  object \n",
      " 3   Interaction         10000 non-null  object \n",
      " 4   UID                 10000 non-null  object \n",
      " 5   City                10000 non-null  object \n",
      " 6   State               10000 non-null  object \n",
      " 7   County              10000 non-null  object \n",
      " 8   Zip                 10000 non-null  int64  \n",
      " 9   Lat                 10000 non-null  float64\n",
      " 10  Lng                 10000 non-null  float64\n",
      " 11  Population          10000 non-null  int64  \n",
      " 12  Area                10000 non-null  object \n",
      " 13  Timezone            10000 non-null  object \n",
      " 14  Job                 10000 non-null  object \n",
      " 15  Children            7412 non-null   float64\n",
      " 16  Age                 7586 non-null   float64\n",
      " 17  Education           10000 non-null  object \n",
      " 18  Employment          10000 non-null  object \n",
      " 19  Income              7536 non-null   float64\n",
      " 20  Marital             10000 non-null  object \n",
      " 21  Gender              10000 non-null  object \n",
      " 22  ReAdmis             10000 non-null  object \n",
      " 23  VitD_levels         10000 non-null  float64\n",
      " 24  Doc_visits          10000 non-null  int64  \n",
      " 25  Full_meals_eaten    10000 non-null  int64  \n",
      " 26  VitD_supp           10000 non-null  int64  \n",
      " 27  Soft_drink          7533 non-null   object \n",
      " 28  Initial_admin       10000 non-null  object \n",
      " 29  HighBlood           10000 non-null  object \n",
      " 30  Stroke              10000 non-null  object \n",
      " 31  Complication_risk   10000 non-null  object \n",
      " 32  Overweight          9018 non-null   float64\n",
      " 33  Arthritis           10000 non-null  object \n",
      " 34  Diabetes            10000 non-null  object \n",
      " 35  Hyperlipidemia      10000 non-null  object \n",
      " 36  BackPain            10000 non-null  object \n",
      " 37  Anxiety             9016 non-null   float64\n",
      " 38  Allergic_rhinitis   10000 non-null  object \n",
      " 39  Reflux_esophagitis  10000 non-null  object \n",
      " 40  Asthma              10000 non-null  object \n",
      " 41  Services            10000 non-null  object \n",
      " 42  Initial_days        8944 non-null   float64\n",
      " 43  TotalCharge         10000 non-null  float64\n",
      " 44  Additional_charges  10000 non-null  float64\n",
      " 45  Item1               10000 non-null  int64  \n",
      " 46  Item2               10000 non-null  int64  \n",
      " 47  Item3               10000 non-null  int64  \n",
      " 48  Item4               10000 non-null  int64  \n",
      " 49  Item5               10000 non-null  int64  \n",
      " 50  Item6               10000 non-null  int64  \n",
      " 51  Item7               10000 non-null  int64  \n",
      " 52  Item8               10000 non-null  int64  \n",
      "dtypes: float64(11), int64(15), object(27)\n",
      "memory usage: 4.0+ MB\n"
     ]
    }
   ],
   "source": [
    "# First I am going to check the data types, null counts, and size of the data\n",
    "df.info()"
   ]
  },
  {
   "cell_type": "code",
   "execution_count": 13,
   "id": "f94829c8",
   "metadata": {},
   "outputs": [
    {
     "data": {
      "text/plain": [
       "array([ 0.,  1., nan])"
      ]
     },
     "execution_count": 13,
     "metadata": {},
     "output_type": "execute_result"
    }
   ],
   "source": [
    "# I want to check why Overweight and Anxiety are stored as floats when they should be objects.\n",
    "df['Overweight'].unique()"
   ]
  },
  {
   "cell_type": "code",
   "execution_count": 14,
   "id": "21b6389a",
   "metadata": {},
   "outputs": [
    {
     "data": {
      "text/plain": [
       "array([ 1., nan,  0.])"
      ]
     },
     "execution_count": 14,
     "metadata": {},
     "output_type": "execute_result"
    }
   ],
   "source": [
    "# And double checking that anxiety is the same\n",
    "df['Anxiety'].unique()"
   ]
  },
  {
   "cell_type": "code",
   "execution_count": 15,
   "id": "7bb819b9",
   "metadata": {},
   "outputs": [
    {
     "data": {
      "text/plain": [
       "10000"
      ]
     },
     "execution_count": 15,
     "metadata": {},
     "output_type": "execute_result"
    }
   ],
   "source": [
    "# Since Case Order is a placeholder variable there should be 10,000 unique results\n",
    "df['CaseOrder'].nunique()"
   ]
  },
  {
   "cell_type": "code",
   "execution_count": 16,
   "id": "2d026e58",
   "metadata": {},
   "outputs": [
    {
     "data": {
      "text/plain": [
       "10000"
      ]
     },
     "execution_count": 16,
     "metadata": {},
     "output_type": "execute_result"
    }
   ],
   "source": [
    "# Customer_id is a key so it should also have no duplicates\n",
    "df['Customer_id'].nunique()"
   ]
  },
  {
   "cell_type": "code",
   "execution_count": 17,
   "id": "2763d98f",
   "metadata": {},
   "outputs": [
    {
     "data": {
      "text/plain": [
       "10000"
      ]
     },
     "execution_count": 17,
     "metadata": {},
     "output_type": "execute_result"
    }
   ],
   "source": [
    "# Interaction should also have no duplicates\n",
    "df['Interaction'].nunique()"
   ]
  },
  {
   "cell_type": "code",
   "execution_count": 18,
   "id": "8161cb80",
   "metadata": {},
   "outputs": [
    {
     "data": {
      "text/plain": [
       "10000"
      ]
     },
     "execution_count": 18,
     "metadata": {},
     "output_type": "execute_result"
    }
   ],
   "source": [
    "# And finally the UID should have no duplicates\n",
    "df['UID'].nunique()"
   ]
  },
  {
   "cell_type": "code",
   "execution_count": 19,
   "id": "7b34542e",
   "metadata": {},
   "outputs": [
    {
     "data": {
      "text/plain": [
       "City\n",
       "Houston             36\n",
       "San Antonio         26\n",
       "Springfield         22\n",
       "New York            21\n",
       "Miami               21\n",
       "                    ..\n",
       "Coyote               1\n",
       "Tiline               1\n",
       "Monon                1\n",
       "Sullivans Island     1\n",
       "Coraopolis           1\n",
       "Name: count, Length: 6072, dtype: int64"
      ]
     },
     "execution_count": 19,
     "metadata": {},
     "output_type": "execute_result"
    }
   ],
   "source": [
    "# The next variables I want to check for consistency in their entries\n",
    "# City is a categorical variable and therefore I just want to make sure that the naming convention seems the same throughout\n",
    "df['City'].value_counts()"
   ]
  },
  {
   "cell_type": "code",
   "execution_count": 20,
   "id": "c9f0fbbe",
   "metadata": {},
   "outputs": [
    {
     "data": {
      "text/plain": [
       "6072"
      ]
     },
     "execution_count": 20,
     "metadata": {},
     "output_type": "execute_result"
    }
   ],
   "source": [
    "# I also want to check the number of unique cities\n",
    "df['City'].nunique()"
   ]
  },
  {
   "cell_type": "code",
   "execution_count": 21,
   "id": "d6d1d894",
   "metadata": {},
   "outputs": [
    {
     "data": {
      "text/plain": [
       "State\n",
       "TX    553\n",
       "CA    550\n",
       "PA    547\n",
       "NY    514\n",
       "IL    442\n",
       "OH    383\n",
       "MO    328\n",
       "FL    304\n",
       "VA    287\n",
       "IA    276\n",
       "MI    273\n",
       "MN    267\n",
       "NC    254\n",
       "GA    247\n",
       "KS    220\n",
       "WI    214\n",
       "KY    210\n",
       "OK    207\n",
       "WV    207\n",
       "IN    195\n",
       "AL    194\n",
       "TN    194\n",
       "WA    191\n",
       "AR    190\n",
       "NE    185\n",
       "CO    179\n",
       "NJ    176\n",
       "LA    173\n",
       "MA    149\n",
       "MS    134\n",
       "MD    131\n",
       "SC    128\n",
       "SD    123\n",
       "ME    122\n",
       "OR    122\n",
       "MT    112\n",
       "NM    110\n",
       "ID    109\n",
       "ND    108\n",
       "AZ    108\n",
       "CT     80\n",
       "NH     79\n",
       "UT     72\n",
       "AK     70\n",
       "VT     60\n",
       "NV     51\n",
       "WY     51\n",
       "PR     43\n",
       "HI     34\n",
       "DE     17\n",
       "RI     14\n",
       "DC     13\n",
       "Name: count, dtype: int64"
      ]
     },
     "execution_count": 21,
     "metadata": {},
     "output_type": "execute_result"
    }
   ],
   "source": [
    "# State is another categorical value so I want to make sure the naming the consistent\n",
    "df['State'].value_counts()"
   ]
  },
  {
   "cell_type": "code",
   "execution_count": 22,
   "id": "0479a8e0",
   "metadata": {},
   "outputs": [
    {
     "data": {
      "text/plain": [
       "County\n",
       "Jefferson      118\n",
       "Washington     100\n",
       "Franklin        93\n",
       "Los Angeles     88\n",
       "Montgomery      80\n",
       "              ... \n",
       "Jenkins          1\n",
       "Sully            1\n",
       "Panola           1\n",
       "Kandiyohi        1\n",
       "Sterling         1\n",
       "Name: count, Length: 1607, dtype: int64"
      ]
     },
     "execution_count": 22,
     "metadata": {},
     "output_type": "execute_result"
    }
   ],
   "source": [
    "# Again County is categorical so checking naming and the number of unique counties\n",
    "df['County'].value_counts()"
   ]
  },
  {
   "cell_type": "code",
   "execution_count": 23,
   "id": "0f81fca4",
   "metadata": {},
   "outputs": [
    {
     "data": {
      "text/plain": [
       "1607"
      ]
     },
     "execution_count": 23,
     "metadata": {},
     "output_type": "execute_result"
    }
   ],
   "source": [
    "# How many unique counties are listed\n",
    "df['County'].nunique()"
   ]
  },
  {
   "cell_type": "code",
   "execution_count": 24,
   "id": "b854c9d7",
   "metadata": {},
   "outputs": [
    {
     "data": {
      "text/plain": [
       "Zip\n",
       "25674    4\n",
       "78104    4\n",
       "68355    4\n",
       "62098    4\n",
       "24136    4\n",
       "        ..\n",
       "18337    1\n",
       "58442    1\n",
       "71353    1\n",
       "81612    1\n",
       "15108    1\n",
       "Name: count, Length: 8612, dtype: int64"
      ]
     },
     "execution_count": 24,
     "metadata": {},
     "output_type": "execute_result"
    }
   ],
   "source": [
    "# Zip is a categorical value that is a number so it is stored as an int which I think is fine but I don't need to look at the stats because they won't tell me anything\n",
    "df['Zip'].value_counts()"
   ]
  },
  {
   "cell_type": "code",
   "execution_count": 25,
   "id": "0f462c55",
   "metadata": {},
   "outputs": [
    {
     "data": {
      "text/plain": [
       "8612"
      ]
     },
     "execution_count": 25,
     "metadata": {},
     "output_type": "execute_result"
    }
   ],
   "source": [
    "# How many Unique zipcodes are listed\n",
    "df['Zip'].nunique()"
   ]
  },
  {
   "cell_type": "code",
   "execution_count": 26,
   "id": "c77fea09",
   "metadata": {},
   "outputs": [
    {
     "name": "stdout",
     "output_type": "stream",
     "text": [
      "False\n"
     ]
    }
   ],
   "source": [
    "# Because Zip is stored as an int and I know that some zipcodes start with 0 I want to see if the 0's have disappeared\n",
    "all_have_five_values = all(len(str(value)) == 5 for value in df['Zip'])\n",
    "print(all_have_five_values)"
   ]
  },
  {
   "cell_type": "code",
   "execution_count": 27,
   "id": "5d8ae660",
   "metadata": {},
   "outputs": [
    {
     "data": {
      "text/plain": [
       "Lat\n",
       "36.06702    4\n",
       "33.34798    4\n",
       "35.25512    4\n",
       "39.38610    4\n",
       "37.86890    4\n",
       "           ..\n",
       "41.00911    1\n",
       "39.20560    1\n",
       "46.36035    1\n",
       "34.96563    1\n",
       "40.49998    1\n",
       "Name: count, Length: 8588, dtype: int64"
      ]
     },
     "execution_count": 27,
     "metadata": {},
     "output_type": "execute_result"
    }
   ],
   "source": [
    "# Similar to zip I don't need to get the stats for lat and long but want to check the values.\n",
    "df['Lat'].value_counts()"
   ]
  },
  {
   "cell_type": "code",
   "execution_count": 28,
   "id": "c73b7983",
   "metadata": {},
   "outputs": [
    {
     "data": {
      "text/plain": [
       "8588"
      ]
     },
     "execution_count": 28,
     "metadata": {},
     "output_type": "execute_result"
    }
   ],
   "source": [
    "# Number of unique Latitudes\n",
    "df['Lat'].nunique()"
   ]
  },
  {
   "cell_type": "code",
   "execution_count": 29,
   "id": "8227243b",
   "metadata": {},
   "outputs": [
    {
     "data": {
      "text/plain": [
       "Lng\n",
       "-121.28753    4\n",
       "-82.35159     4\n",
       "-85.99134     4\n",
       "-105.68001    4\n",
       "-89.03658     4\n",
       "             ..\n",
       "-74.87894     1\n",
       "-99.17911     1\n",
       "-91.81854     1\n",
       "-106.83727    1\n",
       "-80.19959     1\n",
       "Name: count, Length: 8601, dtype: int64"
      ]
     },
     "execution_count": 29,
     "metadata": {},
     "output_type": "execute_result"
    }
   ],
   "source": [
    "# Ensure Longitude looks consistent\n",
    "df['Lng'].value_counts()"
   ]
  },
  {
   "cell_type": "code",
   "execution_count": 30,
   "id": "885509fd",
   "metadata": {},
   "outputs": [
    {
     "data": {
      "text/plain": [
       "8601"
      ]
     },
     "execution_count": 30,
     "metadata": {},
     "output_type": "execute_result"
    }
   ],
   "source": [
    "# number of unique Longitudes\n",
    "df['Lng'].nunique()"
   ]
  },
  {
   "cell_type": "code",
   "execution_count": 31,
   "id": "a1325895",
   "metadata": {},
   "outputs": [
    {
     "data": {
      "text/plain": [
       "count     10000.000000\n",
       "mean       9965.253800\n",
       "std       14824.758614\n",
       "min           0.000000\n",
       "25%         694.750000\n",
       "50%        2769.000000\n",
       "75%       13945.000000\n",
       "max      122814.000000\n",
       "Name: Population, dtype: float64"
      ]
     },
     "execution_count": 31,
     "metadata": {},
     "output_type": "execute_result"
    }
   ],
   "source": [
    "# Population is a qualitative variable whose statistics do matter therefore I want to check the stats. \n",
    "df['Population'].describe()"
   ]
  },
  {
   "cell_type": "code",
   "execution_count": 32,
   "id": "05d8b4c6",
   "metadata": {},
   "outputs": [
    {
     "data": {
      "image/png": "[encoded data removed]",
      "text/plain": [
       "<Figure size 640x480 with 1 Axes>"
      ]
     },
     "metadata": {},
     "output_type": "display_data"
    }
   ],
   "source": [
    "# I also want to check for outliers using a boxplot \n",
    "sb.boxplot(x='Population', data=df);"
   ]
  },
  {
   "cell_type": "code",
   "execution_count": 33,
   "id": "a41fcb94",
   "metadata": {},
   "outputs": [
    {
     "data": {
      "text/html": [
       "<div>\n",
       "<style scoped>\n",
       "    .dataframe tbody tr th:only-of-type {\n",
       "        vertical-align: middle;\n",
       "    }\n",
       "\n",
       "    .dataframe tbody tr th {\n",
       "        vertical-align: top;\n",
       "    }\n",
       "\n",
       "    .dataframe thead th {\n",
       "        text-align: right;\n",
       "    }\n",
       "</style>\n",
       "<table border=\"1\" class=\"dataframe\">\n",
       "  <thead>\n",
       "    <tr style=\"text-align: right;\">\n",
       "      <th></th>\n",
       "      <th>Unnamed: 0</th>\n",
       "      <th>CaseOrder</th>\n",
       "      <th>Customer_id</th>\n",
       "      <th>Interaction</th>\n",
       "      <th>UID</th>\n",
       "      <th>City</th>\n",
       "      <th>State</th>\n",
       "      <th>County</th>\n",
       "      <th>Zip</th>\n",
       "      <th>Lat</th>\n",
       "      <th>...</th>\n",
       "      <th>TotalCharge</th>\n",
       "      <th>Additional_charges</th>\n",
       "      <th>Item1</th>\n",
       "      <th>Item2</th>\n",
       "      <th>Item3</th>\n",
       "      <th>Item4</th>\n",
       "      <th>Item5</th>\n",
       "      <th>Item6</th>\n",
       "      <th>Item7</th>\n",
       "      <th>Item8</th>\n",
       "    </tr>\n",
       "  </thead>\n",
       "  <tbody>\n",
       "    <tr>\n",
       "      <th>3024</th>\n",
       "      <td>3025</td>\n",
       "      <td>3025</td>\n",
       "      <td>W840448</td>\n",
       "      <td>7c8ccd98-1619-4492-99a7-b1dd82a713be</td>\n",
       "      <td>02cd4f72ff3415f684ab0847e47feffd</td>\n",
       "      <td>Katy</td>\n",
       "      <td>TX</td>\n",
       "      <td>Harris</td>\n",
       "      <td>77449</td>\n",
       "      <td>29.83556</td>\n",
       "      <td>...</td>\n",
       "      <td>3512.884445</td>\n",
       "      <td>9681.145576</td>\n",
       "      <td>1</td>\n",
       "      <td>2</td>\n",
       "      <td>1</td>\n",
       "      <td>3</td>\n",
       "      <td>3</td>\n",
       "      <td>2</td>\n",
       "      <td>2</td>\n",
       "      <td>3</td>\n",
       "    </tr>\n",
       "    <tr>\n",
       "      <th>9662</th>\n",
       "      <td>9663</td>\n",
       "      <td>9663</td>\n",
       "      <td>Y770582</td>\n",
       "      <td>7096d230-358f-4244-b05c-70aa3143572f</td>\n",
       "      <td>be3f3df437c3b7b114dc7d24b1a48bfc</td>\n",
       "      <td>Katy</td>\n",
       "      <td>TX</td>\n",
       "      <td>Harris</td>\n",
       "      <td>77449</td>\n",
       "      <td>29.83556</td>\n",
       "      <td>...</td>\n",
       "      <td>7579.972371</td>\n",
       "      <td>23055.202380</td>\n",
       "      <td>3</td>\n",
       "      <td>3</td>\n",
       "      <td>4</td>\n",
       "      <td>3</td>\n",
       "      <td>4</td>\n",
       "      <td>3</td>\n",
       "      <td>4</td>\n",
       "      <td>4</td>\n",
       "    </tr>\n",
       "    <tr>\n",
       "      <th>5965</th>\n",
       "      <td>5966</td>\n",
       "      <td>5966</td>\n",
       "      <td>Q787284</td>\n",
       "      <td>121150ca-a1fc-4ba7-aa48-6b7893d0eb0e</td>\n",
       "      <td>8356f8d77795cf648b1f66b4af5f1577</td>\n",
       "      <td>Houston</td>\n",
       "      <td>TX</td>\n",
       "      <td>Harris</td>\n",
       "      <td>77084</td>\n",
       "      <td>29.82641</td>\n",
       "      <td>...</td>\n",
       "      <td>6322.209553</td>\n",
       "      <td>17661.148880</td>\n",
       "      <td>4</td>\n",
       "      <td>5</td>\n",
       "      <td>3</td>\n",
       "      <td>4</td>\n",
       "      <td>3</td>\n",
       "      <td>4</td>\n",
       "      <td>4</td>\n",
       "      <td>4</td>\n",
       "    </tr>\n",
       "    <tr>\n",
       "      <th>7686</th>\n",
       "      <td>7687</td>\n",
       "      <td>7687</td>\n",
       "      <td>N145589</td>\n",
       "      <td>9ec70eec-90f7-4ba5-a266-df39435d1cd2</td>\n",
       "      <td>6b797b8b5e27596ef3475e8f57156ead</td>\n",
       "      <td>Pacoima</td>\n",
       "      <td>CA</td>\n",
       "      <td>Los Angeles</td>\n",
       "      <td>91331</td>\n",
       "      <td>34.25563</td>\n",
       "      <td>...</td>\n",
       "      <td>7017.880292</td>\n",
       "      <td>8641.444199</td>\n",
       "      <td>4</td>\n",
       "      <td>3</td>\n",
       "      <td>4</td>\n",
       "      <td>4</td>\n",
       "      <td>4</td>\n",
       "      <td>3</td>\n",
       "      <td>4</td>\n",
       "      <td>3</td>\n",
       "    </tr>\n",
       "    <tr>\n",
       "      <th>767</th>\n",
       "      <td>768</td>\n",
       "      <td>768</td>\n",
       "      <td>E632881</td>\n",
       "      <td>e7758807-cc96-4396-a8c5-ff54d26882cc</td>\n",
       "      <td>3008f82476a1bca85459d1b3270a3f8f</td>\n",
       "      <td>Pacoima</td>\n",
       "      <td>CA</td>\n",
       "      <td>Los Angeles</td>\n",
       "      <td>91331</td>\n",
       "      <td>34.25563</td>\n",
       "      <td>...</td>\n",
       "      <td>4841.089677</td>\n",
       "      <td>6955.299837</td>\n",
       "      <td>4</td>\n",
       "      <td>3</td>\n",
       "      <td>5</td>\n",
       "      <td>4</td>\n",
       "      <td>2</td>\n",
       "      <td>5</td>\n",
       "      <td>6</td>\n",
       "      <td>5</td>\n",
       "    </tr>\n",
       "    <tr>\n",
       "      <th>6502</th>\n",
       "      <td>6503</td>\n",
       "      <td>6503</td>\n",
       "      <td>E829459</td>\n",
       "      <td>49f39b11-6302-4aaa-9ce0-181464c276c3</td>\n",
       "      <td>ea1dc42b7bc8d7a0ed357806b44db219</td>\n",
       "      <td>Brooklyn</td>\n",
       "      <td>NY</td>\n",
       "      <td>Kings</td>\n",
       "      <td>11211</td>\n",
       "      <td>40.71244</td>\n",
       "      <td>...</td>\n",
       "      <td>7727.413694</td>\n",
       "      <td>7351.289866</td>\n",
       "      <td>4</td>\n",
       "      <td>2</td>\n",
       "      <td>3</td>\n",
       "      <td>3</td>\n",
       "      <td>4</td>\n",
       "      <td>3</td>\n",
       "      <td>4</td>\n",
       "      <td>5</td>\n",
       "    </tr>\n",
       "    <tr>\n",
       "      <th>9118</th>\n",
       "      <td>9119</td>\n",
       "      <td>9119</td>\n",
       "      <td>U443326</td>\n",
       "      <td>a01d4468-5714-4cec-944a-9607c65ba8a3</td>\n",
       "      <td>2ae17c120159894d8ba29ad15eeb6292</td>\n",
       "      <td>Mckinney</td>\n",
       "      <td>TX</td>\n",
       "      <td>Collin</td>\n",
       "      <td>75070</td>\n",
       "      <td>33.17311</td>\n",
       "      <td>...</td>\n",
       "      <td>7183.655448</td>\n",
       "      <td>8076.992596</td>\n",
       "      <td>4</td>\n",
       "      <td>3</td>\n",
       "      <td>4</td>\n",
       "      <td>4</td>\n",
       "      <td>4</td>\n",
       "      <td>3</td>\n",
       "      <td>4</td>\n",
       "      <td>4</td>\n",
       "    </tr>\n",
       "    <tr>\n",
       "      <th>7902</th>\n",
       "      <td>7903</td>\n",
       "      <td>7903</td>\n",
       "      <td>P178567</td>\n",
       "      <td>ce9ca244-a080-4d71-a1c0-50d7bd43c20d</td>\n",
       "      <td>1a4203b1730198afc9bc7b1b697a609d</td>\n",
       "      <td>San Juan</td>\n",
       "      <td>PR</td>\n",
       "      <td>San Juan</td>\n",
       "      <td>926</td>\n",
       "      <td>18.34620</td>\n",
       "      <td>...</td>\n",
       "      <td>7375.742016</td>\n",
       "      <td>12019.232560</td>\n",
       "      <td>4</td>\n",
       "      <td>4</td>\n",
       "      <td>4</td>\n",
       "      <td>3</td>\n",
       "      <td>4</td>\n",
       "      <td>4</td>\n",
       "      <td>3</td>\n",
       "      <td>4</td>\n",
       "    </tr>\n",
       "    <tr>\n",
       "      <th>6813</th>\n",
       "      <td>6814</td>\n",
       "      <td>6814</td>\n",
       "      <td>A523275</td>\n",
       "      <td>3836f558-f903-416b-ab8e-9b15faa624d1</td>\n",
       "      <td>e13bfaa7fc03cac2f7e48e9eb29757e8</td>\n",
       "      <td>San Juan</td>\n",
       "      <td>PR</td>\n",
       "      <td>San Juan</td>\n",
       "      <td>926</td>\n",
       "      <td>18.34620</td>\n",
       "      <td>...</td>\n",
       "      <td>7785.859602</td>\n",
       "      <td>26573.555480</td>\n",
       "      <td>3</td>\n",
       "      <td>4</td>\n",
       "      <td>4</td>\n",
       "      <td>5</td>\n",
       "      <td>3</td>\n",
       "      <td>3</td>\n",
       "      <td>4</td>\n",
       "      <td>4</td>\n",
       "    </tr>\n",
       "    <tr>\n",
       "      <th>6686</th>\n",
       "      <td>6687</td>\n",
       "      <td>6687</td>\n",
       "      <td>R295268</td>\n",
       "      <td>6ea0af09-7536-41ff-9800-c09fbc6a668b</td>\n",
       "      <td>33129b04dbe49d9623900e922ffe1e55</td>\n",
       "      <td>Sylmar</td>\n",
       "      <td>CA</td>\n",
       "      <td>Los Angeles</td>\n",
       "      <td>91342</td>\n",
       "      <td>34.31515</td>\n",
       "      <td>...</td>\n",
       "      <td>8687.545684</td>\n",
       "      <td>4962.995354</td>\n",
       "      <td>6</td>\n",
       "      <td>6</td>\n",
       "      <td>7</td>\n",
       "      <td>3</td>\n",
       "      <td>4</td>\n",
       "      <td>5</td>\n",
       "      <td>5</td>\n",
       "      <td>4</td>\n",
       "    </tr>\n",
       "  </tbody>\n",
       "</table>\n",
       "<p>10 rows × 53 columns</p>\n",
       "</div>"
      ],
      "text/plain": [
       "      Unnamed: 0  CaseOrder Customer_id                           Interaction  \\\n",
       "3024        3025       3025     W840448  7c8ccd98-1619-4492-99a7-b1dd82a713be   \n",
       "9662        9663       9663     Y770582  7096d230-358f-4244-b05c-70aa3143572f   \n",
       "5965        5966       5966     Q787284  121150ca-a1fc-4ba7-aa48-6b7893d0eb0e   \n",
       "7686        7687       7687     N145589  9ec70eec-90f7-4ba5-a266-df39435d1cd2   \n",
       "767          768        768     E632881  e7758807-cc96-4396-a8c5-ff54d26882cc   \n",
       "6502        6503       6503     E829459  49f39b11-6302-4aaa-9ce0-181464c276c3   \n",
       "9118        9119       9119     U443326  a01d4468-5714-4cec-944a-9607c65ba8a3   \n",
       "7902        7903       7903     P178567  ce9ca244-a080-4d71-a1c0-50d7bd43c20d   \n",
       "6813        6814       6814     A523275  3836f558-f903-416b-ab8e-9b15faa624d1   \n",
       "6686        6687       6687     R295268  6ea0af09-7536-41ff-9800-c09fbc6a668b   \n",
       "\n",
       "                                   UID      City State       County    Zip  \\\n",
       "3024  02cd4f72ff3415f684ab0847e47feffd      Katy    TX       Harris  77449   \n",
       "9662  be3f3df437c3b7b114dc7d24b1a48bfc      Katy    TX       Harris  77449   \n",
       "5965  8356f8d77795cf648b1f66b4af5f1577   Houston    TX       Harris  77084   \n",
       "7686  6b797b8b5e27596ef3475e8f57156ead   Pacoima    CA  Los Angeles  91331   \n",
       "767   3008f82476a1bca85459d1b3270a3f8f   Pacoima    CA  Los Angeles  91331   \n",
       "6502  ea1dc42b7bc8d7a0ed357806b44db219  Brooklyn    NY        Kings  11211   \n",
       "9118  2ae17c120159894d8ba29ad15eeb6292  Mckinney    TX       Collin  75070   \n",
       "7902  1a4203b1730198afc9bc7b1b697a609d  San Juan    PR     San Juan    926   \n",
       "6813  e13bfaa7fc03cac2f7e48e9eb29757e8  San Juan    PR     San Juan    926   \n",
       "6686  33129b04dbe49d9623900e922ffe1e55    Sylmar    CA  Los Angeles  91342   \n",
       "\n",
       "           Lat  ...  TotalCharge  Additional_charges Item1 Item2 Item3  Item4  \\\n",
       "3024  29.83556  ...  3512.884445         9681.145576     1     2     1      3   \n",
       "9662  29.83556  ...  7579.972371        23055.202380     3     3     4      3   \n",
       "5965  29.82641  ...  6322.209553        17661.148880     4     5     3      4   \n",
       "7686  34.25563  ...  7017.880292         8641.444199     4     3     4      4   \n",
       "767   34.25563  ...  4841.089677         6955.299837     4     3     5      4   \n",
       "6502  40.71244  ...  7727.413694         7351.289866     4     2     3      3   \n",
       "9118  33.17311  ...  7183.655448         8076.992596     4     3     4      4   \n",
       "7902  18.34620  ...  7375.742016        12019.232560     4     4     4      3   \n",
       "6813  18.34620  ...  7785.859602        26573.555480     3     4     4      5   \n",
       "6686  34.31515  ...  8687.545684         4962.995354     6     6     7      3   \n",
       "\n",
       "      Item5 Item6 Item7  Item8  \n",
       "3024      3     2     2      3  \n",
       "9662      4     3     4      4  \n",
       "5965      3     4     4      4  \n",
       "7686      4     3     4      3  \n",
       "767       2     5     6      5  \n",
       "6502      4     3     4      5  \n",
       "9118      4     3     4      4  \n",
       "7902      4     4     3      4  \n",
       "6813      3     3     4      4  \n",
       "6686      4     5     5      4  \n",
       "\n",
       "[10 rows x 53 columns]"
      ]
     },
     "execution_count": 33,
     "metadata": {},
     "output_type": "execute_result"
    }
   ],
   "source": [
    "# Since there are outliers here I want to see the rows to compare the population to the city and state to make sure they aren't errors.\n",
    "population_outliers = df.sort_values(by='Population', ascending=False)\n",
    "population_outliers.head(10)"
   ]
  },
  {
   "cell_type": "code",
   "execution_count": 34,
   "id": "a2c0f674",
   "metadata": {},
   "outputs": [
    {
     "data": {
      "text/plain": [
       "Area\n",
       "Rural       3369\n",
       "Suburban    3328\n",
       "Urban       3303\n",
       "Name: count, dtype: int64"
      ]
     },
     "execution_count": 34,
     "metadata": {},
     "output_type": "execute_result"
    }
   ],
   "source": [
    "# Value counts of area to ensure correct data\n",
    "df['Area'].value_counts()"
   ]
  },
  {
   "cell_type": "code",
   "execution_count": 35,
   "id": "46bae3a3",
   "metadata": {},
   "outputs": [
    {
     "data": {
      "text/plain": [
       "Timezone\n",
       "America/New_York                  3889\n",
       "America/Chicago                   3771\n",
       "America/Los_Angeles                937\n",
       "America/Denver                     612\n",
       "America/Detroit                    262\n",
       "America/Indiana/Indianapolis       151\n",
       "America/Phoenix                    100\n",
       "America/Boise                       86\n",
       "America/Anchorage                   50\n",
       "America/Puerto_Rico                 43\n",
       "Pacific/Honolulu                    34\n",
       "America/Menominee                   14\n",
       "America/Nome                        12\n",
       "America/Indiana/Vincennes            8\n",
       "America/Kentucky/Louisville          6\n",
       "America/Sitka                        6\n",
       "America/Toronto                      5\n",
       "America/Indiana/Marengo              3\n",
       "America/Indiana/Tell_City            3\n",
       "America/North_Dakota/Beulah          2\n",
       "America/Yakutat                      1\n",
       "America/Indiana/Winamac              1\n",
       "America/Indiana/Knox                 1\n",
       "America/North_Dakota/New_Salem       1\n",
       "America/Indiana/Vevay                1\n",
       "America/Adak                         1\n",
       "Name: count, dtype: int64"
      ]
     },
     "execution_count": 35,
     "metadata": {},
     "output_type": "execute_result"
    }
   ],
   "source": [
    "# Value counts of Timezone to make sure the naming conventions are consistent\n",
    "df['Timezone'].value_counts()"
   ]
  },
  {
   "cell_type": "code",
   "execution_count": 36,
   "id": "f356f235",
   "metadata": {},
   "outputs": [
    {
     "data": {
      "text/plain": [
       "Job\n",
       "Outdoor activities/education manager     29\n",
       "Exhibition designer                      27\n",
       "Theatre director                         27\n",
       "Scientist, audiological                  26\n",
       "Toxicologist                             25\n",
       "                                         ..\n",
       "Government social research officer        6\n",
       "Phytotherapist                            6\n",
       "Engineer, control and instrumentation     6\n",
       "Public relations account executive        6\n",
       "Licensed conveyancer                      6\n",
       "Name: count, Length: 639, dtype: int64"
      ]
     },
     "execution_count": 36,
     "metadata": {},
     "output_type": "execute_result"
    }
   ],
   "source": [
    "# Checking the Job naming\n",
    "df['Job'].value_counts()"
   ]
  },
  {
   "cell_type": "code",
   "execution_count": 37,
   "id": "148bb739",
   "metadata": {},
   "outputs": [
    {
     "data": {
      "text/plain": [
       "639"
      ]
     },
     "execution_count": 37,
     "metadata": {},
     "output_type": "execute_result"
    }
   ],
   "source": [
    "# Since there are so many jobs, which tracks, I want to see how many unique jobs there are\n",
    "df['Job'].nunique()"
   ]
  },
  {
   "cell_type": "code",
   "execution_count": 38,
   "id": "c4b4312d",
   "metadata": {},
   "outputs": [
    {
     "data": {
      "text/plain": [
       "Children\n",
       "0.0     1880\n",
       "1.0     1858\n",
       "3.0     1113\n",
       "2.0     1094\n",
       "4.0      739\n",
       "8.0      157\n",
       "7.0      154\n",
       "6.0      145\n",
       "5.0      126\n",
       "9.0       83\n",
       "10.0      63\n",
       "Name: count, dtype: int64"
      ]
     },
     "execution_count": 38,
     "metadata": {},
     "output_type": "execute_result"
    }
   ],
   "source": [
    "# I want to see the unique values for children\n",
    "df['Children'].value_counts()"
   ]
  },
  {
   "cell_type": "code",
   "execution_count": 39,
   "id": "5cae2584",
   "metadata": {},
   "outputs": [
    {
     "data": {
      "text/plain": [
       "count    7412.000000\n",
       "mean        2.098219\n",
       "std         2.155427\n",
       "min         0.000000\n",
       "25%         0.000000\n",
       "50%         1.000000\n",
       "75%         3.000000\n",
       "max        10.000000\n",
       "Name: Children, dtype: float64"
      ]
     },
     "execution_count": 39,
     "metadata": {},
     "output_type": "execute_result"
    }
   ],
   "source": [
    "# I want to get the statistics on children since it is a quantitative variable\n",
    "df['Children'].describe()"
   ]
  },
  {
   "cell_type": "code",
   "execution_count": 40,
   "id": "0da791fd",
   "metadata": {},
   "outputs": [
    {
     "data": {
      "image/png": "[encoded data removed]",
      "text/plain": [
       "<Figure size 640x480 with 1 Axes>"
      ]
     },
     "metadata": {},
     "output_type": "display_data"
    }
   ],
   "source": [
    "# And I want to get the distribution of children\n",
    "plt.hist(df['Children']);"
   ]
  },
  {
   "cell_type": "code",
   "execution_count": 41,
   "id": "9afa9db8",
   "metadata": {},
   "outputs": [
    {
     "data": {
      "text/plain": [
       "Age\n",
       "30.0    126\n",
       "47.0    124\n",
       "74.0    123\n",
       "38.0    123\n",
       "40.0    122\n",
       "       ... \n",
       "75.0     90\n",
       "82.0     90\n",
       "63.0     90\n",
       "51.0     89\n",
       "36.0     85\n",
       "Name: count, Length: 72, dtype: int64"
      ]
     },
     "execution_count": 41,
     "metadata": {},
     "output_type": "execute_result"
    }
   ],
   "source": [
    "# Get the values of ages\n",
    "df['Age'].value_counts()"
   ]
  },
  {
   "cell_type": "code",
   "execution_count": 42,
   "id": "73ac5415",
   "metadata": {},
   "outputs": [
    {
     "data": {
      "text/plain": [
       "72"
      ]
     },
     "execution_count": 42,
     "metadata": {},
     "output_type": "execute_result"
    }
   ],
   "source": [
    "# The number of unique ages\n",
    "df['Age'].nunique()"
   ]
  },
  {
   "cell_type": "code",
   "execution_count": 43,
   "id": "a1f2d31d",
   "metadata": {},
   "outputs": [
    {
     "data": {
      "text/plain": [
       "count    7586.000000\n",
       "mean       53.295676\n",
       "std        20.659182\n",
       "min        18.000000\n",
       "25%        35.000000\n",
       "50%        53.000000\n",
       "75%        71.000000\n",
       "max        89.000000\n",
       "Name: Age, dtype: float64"
      ]
     },
     "execution_count": 43,
     "metadata": {},
     "output_type": "execute_result"
    }
   ],
   "source": [
    "# Statistics of the age variable\n",
    "df['Age'].describe()"
   ]
  },
  {
   "cell_type": "code",
   "execution_count": 44,
   "id": "6372c2db",
   "metadata": {},
   "outputs": [
    {
     "data": {
      "image/png": "[encoded data removed]",
      "text/plain": [
       "<Figure size 640x480 with 1 Axes>"
      ]
     },
     "metadata": {},
     "output_type": "display_data"
    }
   ],
   "source": [
    "# Histogram of age\n",
    "plt.hist(df['Age']);"
   ]
  },
  {
   "cell_type": "code",
   "execution_count": 45,
   "id": "24f11523",
   "metadata": {},
   "outputs": [
    {
     "data": {
      "text/plain": [
       "Education\n",
       "Regular High School Diploma                 2444\n",
       "Bachelor's Degree                           1724\n",
       "Some College, 1 or More Years, No Degree    1484\n",
       "9th Grade to 12th Grade, No Diploma          832\n",
       "Associate's Degree                           797\n",
       "Master's Degree                              701\n",
       "Some College, Less than 1 Year               642\n",
       "Nursery School to 8th Grade                  552\n",
       "GED or Alternative Credential                389\n",
       "Professional School Degree                   208\n",
       "No Schooling Completed                       133\n",
       "Doctorate Degree                              94\n",
       "Name: count, dtype: int64"
      ]
     },
     "execution_count": 45,
     "metadata": {},
     "output_type": "execute_result"
    }
   ],
   "source": [
    "# The value counts of education\n",
    "df['Education'].value_counts()"
   ]
  },
  {
   "cell_type": "code",
   "execution_count": 46,
   "id": "2a507531",
   "metadata": {},
   "outputs": [
    {
     "data": {
      "text/plain": [
       "Employment\n",
       "Full Time     6029\n",
       "Student       1017\n",
       "Part Time      991\n",
       "Unemployed     983\n",
       "Retired        980\n",
       "Name: count, dtype: int64"
      ]
     },
     "execution_count": 46,
     "metadata": {},
     "output_type": "execute_result"
    }
   ],
   "source": [
    "# Value counts of employment\n",
    "df['Employment'].value_counts()"
   ]
  },
  {
   "cell_type": "code",
   "execution_count": 47,
   "id": "0be22bfb",
   "metadata": {},
   "outputs": [
    {
     "data": {
      "text/plain": [
       "count      7536.000000\n",
       "mean      40484.438268\n",
       "std       28664.861050\n",
       "min         154.080000\n",
       "25%       19450.792500\n",
       "50%       33942.280000\n",
       "75%       54075.235000\n",
       "max      207249.130000\n",
       "Name: Income, dtype: float64"
      ]
     },
     "execution_count": 47,
     "metadata": {},
     "output_type": "execute_result"
    }
   ],
   "source": [
    "# Statistics of the Income variable\n",
    "df['Income'].describe()"
   ]
  },
  {
   "cell_type": "code",
   "execution_count": 48,
   "id": "58d63e77",
   "metadata": {},
   "outputs": [
    {
     "data": {
      "image/png": "[encoded data removed]",
      "text/plain": [
       "<Figure size 640x480 with 1 Axes>"
      ]
     },
     "metadata": {},
     "output_type": "display_data"
    }
   ],
   "source": [
    "# Histogram of Income\n",
    "plt.hist(df['Income']);"
   ]
  },
  {
   "cell_type": "code",
   "execution_count": 49,
   "id": "6246e948",
   "metadata": {
    "scrolled": true
   },
   "outputs": [
    {
     "data": {
      "image/png": "[encoded data removed]",
      "text/plain": [
       "<Figure size 640x480 with 1 Axes>"
      ]
     },
     "metadata": {},
     "output_type": "display_data"
    }
   ],
   "source": [
    "# Box plot of Income\n",
    "sb.boxplot(x='Income', data=df);"
   ]
  },
  {
   "cell_type": "code",
   "execution_count": 50,
   "id": "b197dd7e",
   "metadata": {},
   "outputs": [
    {
     "data": {
      "text/html": [
       "<div>\n",
       "<style scoped>\n",
       "    .dataframe tbody tr th:only-of-type {\n",
       "        vertical-align: middle;\n",
       "    }\n",
       "\n",
       "    .dataframe tbody tr th {\n",
       "        vertical-align: top;\n",
       "    }\n",
       "\n",
       "    .dataframe thead th {\n",
       "        text-align: right;\n",
       "    }\n",
       "</style>\n",
       "<table border=\"1\" class=\"dataframe\">\n",
       "  <thead>\n",
       "    <tr style=\"text-align: right;\">\n",
       "      <th></th>\n",
       "      <th>Unnamed: 0</th>\n",
       "      <th>CaseOrder</th>\n",
       "      <th>Customer_id</th>\n",
       "      <th>Interaction</th>\n",
       "      <th>UID</th>\n",
       "      <th>City</th>\n",
       "      <th>State</th>\n",
       "      <th>County</th>\n",
       "      <th>Zip</th>\n",
       "      <th>Lat</th>\n",
       "      <th>...</th>\n",
       "      <th>TotalCharge</th>\n",
       "      <th>Additional_charges</th>\n",
       "      <th>Item1</th>\n",
       "      <th>Item2</th>\n",
       "      <th>Item3</th>\n",
       "      <th>Item4</th>\n",
       "      <th>Item5</th>\n",
       "      <th>Item6</th>\n",
       "      <th>Item7</th>\n",
       "      <th>Item8</th>\n",
       "    </tr>\n",
       "  </thead>\n",
       "  <tbody>\n",
       "    <tr>\n",
       "      <th>8386</th>\n",
       "      <td>8387</td>\n",
       "      <td>8387</td>\n",
       "      <td>C817840</td>\n",
       "      <td>41770631-ff8b-4e71-9631-f369b04d2125</td>\n",
       "      <td>f81e41a00a41c04266e666361ad49a33</td>\n",
       "      <td>Phoenix</td>\n",
       "      <td>AZ</td>\n",
       "      <td>Maricopa</td>\n",
       "      <td>85044</td>\n",
       "      <td>33.34239</td>\n",
       "      <td>...</td>\n",
       "      <td>7489.400811</td>\n",
       "      <td>6513.572723</td>\n",
       "      <td>4</td>\n",
       "      <td>3</td>\n",
       "      <td>4</td>\n",
       "      <td>1</td>\n",
       "      <td>4</td>\n",
       "      <td>4</td>\n",
       "      <td>3</td>\n",
       "      <td>3</td>\n",
       "    </tr>\n",
       "    <tr>\n",
       "      <th>841</th>\n",
       "      <td>842</td>\n",
       "      <td>842</td>\n",
       "      <td>F304162</td>\n",
       "      <td>cbd20767-266b-470b-9bd7-9b8aab96da38</td>\n",
       "      <td>3424165edc18b296b6ec24d69101a2a9</td>\n",
       "      <td>Galloway</td>\n",
       "      <td>WV</td>\n",
       "      <td>Barbour</td>\n",
       "      <td>26349</td>\n",
       "      <td>39.23570</td>\n",
       "      <td>...</td>\n",
       "      <td>3146.021218</td>\n",
       "      <td>14122.636410</td>\n",
       "      <td>3</td>\n",
       "      <td>3</td>\n",
       "      <td>4</td>\n",
       "      <td>5</td>\n",
       "      <td>4</td>\n",
       "      <td>2</td>\n",
       "      <td>2</td>\n",
       "      <td>4</td>\n",
       "    </tr>\n",
       "    <tr>\n",
       "      <th>8598</th>\n",
       "      <td>8599</td>\n",
       "      <td>8599</td>\n",
       "      <td>C730234</td>\n",
       "      <td>bb1cdec6-187d-40ac-bcb2-1544f5bb4b1d</td>\n",
       "      <td>609d3ae46250dffa60021c1f62169869</td>\n",
       "      <td>Haywood</td>\n",
       "      <td>VA</td>\n",
       "      <td>Madison</td>\n",
       "      <td>22722</td>\n",
       "      <td>38.46162</td>\n",
       "      <td>...</td>\n",
       "      <td>7562.599269</td>\n",
       "      <td>25561.239910</td>\n",
       "      <td>4</td>\n",
       "      <td>5</td>\n",
       "      <td>5</td>\n",
       "      <td>5</td>\n",
       "      <td>3</td>\n",
       "      <td>4</td>\n",
       "      <td>4</td>\n",
       "      <td>4</td>\n",
       "    </tr>\n",
       "    <tr>\n",
       "      <th>6406</th>\n",
       "      <td>6407</td>\n",
       "      <td>6407</td>\n",
       "      <td>J423842</td>\n",
       "      <td>fe003dd7-d9b2-4cc0-b446-fc0c48cdabea</td>\n",
       "      <td>b481a4d89ab6871d664e7f917393a5ba</td>\n",
       "      <td>Scranton</td>\n",
       "      <td>PA</td>\n",
       "      <td>Lackawanna</td>\n",
       "      <td>18504</td>\n",
       "      <td>41.42553</td>\n",
       "      <td>...</td>\n",
       "      <td>7846.974041</td>\n",
       "      <td>10904.204470</td>\n",
       "      <td>3</td>\n",
       "      <td>4</td>\n",
       "      <td>4</td>\n",
       "      <td>4</td>\n",
       "      <td>3</td>\n",
       "      <td>3</td>\n",
       "      <td>4</td>\n",
       "      <td>4</td>\n",
       "    </tr>\n",
       "    <tr>\n",
       "      <th>1778</th>\n",
       "      <td>1779</td>\n",
       "      <td>1779</td>\n",
       "      <td>T848406</td>\n",
       "      <td>3c57ca24-c58c-45b0-a96f-928187a615d0</td>\n",
       "      <td>73fffc542bdeb8f39051413f55972023</td>\n",
       "      <td>Mowrystown</td>\n",
       "      <td>OH</td>\n",
       "      <td>Highland</td>\n",
       "      <td>45155</td>\n",
       "      <td>39.03989</td>\n",
       "      <td>...</td>\n",
       "      <td>2791.579250</td>\n",
       "      <td>5308.867753</td>\n",
       "      <td>3</td>\n",
       "      <td>3</td>\n",
       "      <td>5</td>\n",
       "      <td>5</td>\n",
       "      <td>3</td>\n",
       "      <td>3</td>\n",
       "      <td>3</td>\n",
       "      <td>6</td>\n",
       "    </tr>\n",
       "    <tr>\n",
       "      <th>7492</th>\n",
       "      <td>7493</td>\n",
       "      <td>7493</td>\n",
       "      <td>O138434</td>\n",
       "      <td>972201d0-4542-45cc-9748-2db92d663edf</td>\n",
       "      <td>a7f7ff8e034f870226a0ef8256f7c85b</td>\n",
       "      <td>Salina</td>\n",
       "      <td>OK</td>\n",
       "      <td>Mayes</td>\n",
       "      <td>74365</td>\n",
       "      <td>36.29622</td>\n",
       "      <td>...</td>\n",
       "      <td>7631.204444</td>\n",
       "      <td>8273.380003</td>\n",
       "      <td>3</td>\n",
       "      <td>4</td>\n",
       "      <td>3</td>\n",
       "      <td>4</td>\n",
       "      <td>4</td>\n",
       "      <td>2</td>\n",
       "      <td>4</td>\n",
       "      <td>4</td>\n",
       "    </tr>\n",
       "    <tr>\n",
       "      <th>4331</th>\n",
       "      <td>4332</td>\n",
       "      <td>4332</td>\n",
       "      <td>I799641</td>\n",
       "      <td>b1cc803b-4607-4574-87c0-b21aa78135ce</td>\n",
       "      <td>ee1901d4552a2678a06236c53dd83049</td>\n",
       "      <td>Morris</td>\n",
       "      <td>PA</td>\n",
       "      <td>Tioga</td>\n",
       "      <td>16938</td>\n",
       "      <td>41.57618</td>\n",
       "      <td>...</td>\n",
       "      <td>3429.376296</td>\n",
       "      <td>8770.146235</td>\n",
       "      <td>5</td>\n",
       "      <td>4</td>\n",
       "      <td>5</td>\n",
       "      <td>2</td>\n",
       "      <td>3</td>\n",
       "      <td>5</td>\n",
       "      <td>4</td>\n",
       "      <td>5</td>\n",
       "    </tr>\n",
       "    <tr>\n",
       "      <th>7244</th>\n",
       "      <td>7245</td>\n",
       "      <td>7245</td>\n",
       "      <td>Q478271</td>\n",
       "      <td>a747007e-9829-42ad-ac12-0f324843cd22</td>\n",
       "      <td>aa5aa234668bdfcd2be0688809bc6a3c</td>\n",
       "      <td>Rimersburg</td>\n",
       "      <td>PA</td>\n",
       "      <td>Clarion</td>\n",
       "      <td>16248</td>\n",
       "      <td>41.03487</td>\n",
       "      <td>...</td>\n",
       "      <td>8162.333595</td>\n",
       "      <td>29743.707850</td>\n",
       "      <td>2</td>\n",
       "      <td>4</td>\n",
       "      <td>3</td>\n",
       "      <td>4</td>\n",
       "      <td>4</td>\n",
       "      <td>2</td>\n",
       "      <td>2</td>\n",
       "      <td>1</td>\n",
       "    </tr>\n",
       "    <tr>\n",
       "      <th>4407</th>\n",
       "      <td>4408</td>\n",
       "      <td>4408</td>\n",
       "      <td>H470636</td>\n",
       "      <td>c0994b61-454e-4c42-8617-26304aa9d717</td>\n",
       "      <td>c57d48f888a7783080049f4246196487</td>\n",
       "      <td>Mine Hill</td>\n",
       "      <td>NJ</td>\n",
       "      <td>Morris</td>\n",
       "      <td>7803</td>\n",
       "      <td>40.87768</td>\n",
       "      <td>...</td>\n",
       "      <td>3006.005976</td>\n",
       "      <td>28085.029480</td>\n",
       "      <td>6</td>\n",
       "      <td>6</td>\n",
       "      <td>7</td>\n",
       "      <td>2</td>\n",
       "      <td>5</td>\n",
       "      <td>4</td>\n",
       "      <td>6</td>\n",
       "      <td>5</td>\n",
       "    </tr>\n",
       "    <tr>\n",
       "      <th>3073</th>\n",
       "      <td>3074</td>\n",
       "      <td>3074</td>\n",
       "      <td>O384337</td>\n",
       "      <td>b6858ab0-d64b-49c4-849c-f45ca438b5d7</td>\n",
       "      <td>354d33d91504054b4a9734c7ffb91a36</td>\n",
       "      <td>Elmer</td>\n",
       "      <td>NJ</td>\n",
       "      <td>Salem</td>\n",
       "      <td>8318</td>\n",
       "      <td>39.55629</td>\n",
       "      <td>...</td>\n",
       "      <td>4307.578475</td>\n",
       "      <td>6295.553345</td>\n",
       "      <td>5</td>\n",
       "      <td>4</td>\n",
       "      <td>4</td>\n",
       "      <td>4</td>\n",
       "      <td>3</td>\n",
       "      <td>4</td>\n",
       "      <td>4</td>\n",
       "      <td>5</td>\n",
       "    </tr>\n",
       "  </tbody>\n",
       "</table>\n",
       "<p>10 rows × 53 columns</p>\n",
       "</div>"
      ],
      "text/plain": [
       "      Unnamed: 0  CaseOrder Customer_id                           Interaction  \\\n",
       "8386        8387       8387     C817840  41770631-ff8b-4e71-9631-f369b04d2125   \n",
       "841          842        842     F304162  cbd20767-266b-470b-9bd7-9b8aab96da38   \n",
       "8598        8599       8599     C730234  bb1cdec6-187d-40ac-bcb2-1544f5bb4b1d   \n",
       "6406        6407       6407     J423842  fe003dd7-d9b2-4cc0-b446-fc0c48cdabea   \n",
       "1778        1779       1779     T848406  3c57ca24-c58c-45b0-a96f-928187a615d0   \n",
       "7492        7493       7493     O138434  972201d0-4542-45cc-9748-2db92d663edf   \n",
       "4331        4332       4332     I799641  b1cc803b-4607-4574-87c0-b21aa78135ce   \n",
       "7244        7245       7245     Q478271  a747007e-9829-42ad-ac12-0f324843cd22   \n",
       "4407        4408       4408     H470636  c0994b61-454e-4c42-8617-26304aa9d717   \n",
       "3073        3074       3074     O384337  b6858ab0-d64b-49c4-849c-f45ca438b5d7   \n",
       "\n",
       "                                   UID        City State      County    Zip  \\\n",
       "8386  f81e41a00a41c04266e666361ad49a33     Phoenix    AZ    Maricopa  85044   \n",
       "841   3424165edc18b296b6ec24d69101a2a9    Galloway    WV     Barbour  26349   \n",
       "8598  609d3ae46250dffa60021c1f62169869     Haywood    VA     Madison  22722   \n",
       "6406  b481a4d89ab6871d664e7f917393a5ba    Scranton    PA  Lackawanna  18504   \n",
       "1778  73fffc542bdeb8f39051413f55972023  Mowrystown    OH    Highland  45155   \n",
       "7492  a7f7ff8e034f870226a0ef8256f7c85b      Salina    OK       Mayes  74365   \n",
       "4331  ee1901d4552a2678a06236c53dd83049      Morris    PA       Tioga  16938   \n",
       "7244  aa5aa234668bdfcd2be0688809bc6a3c  Rimersburg    PA     Clarion  16248   \n",
       "4407  c57d48f888a7783080049f4246196487   Mine Hill    NJ      Morris   7803   \n",
       "3073  354d33d91504054b4a9734c7ffb91a36       Elmer    NJ       Salem   8318   \n",
       "\n",
       "           Lat  ...  TotalCharge  Additional_charges Item1 Item2 Item3  Item4  \\\n",
       "8386  33.34239  ...  7489.400811         6513.572723     4     3     4      1   \n",
       "841   39.23570  ...  3146.021218        14122.636410     3     3     4      5   \n",
       "8598  38.46162  ...  7562.599269        25561.239910     4     5     5      5   \n",
       "6406  41.42553  ...  7846.974041        10904.204470     3     4     4      4   \n",
       "1778  39.03989  ...  2791.579250         5308.867753     3     3     5      5   \n",
       "7492  36.29622  ...  7631.204444         8273.380003     3     4     3      4   \n",
       "4331  41.57618  ...  3429.376296         8770.146235     5     4     5      2   \n",
       "7244  41.03487  ...  8162.333595        29743.707850     2     4     3      4   \n",
       "4407  40.87768  ...  3006.005976        28085.029480     6     6     7      2   \n",
       "3073  39.55629  ...  4307.578475         6295.553345     5     4     4      4   \n",
       "\n",
       "      Item5 Item6 Item7  Item8  \n",
       "8386      4     4     3      3  \n",
       "841       4     2     2      4  \n",
       "8598      3     4     4      4  \n",
       "6406      3     3     4      4  \n",
       "1778      3     3     3      6  \n",
       "7492      4     2     4      4  \n",
       "4331      3     5     4      5  \n",
       "7244      4     2     2      1  \n",
       "4407      5     4     6      5  \n",
       "3073      3     4     4      5  \n",
       "\n",
       "[10 rows x 53 columns]"
      ]
     },
     "execution_count": 50,
     "metadata": {},
     "output_type": "execute_result"
    }
   ],
   "source": [
    "# Checking the outliers of income similar to the outliers of population\n",
    "income_outliers = df.sort_values(by='Income', ascending=False)\n",
    "income_outliers.head(10)"
   ]
  },
  {
   "cell_type": "code",
   "execution_count": 51,
   "id": "5d3794ef",
   "metadata": {},
   "outputs": [
    {
     "data": {
      "text/plain": [
       "Marital\n",
       "Widowed          2045\n",
       "Married          2023\n",
       "Separated        1987\n",
       "Never Married    1984\n",
       "Divorced         1961\n",
       "Name: count, dtype: int64"
      ]
     },
     "execution_count": 51,
     "metadata": {},
     "output_type": "execute_result"
    }
   ],
   "source": [
    "# Value counts of marital variable\n",
    "df['Marital'].value_counts()"
   ]
  },
  {
   "cell_type": "code",
   "execution_count": 52,
   "id": "2efb2aa2",
   "metadata": {},
   "outputs": [
    {
     "data": {
      "text/plain": [
       "Gender\n",
       "Female                  5018\n",
       "Male                    4768\n",
       "Prefer not to answer     214\n",
       "Name: count, dtype: int64"
      ]
     },
     "execution_count": 52,
     "metadata": {},
     "output_type": "execute_result"
    }
   ],
   "source": [
    "# Value counts of gender variable\n",
    "df['Gender'].value_counts()"
   ]
  },
  {
   "cell_type": "code",
   "execution_count": 53,
   "id": "4b6a8f0b",
   "metadata": {},
   "outputs": [
    {
     "data": {
      "text/plain": [
       "ReAdmis\n",
       "No     6331\n",
       "Yes    3669\n",
       "Name: count, dtype: int64"
      ]
     },
     "execution_count": 53,
     "metadata": {},
     "output_type": "execute_result"
    }
   ],
   "source": [
    "# Value counts of ReAdmission\n",
    "df['ReAdmis'].value_counts()"
   ]
  },
  {
   "cell_type": "code",
   "execution_count": 54,
   "id": "3b7397d7",
   "metadata": {},
   "outputs": [
    {
     "data": {
      "text/plain": [
       "VitD_levels\n",
       "17.802330    1\n",
       "18.423248    1\n",
       "15.954743    1\n",
       "19.566698    1\n",
       "19.221626    1\n",
       "            ..\n",
       "18.107325    1\n",
       "17.331743    1\n",
       "49.013013    1\n",
       "18.292722    1\n",
       "20.421883    1\n",
       "Name: count, Length: 10000, dtype: int64"
      ]
     },
     "execution_count": 54,
     "metadata": {},
     "output_type": "execute_result"
    }
   ],
   "source": [
    "# Value counts of Vit_D levels\n",
    "df['VitD_levels'].value_counts()"
   ]
  },
  {
   "cell_type": "code",
   "execution_count": 55,
   "id": "abdaaf90",
   "metadata": {},
   "outputs": [
    {
     "data": {
      "text/plain": [
       "count    10000.000000\n",
       "mean        19.412675\n",
       "std          6.723277\n",
       "min          9.519012\n",
       "25%         16.513171\n",
       "50%         18.080560\n",
       "75%         19.789740\n",
       "max         53.019124\n",
       "Name: VitD_levels, dtype: float64"
      ]
     },
     "execution_count": 55,
     "metadata": {},
     "output_type": "execute_result"
    }
   ],
   "source": [
    "# Looking at the statistics in Vitamin D Levels\n",
    "df['VitD_levels'].describe()"
   ]
  },
  {
   "cell_type": "code",
   "execution_count": 56,
   "id": "0814992b",
   "metadata": {},
   "outputs": [
    {
     "data": {
      "image/png": "[encoded data removed]",
      "text/plain": [
       "<Figure size 640x480 with 1 Axes>"
      ]
     },
     "metadata": {},
     "output_type": "display_data"
    }
   ],
   "source": [
    "# Checking for outliers in vitamin D levels\n",
    "sb.boxplot(x='VitD_levels', data=df);"
   ]
  },
  {
   "cell_type": "code",
   "execution_count": 57,
   "id": "8a50dc34",
   "metadata": {},
   "outputs": [
    {
     "data": {
      "text/plain": [
       "Doc_visits\n",
       "5    3823\n",
       "6    2436\n",
       "4    2385\n",
       "7     634\n",
       "3     595\n",
       "8      61\n",
       "2      58\n",
       "1       6\n",
       "9       2\n",
       "Name: count, dtype: int64"
      ]
     },
     "execution_count": 57,
     "metadata": {},
     "output_type": "execute_result"
    }
   ],
   "source": [
    "# Value counts for Doctor Visits\n",
    "df['Doc_visits'].value_counts()"
   ]
  },
  {
   "cell_type": "code",
   "execution_count": 58,
   "id": "806f5829",
   "metadata": {},
   "outputs": [
    {
     "data": {
      "text/plain": [
       "Full_meals_eaten\n",
       "0    3715\n",
       "1    3615\n",
       "2    1856\n",
       "3     612\n",
       "4     169\n",
       "5      25\n",
       "6       6\n",
       "7       2\n",
       "Name: count, dtype: int64"
      ]
     },
     "execution_count": 58,
     "metadata": {},
     "output_type": "execute_result"
    }
   ],
   "source": [
    "# Value Counts of meals eaten\n",
    "df['Full_meals_eaten'].value_counts()"
   ]
  },
  {
   "cell_type": "code",
   "execution_count": 59,
   "id": "56d6867a",
   "metadata": {},
   "outputs": [
    {
     "data": {
      "text/plain": [
       "VitD_supp\n",
       "0    6702\n",
       "1    2684\n",
       "2     544\n",
       "3      64\n",
       "4       5\n",
       "5       1\n",
       "Name: count, dtype: int64"
      ]
     },
     "execution_count": 59,
     "metadata": {},
     "output_type": "execute_result"
    }
   ],
   "source": [
    "# Value Counts of Vitamin D suppliments\n",
    "df['VitD_supp'].value_counts()"
   ]
  },
  {
   "cell_type": "code",
   "execution_count": 60,
   "id": "3afee0fa",
   "metadata": {},
   "outputs": [
    {
     "data": {
      "text/plain": [
       "Soft_drink\n",
       "No     5589\n",
       "Yes    1944\n",
       "Name: count, dtype: int64"
      ]
     },
     "execution_count": 60,
     "metadata": {},
     "output_type": "execute_result"
    }
   ],
   "source": [
    "# Value counts of soft Drinks\n",
    "df['Soft_drink'].value_counts()"
   ]
  },
  {
   "cell_type": "code",
   "execution_count": 61,
   "id": "b8660348",
   "metadata": {},
   "outputs": [
    {
     "data": {
      "text/plain": [
       "Initial_admin\n",
       "Emergency Admission      5060\n",
       "Elective Admission       2504\n",
       "Observation Admission    2436\n",
       "Name: count, dtype: int64"
      ]
     },
     "execution_count": 61,
     "metadata": {},
     "output_type": "execute_result"
    }
   ],
   "source": [
    "# Value counts of Initial admission\n",
    "df['Initial_admin'].value_counts()"
   ]
  },
  {
   "cell_type": "code",
   "execution_count": 62,
   "id": "8d49db6a",
   "metadata": {},
   "outputs": [
    {
     "data": {
      "text/plain": [
       "HighBlood\n",
       "No     5910\n",
       "Yes    4090\n",
       "Name: count, dtype: int64"
      ]
     },
     "execution_count": 62,
     "metadata": {},
     "output_type": "execute_result"
    }
   ],
   "source": [
    "# Value counts of High Blood pressure\n",
    "df['HighBlood'].value_counts()"
   ]
  },
  {
   "cell_type": "code",
   "execution_count": 63,
   "id": "d697842c",
   "metadata": {},
   "outputs": [
    {
     "data": {
      "text/plain": [
       "Stroke\n",
       "No     8007\n",
       "Yes    1993\n",
       "Name: count, dtype: int64"
      ]
     },
     "execution_count": 63,
     "metadata": {},
     "output_type": "execute_result"
    }
   ],
   "source": [
    "# Value counts for stroke\n",
    "df['Stroke'].value_counts()"
   ]
  },
  {
   "cell_type": "code",
   "execution_count": 64,
   "id": "2746ad45",
   "metadata": {},
   "outputs": [
    {
     "data": {
      "text/plain": [
       "Complication_risk\n",
       "Medium    4517\n",
       "High      3358\n",
       "Low       2125\n",
       "Name: count, dtype: int64"
      ]
     },
     "execution_count": 64,
     "metadata": {},
     "output_type": "execute_result"
    }
   ],
   "source": [
    "# Value counts for Complication risk\n",
    "df['Complication_risk'].value_counts()"
   ]
  },
  {
   "cell_type": "code",
   "execution_count": 65,
   "id": "8adfd9f9",
   "metadata": {},
   "outputs": [
    {
     "data": {
      "text/plain": [
       "Overweight\n",
       "1.0    6395\n",
       "0.0    2623\n",
       "Name: count, dtype: int64"
      ]
     },
     "execution_count": 65,
     "metadata": {},
     "output_type": "execute_result"
    }
   ],
   "source": [
    "# Value counts for Overweight\n",
    "df['Overweight'].value_counts()"
   ]
  },
  {
   "cell_type": "code",
   "execution_count": 66,
   "id": "e89c38b9",
   "metadata": {},
   "outputs": [
    {
     "data": {
      "text/plain": [
       "982"
      ]
     },
     "execution_count": 66,
     "metadata": {},
     "output_type": "execute_result"
    }
   ],
   "source": [
    "# How many null values are in overweight\n",
    "sum(df['Overweight'].isnull())"
   ]
  },
  {
   "cell_type": "code",
   "execution_count": 67,
   "id": "df2aaf6f",
   "metadata": {},
   "outputs": [
    {
     "data": {
      "text/plain": [
       "Arthritis\n",
       "No     6426\n",
       "Yes    3574\n",
       "Name: count, dtype: int64"
      ]
     },
     "execution_count": 67,
     "metadata": {},
     "output_type": "execute_result"
    }
   ],
   "source": [
    "# Value counts for Arthritis\n",
    "df['Arthritis'].value_counts()"
   ]
  },
  {
   "cell_type": "code",
   "execution_count": 68,
   "id": "c2a53065",
   "metadata": {},
   "outputs": [
    {
     "data": {
      "text/plain": [
       "Diabetes\n",
       "No     7262\n",
       "Yes    2738\n",
       "Name: count, dtype: int64"
      ]
     },
     "execution_count": 68,
     "metadata": {},
     "output_type": "execute_result"
    }
   ],
   "source": [
    "# Value counts for diabetes\n",
    "df['Diabetes'].value_counts()"
   ]
  },
  {
   "cell_type": "code",
   "execution_count": 69,
   "id": "75f84832",
   "metadata": {},
   "outputs": [
    {
     "data": {
      "text/plain": [
       "Hyperlipidemia\n",
       "No     6628\n",
       "Yes    3372\n",
       "Name: count, dtype: int64"
      ]
     },
     "execution_count": 69,
     "metadata": {},
     "output_type": "execute_result"
    }
   ],
   "source": [
    "# Value counts for Hyperlipidemia\n",
    "df['Hyperlipidemia'].value_counts()"
   ]
  },
  {
   "cell_type": "code",
   "execution_count": 70,
   "id": "8330feb9",
   "metadata": {},
   "outputs": [
    {
     "data": {
      "text/plain": [
       "BackPain\n",
       "No     5886\n",
       "Yes    4114\n",
       "Name: count, dtype: int64"
      ]
     },
     "execution_count": 70,
     "metadata": {},
     "output_type": "execute_result"
    }
   ],
   "source": [
    "# Value counts for Back Pain\n",
    "df['BackPain'].value_counts()"
   ]
  },
  {
   "cell_type": "code",
   "execution_count": 71,
   "id": "009408cf",
   "metadata": {},
   "outputs": [
    {
     "data": {
      "text/plain": [
       "Anxiety\n",
       "0.0    6110\n",
       "1.0    2906\n",
       "Name: count, dtype: int64"
      ]
     },
     "execution_count": 71,
     "metadata": {},
     "output_type": "execute_result"
    }
   ],
   "source": [
    "# Value counts for Anxiety\n",
    "df['Anxiety'].value_counts()"
   ]
  },
  {
   "cell_type": "code",
   "execution_count": 72,
   "id": "87b46a00",
   "metadata": {},
   "outputs": [
    {
     "data": {
      "text/plain": [
       "984"
      ]
     },
     "execution_count": 72,
     "metadata": {},
     "output_type": "execute_result"
    }
   ],
   "source": [
    "# How many null values are in anxiety\n",
    "sum(df['Anxiety'].isnull())"
   ]
  },
  {
   "cell_type": "code",
   "execution_count": 73,
   "id": "6f4a0579",
   "metadata": {},
   "outputs": [
    {
     "data": {
      "text/plain": [
       "Allergic_rhinitis\n",
       "No     6059\n",
       "Yes    3941\n",
       "Name: count, dtype: int64"
      ]
     },
     "execution_count": 73,
     "metadata": {},
     "output_type": "execute_result"
    }
   ],
   "source": [
    "# Value counts for Allergic rhinitis\n",
    "df['Allergic_rhinitis'].value_counts()"
   ]
  },
  {
   "cell_type": "code",
   "execution_count": 74,
   "id": "a0f711cc",
   "metadata": {},
   "outputs": [
    {
     "data": {
      "text/plain": [
       "Reflux_esophagitis\n",
       "No     5865\n",
       "Yes    4135\n",
       "Name: count, dtype: int64"
      ]
     },
     "execution_count": 74,
     "metadata": {},
     "output_type": "execute_result"
    }
   ],
   "source": [
    "# Value counts for reflux\n",
    "df['Reflux_esophagitis'].value_counts()"
   ]
  },
  {
   "cell_type": "code",
   "execution_count": 75,
   "id": "eaf5be53",
   "metadata": {},
   "outputs": [
    {
     "data": {
      "text/plain": [
       "Asthma\n",
       "No     7107\n",
       "Yes    2893\n",
       "Name: count, dtype: int64"
      ]
     },
     "execution_count": 75,
     "metadata": {},
     "output_type": "execute_result"
    }
   ],
   "source": [
    "# Value counts for asthma\n",
    "df['Asthma'].value_counts()"
   ]
  },
  {
   "cell_type": "code",
   "execution_count": 76,
   "id": "687ae349",
   "metadata": {},
   "outputs": [
    {
     "data": {
      "text/plain": [
       "Services\n",
       "Blood Work     5265\n",
       "Intravenous    3130\n",
       "CT Scan        1225\n",
       "MRI             380\n",
       "Name: count, dtype: int64"
      ]
     },
     "execution_count": 76,
     "metadata": {},
     "output_type": "execute_result"
    }
   ],
   "source": [
    "# Value counts for Services\n",
    "df['Services'].value_counts()"
   ]
  },
  {
   "cell_type": "code",
   "execution_count": 77,
   "id": "c0e95f7d",
   "metadata": {},
   "outputs": [
    {
     "data": {
      "text/plain": [
       "Initial_days\n",
       "10.585770    1\n",
       "64.630142    1\n",
       "48.772686    1\n",
       "67.036508    1\n",
       "63.334689    1\n",
       "            ..\n",
       "9.216747     1\n",
       "1.021594     1\n",
       "10.261690    1\n",
       "17.170461    1\n",
       "70.850592    1\n",
       "Name: count, Length: 8944, dtype: int64"
      ]
     },
     "execution_count": 77,
     "metadata": {},
     "output_type": "execute_result"
    }
   ],
   "source": [
    "# Value counts for Initial days admitted\n",
    "df['Initial_days'].value_counts()"
   ]
  },
  {
   "cell_type": "code",
   "execution_count": 78,
   "id": "0562d9b8",
   "metadata": {},
   "outputs": [
    {
     "data": {
      "text/plain": [
       "8944"
      ]
     },
     "execution_count": 78,
     "metadata": {},
     "output_type": "execute_result"
    }
   ],
   "source": [
    "# Number of unique days\n",
    "df['Initial_days'].nunique()"
   ]
  },
  {
   "cell_type": "code",
   "execution_count": 79,
   "id": "71d1533e",
   "metadata": {},
   "outputs": [
    {
     "data": {
      "text/plain": [
       "1056"
      ]
     },
     "execution_count": 79,
     "metadata": {},
     "output_type": "execute_result"
    }
   ],
   "source": [
    "# How many nulls are in initial days\n",
    "sum(df['Initial_days'].isnull())"
   ]
  },
  {
   "cell_type": "code",
   "execution_count": 80,
   "id": "ab571fd5",
   "metadata": {},
   "outputs": [
    {
     "data": {
      "image/png": "[encoded data removed]",
      "text/plain": [
       "<Figure size 640x480 with 1 Axes>"
      ]
     },
     "metadata": {},
     "output_type": "display_data"
    }
   ],
   "source": [
    "# Histogram for Initial days\n",
    "plt.hist(df['Initial_days']);"
   ]
  },
  {
   "cell_type": "code",
   "execution_count": 81,
   "id": "c34e417e",
   "metadata": {},
   "outputs": [
    {
     "name": "stdout",
     "output_type": "stream",
     "text": [
      "7       Observation Admission\n",
      "49      Observation Admission\n",
      "52        Emergency Admission\n",
      "57      Observation Admission\n",
      "62        Emergency Admission\n",
      "                ...          \n",
      "9956       Elective Admission\n",
      "9960       Elective Admission\n",
      "9969       Elective Admission\n",
      "9979       Elective Admission\n",
      "9997       Elective Admission\n",
      "Name: Initial_admin, Length: 1056, dtype: object\n"
     ]
    }
   ],
   "source": [
    "# Reason for admission compared to null initial days\n",
    "null_initial_days = df[df['Initial_days'].isnull()]\n",
    "initial_admin_values = null_initial_days['Initial_admin']\n",
    "print(initial_admin_values)"
   ]
  },
  {
   "cell_type": "code",
   "execution_count": 82,
   "id": "a28e80da",
   "metadata": {},
   "outputs": [
    {
     "data": {
      "text/plain": [
       "array(['Observation Admission', 'Emergency Admission',\n",
       "       'Elective Admission'], dtype=object)"
      ]
     },
     "execution_count": 82,
     "metadata": {},
     "output_type": "execute_result"
    }
   ],
   "source": [
    "# Reason for admission compared to null initial days\n",
    "initial_admin_values.unique()"
   ]
  },
  {
   "cell_type": "code",
   "execution_count": 83,
   "id": "66412af3",
   "metadata": {},
   "outputs": [
    {
     "data": {
      "text/plain": [
       "Initial_admin\n",
       "Emergency Admission      548\n",
       "Observation Admission    268\n",
       "Elective Admission       240\n",
       "Name: count, dtype: int64"
      ]
     },
     "execution_count": 83,
     "metadata": {},
     "output_type": "execute_result"
    }
   ],
   "source": [
    "# Value counts for reason for admission where initial days are null\n",
    "initial_admin_values.value_counts()"
   ]
  },
  {
   "cell_type": "code",
   "execution_count": 84,
   "id": "a1d26481",
   "metadata": {},
   "outputs": [
    {
     "data": {
      "text/plain": [
       "count    8944.000000\n",
       "mean       34.432082\n",
       "std        26.287050\n",
       "min         1.001981\n",
       "25%         7.911709\n",
       "50%        34.446941\n",
       "75%        61.124654\n",
       "max        71.981486\n",
       "Name: Initial_days, dtype: float64"
      ]
     },
     "execution_count": 84,
     "metadata": {},
     "output_type": "execute_result"
    }
   ],
   "source": [
    "# Checking the statistics for initial days\n",
    "df['Initial_days'].describe()"
   ]
  },
  {
   "cell_type": "code",
   "execution_count": 85,
   "id": "12e86efc",
   "metadata": {},
   "outputs": [
    {
     "data": {
      "text/plain": [
       "TotalCharge\n",
       "3191.048774     1\n",
       "7329.393066     1\n",
       "8498.290160     1\n",
       "8451.833926     1\n",
       "7530.770634     1\n",
       "               ..\n",
       "2065.518265     1\n",
       "3409.593273     1\n",
       "15289.590000    1\n",
       "4383.419018     1\n",
       "8700.856021     1\n",
       "Name: count, Length: 10000, dtype: int64"
      ]
     },
     "execution_count": 85,
     "metadata": {},
     "output_type": "execute_result"
    }
   ],
   "source": [
    "# Value Counts for total charge\n",
    "df['TotalCharge'].value_counts()"
   ]
  },
  {
   "cell_type": "code",
   "execution_count": 86,
   "id": "34d6a3af",
   "metadata": {},
   "outputs": [
    {
     "data": {
      "image/png": "[encoded data removed]",
      "text/plain": [
       "<Figure size 640x480 with 1 Axes>"
      ]
     },
     "metadata": {},
     "output_type": "display_data"
    }
   ],
   "source": [
    "# Histogram for the total charge\n",
    "plt.hist(df['TotalCharge']);"
   ]
  },
  {
   "cell_type": "code",
   "execution_count": 87,
   "id": "51f82c5d",
   "metadata": {},
   "outputs": [
    {
     "data": {
      "text/plain": [
       "Additional_charges\n",
       "8013.787149     5\n",
       "22000.064780    4\n",
       "3241.339760     4\n",
       "11303.682330    4\n",
       "8755.123303     4\n",
       "               ..\n",
       "20461.526600    1\n",
       "13357.949060    1\n",
       "5316.329223     1\n",
       "24412.109160    1\n",
       "11643.189930    1\n",
       "Name: count, Length: 8888, dtype: int64"
      ]
     },
     "execution_count": 87,
     "metadata": {},
     "output_type": "execute_result"
    }
   ],
   "source": [
    "# Value counts for additional charges\n",
    "df['Additional_charges'].value_counts()"
   ]
  },
  {
   "cell_type": "code",
   "execution_count": 88,
   "id": "accf57ef",
   "metadata": {},
   "outputs": [
    {
     "data": {
      "image/png": "[encoded data removed]",
      "text/plain": [
       "<Figure size 640x480 with 1 Axes>"
      ]
     },
     "metadata": {},
     "output_type": "display_data"
    }
   ],
   "source": [
    "# Histogram for additional charges\n",
    "plt.hist(df['Additional_charges']);"
   ]
  },
  {
   "cell_type": "code",
   "execution_count": 89,
   "id": "cb091d3b",
   "metadata": {},
   "outputs": [
    {
     "data": {
      "text/plain": [
       "Item1\n",
       "4    3455\n",
       "3    3404\n",
       "5    1377\n",
       "2    1315\n",
       "6     225\n",
       "1     213\n",
       "7      10\n",
       "8       1\n",
       "Name: count, dtype: int64"
      ]
     },
     "execution_count": 89,
     "metadata": {},
     "output_type": "execute_result"
    }
   ],
   "source": [
    "# Value counts for survey question 1\n",
    "df['Item1'].value_counts()"
   ]
  },
  {
   "cell_type": "code",
   "execution_count": 90,
   "id": "ee15d2cb",
   "metadata": {},
   "outputs": [
    {
     "data": {
      "text/plain": [
       "Item2\n",
       "3    3439\n",
       "4    3351\n",
       "5    1421\n",
       "2    1360\n",
       "1     213\n",
       "6     204\n",
       "7      12\n",
       "Name: count, dtype: int64"
      ]
     },
     "execution_count": 90,
     "metadata": {},
     "output_type": "execute_result"
    }
   ],
   "source": [
    "# Value counts for survey question 2\n",
    "df['Item2'].value_counts()"
   ]
  },
  {
   "cell_type": "code",
   "execution_count": 91,
   "id": "1b273dd1",
   "metadata": {},
   "outputs": [
    {
     "data": {
      "text/plain": [
       "Item3\n",
       "4    3464\n",
       "3    3379\n",
       "5    1358\n",
       "2    1356\n",
       "6     220\n",
       "1     211\n",
       "7      11\n",
       "8       1\n",
       "Name: count, dtype: int64"
      ]
     },
     "execution_count": 91,
     "metadata": {},
     "output_type": "execute_result"
    }
   ],
   "source": [
    "# Value counts for survey question 3\n",
    "df['Item3'].value_counts()"
   ]
  },
  {
   "cell_type": "code",
   "execution_count": 92,
   "id": "7b4fa9c4",
   "metadata": {},
   "outputs": [
    {
     "data": {
      "text/plain": [
       "Item4\n",
       "3    3422\n",
       "4    3394\n",
       "5    1388\n",
       "2    1346\n",
       "6     231\n",
       "1     207\n",
       "7      12\n",
       "Name: count, dtype: int64"
      ]
     },
     "execution_count": 92,
     "metadata": {},
     "output_type": "execute_result"
    }
   ],
   "source": [
    "# Value counts for survey question 4\n",
    "df['Item4'].value_counts()"
   ]
  },
  {
   "cell_type": "code",
   "execution_count": 93,
   "id": "6dfa2051",
   "metadata": {},
   "outputs": [
    {
     "data": {
      "text/plain": [
       "Item5\n",
       "4    3446\n",
       "3    3423\n",
       "2    1380\n",
       "5    1308\n",
       "6     219\n",
       "1     211\n",
       "7      13\n",
       "Name: count, dtype: int64"
      ]
     },
     "execution_count": 93,
     "metadata": {},
     "output_type": "execute_result"
    }
   ],
   "source": [
    "# Value counts for survey question 5\n",
    "df['Item5'].value_counts()"
   ]
  },
  {
   "cell_type": "code",
   "execution_count": 94,
   "id": "b5e4b53b",
   "metadata": {},
   "outputs": [
    {
     "data": {
      "text/plain": [
       "Item6\n",
       "4    3464\n",
       "3    3371\n",
       "5    1403\n",
       "2    1319\n",
       "6     220\n",
       "1     213\n",
       "7      10\n",
       "Name: count, dtype: int64"
      ]
     },
     "execution_count": 94,
     "metadata": {},
     "output_type": "execute_result"
    }
   ],
   "source": [
    "# Value counts for survey question 6\n",
    "df['Item6'].value_counts()"
   ]
  },
  {
   "cell_type": "code",
   "execution_count": 95,
   "id": "1e1eecc8",
   "metadata": {},
   "outputs": [
    {
     "data": {
      "text/plain": [
       "Item7\n",
       "4    3487\n",
       "3    3456\n",
       "2    1345\n",
       "5    1274\n",
       "1     215\n",
       "6     212\n",
       "7      11\n",
       "Name: count, dtype: int64"
      ]
     },
     "execution_count": 95,
     "metadata": {},
     "output_type": "execute_result"
    }
   ],
   "source": [
    "# Value counts for survey question 7\n",
    "df['Item7'].value_counts()"
   ]
  },
  {
   "cell_type": "code",
   "execution_count": 96,
   "id": "77d7422e",
   "metadata": {},
   "outputs": [
    {
     "data": {
      "text/plain": [
       "Item8\n",
       "3    3401\n",
       "4    3337\n",
       "5    1429\n",
       "2    1391\n",
       "6     221\n",
       "1     209\n",
       "7      12\n",
       "Name: count, dtype: int64"
      ]
     },
     "execution_count": 96,
     "metadata": {},
     "output_type": "execute_result"
    }
   ],
   "source": [
    "# Value counts for survey question 8\n",
    "df['Item8'].value_counts()"
   ]
  },
  {
   "cell_type": "markdown",
   "id": "bfc3bffb",
   "metadata": {},
   "source": [
    "### Part 3: Data-Cleaning\n",
    "\n",
    "#### D. Treatment\n",
    "\n",
    "1. Findings\n",
    "    * CaseOrder, Customer_id, Interaction, and UID do not need new datatypes but do need to renamed with python standard. \n",
    "    * City, State, county need to be renamed with lower case\n",
    "    * Zip needs to be changed to a string and the leading zero added back to the relevant zip codes.\n",
    "    * Latitude and Longitude need to be renamed with lower case and better descriptive names\n",
    "    * Population needs to be lower case\n",
    "    * Area needs to be reclassified as a category and lower case\n",
    "    * Timezone needs to be changed to the standard time zones without cities and then reclassified as a category and renamed.\n",
    "    * Job needs to be lowercase\n",
    "    * Children needs to be an int. There is also the issue of null values for children. Since there is a zero value we can't assume that the null values are just zeros. The mean for children is around 2 and there are about 3000 null values. Under different circumstances I think that the null values should be investigated further within the original data set and most likely ruled to stay as null, however since this class is about data cleaning I am going to use univariate imputation to fill in the missing values with the mean. This may skew the data more than is advised but I do not think it will ruin the integrity of the data. \n",
    "    * Age also needs to become an int and like Children I will be performing univariate imputation on the null values although the same caution applies here as well. \n",
    "    * Education needs to become a category data type and have ordinal encoding \n",
    "    * Employment needs to be lowercase and have ordinal encoding\n",
    "    * Income needs to be lowercase. Income also has missing values which I will fill in with the median since the distribution is skewed. Income also has some values that could be considered outliers on the upper end. However looking at the rows the larger incomes are valid data and removing them would be inappropriate. \n",
    "    * Marital needs to become a category\n",
    "    * Gender needs to become a category. The Gender column also has an issue that cannot easily be fixed. The data dictionary says that gender is self identified as \"Male\", \"Female\", or \"Nonbinary\". However the data itself is \"Male\", \"Female\", or \"Prefer not to answer\". Prefering not to answer is not the same as nonbinary and it would be irresponsible to change the phrasing \"Prefer not to answer\" to \"Nonbinary\". I cannot go look at the form patients fill out to see if the option is nonbinary or prefer not to answer therefore I cannot fix this error responsibly. To change the \"prefer not to answer\" to \"nonbinary\" as it says in the data dictionary would be unethical therefore I will keep the values as they are and advise that this issue needs to be corrected.\n",
    "    * All binary columns are going to be turned into 1/0 binaries, with 1 representing yes and 0 representing no. This will allow for easier analysis.\n",
    "    * Readmission needs to be 1/0 and also renamed\n",
    "    * VitD_levels need to be renamed\n",
    "    * Doc visits need to be renamed\n",
    "    * Full meals eaten needs to be renamed\n",
    "    * Vit D supp needs to be renamed\n",
    "    * Soft_drink is a binary and needs to be 1/0. There are missing values in soft_drink. Since this is a binary and there are not a significant amount of missing values I will use the most frequent answer to fill in the nulls. \n",
    "    * Initial admin needs to be a category\n",
    "    * High Blood needs to be 1/0\n",
    "    * Stroke needs to be 1/0\n",
    "    * Complication_risk needs to be 1/0\n",
    "    * Overweight is already a 1/0 binary and will be left that way however, similar to soft_drink I will use the most frewuent to fill in the null values.\n",
    "    * Arthritis needs to be 1/0\n",
    "    * Diabetes needs to be 1/0\n",
    "    * Hyperlipidemia needs to be 1/0\n",
    "    * Backpain needs to be 1/0\n",
    "    * Anxiety is already 1/0 and will be left and like overweight and Soft_drink I will use the most frequent to fill in the null values.\n",
    "    * Allergic_rhinitis needs to 1/0\n",
    "    * Reflux_esophagitis needs to be 1/0\n",
    "    * Asthma needs to be 1/0\n",
    "    * Services needs to be a category\n",
    "    * Initial_days has some complicated issues with it. First of all the initial days are stored as decimals which makes me think that initial days was actually tracked by hours in the hospitals and was converted to days. Is there a reason that we use days instead of hours? Probably because days will be easier for analysis. However days with decimals is not easier for analysis. Therefore I think the best course of action here would be to round all the decimals away. From looking at the inital day values I know there are no zeros, which makes sense to be because people typically do not stay in the hospital for less than a day unless it's for observation which I checked and not all the null values are for observation, however people do stay in the hospital for less than 24 hours (for instance if they are checked in at noon and discharged at 10 that would be a day but not 24 hours). Therefore my assumption is that the null values are those values that were under 1 but 22 hours or so. I think that rounding those null values up to 1 day would not be helpful for analysis since stays for 26 hours will be rounded down to 1 day and a hospital stay of 26 hours is categorically different for purposes of readmission analysis than stays of 20 hours. Therefore I am going to change the null values to be zero with the note that for analysis a zero day stay should be considered as admission that lasted less than 24 hours. This will keep the integrity of the data and make analysis better. \n",
    "    * Total Charge should be renamed\n",
    "    * Additional_charges should be renamed\n",
    "    * The Survey items should be renamed for clarity. The survey scores are already ordinally mapped and stored so I will not be changing that.\n",
    "    * All of the columns need to be lowercase, use underscores where needed, and many need to be renamed for clarity. \n",
    "    \n",
    "---\n",
    "    \n",
    "2. Why\n",
    "    * **Duplicates:** No duplicates were found in the data and so there is no treatement for duplicates.\n",
    "    * **Missing Values:** For the columns Children and Income I will be using univarite imputation to fill in the null values with the median value since they are both skewed distribution. We know that the nulls are not just zeros for these two columns and filling in the data will not mess with the integrity of the whole dataset. Using univarite imputation on these columns which are missing a larger amount of values will allow us to use the data in analysis while dropping the rows would reduce the data too much for a valid analysis. This is the same reasoning for the age column nulls, however since age is uniformly distributed I will use the mean to fill in the nulls. For the binary columns of soft_drink, Overweight, and Anxiety using univariate imputation with the most frequent answer will be the best way to maintain the distribution of the variables and not reduce the dataset. For the null values of initial_days I have made the assumption that the nulls are a representation of patients who spent less than 24 hours in the hospital. This is supported by the fact that there are no values under 1 in the column and by the existance of the decimals which suggests the original tracking of days in hospital was done in hours. Therefore I will replace those null values with zero's and note that that means in this context less than 24 hours spent in hospital. This will allow for the best analysis of this variable. \n",
    "   * **Outliers:** I have detected outliers in the income and the vitamin D level columns. For income I looked at the full rows of the highest incomes that were the outliers and decided that none of these values are incorrect. Income just happens to be wildly disparate and therefore it is expected for there to be outliers for income. Removing these higher income rows would distort the data where income might be a very important variable for hospital readmission. For vitamin D levels there are outliers at the top end again. Normal vitamin D levels are in the 50s which is where all of the outliers are suggesting that these people are not anomalies but simply not in hospital for something that will affect their vitamin D levels. Therefore, again, it would be bad to remove these values. \n",
    "    \n",
    "---\n",
    "\n",
    "3. Results\n",
    "\n",
    "    With the described changes the dataset is more streamlined and will allow for easier analysis. Each of the columns is properly formated for the data it contains so that the correct analysis can be done and the data has been simplified while keeping the integrity for better analysis to be performed. Visualizations of the cleaned data has been provided below in the code. \n",
    "    \n",
    "---\n",
    "    \n",
    "4. Code"
   ]
  },
  {
   "cell_type": "code",
   "execution_count": 97,
   "id": "5eb74518",
   "metadata": {},
   "outputs": [
    {
     "data": {
      "text/plain": [
       "Zip\n",
       "25674    4\n",
       "78104    4\n",
       "68355    4\n",
       "62098    4\n",
       "24136    4\n",
       "        ..\n",
       "18337    1\n",
       "58442    1\n",
       "71353    1\n",
       "81612    1\n",
       "15108    1\n",
       "Name: count, Length: 8612, dtype: int64"
      ]
     },
     "execution_count": 97,
     "metadata": {},
     "output_type": "execute_result"
    }
   ],
   "source": [
    "# Convert the Zip column to a string and then pad any values with 4 numbers with a leading 0\n",
    "df['Zip'] = df['Zip'].astype(\"str\").str.zfill(5)\n",
    "\n",
    "# Check the column type\n",
    "df['Zip'].value_counts()"
   ]
  },
  {
   "cell_type": "code",
   "execution_count": 98,
   "id": "94ec4644",
   "metadata": {},
   "outputs": [
    {
     "name": "stdout",
     "output_type": "stream",
     "text": [
      "True\n"
     ]
    }
   ],
   "source": [
    "# Check that all values are 5 long\n",
    "all_have_five_values = all(len(str(value)) == 5 for value in df['Zip'])\n",
    "print(all_have_five_values)"
   ]
  },
  {
   "cell_type": "code",
   "execution_count": 99,
   "id": "badc02da",
   "metadata": {},
   "outputs": [
    {
     "name": "stderr",
     "output_type": "stream",
     "text": [
      "C:\\Users\\natal\\AppData\\Local\\Temp\\ipykernel_21412\\3965041800.py:2: FutureWarning: A value is trying to be set on a copy of a DataFrame or Series through chained assignment using an inplace method.\n",
      "The behavior will change in pandas 3.0. This inplace method will never work because the intermediate object on which we are setting values always behaves as a copy.\n",
      "\n",
      "For example, when doing 'df[col].method(value, inplace=True)', try using 'df.method({col: value}, inplace=True)' or df[col] = df[col].method(value) instead, to perform the operation inplace on the original object.\n",
      "\n",
      "\n",
      "  df.Timezone.replace({\n"
     ]
    }
   ],
   "source": [
    "# Fix the Timezone sections to the standard US time zones without the city attached\n",
    "df.Timezone.replace({\n",
    "    # Puerto Rica has it's own time zone\n",
    "    'America/Puerto_Rico' : \"US - Puerto Rico\",\n",
    "    # All the cities in the US Eastern zone\n",
    "    'America/New_York' : 'US - Eastern',\n",
    "    'America/Detroit' : 'US - Eastern',\n",
    "    'America/Indiana/Indianapolis' : 'US - Eastern',\n",
    "    'America/Indiana/Vevay' : 'US - Eastern',\n",
    "    'America/Indiana/Vincennes' : 'US - Eastern',\n",
    "    'America/Kentucky/Louisville' : 'US - Eastern',\n",
    "    'America/Toronto' : 'US - Eastern',\n",
    "    'America/Indiana/Marengo' : 'US - Eastern',\n",
    "    'America/Indiana/Winamac' : 'US - Eastern',\n",
    "    # All the cities in US Central zone\n",
    "    'America/Chicago' : 'US - Central',\n",
    "    'America/Menominee' : 'US - Central',\n",
    "    'America/Indiana/Knox' : 'US - Central',\n",
    "    'America/Indiana/Tell_City' : 'US - Central',\n",
    "    'America/North_Dakota/Beulah' : 'US - Central',\n",
    "    'America/North_Dakota/New_Salem' : 'US - Central',\n",
    "    # All the Cities in US Mountain zone\n",
    "    'America/Denver' : 'US - Mountain',\n",
    "    'America/Boise' : 'US - Mountain',\n",
    "    # Arizona which is Mountain but doesn't observe day light savings\n",
    "    'America/Phoenix' : 'US - Arizona',\n",
    "    # The city in Pacific time\n",
    "    'America/Los_Angeles' : 'US - Pacific',\n",
    "    # Alaskan Time zone\n",
    "    'America/Nome' : 'US - Alaskan',\n",
    "    'America/Anchorage' : 'US - Alaskan',\n",
    "    'America/Sitka' : 'US - Alaskan',\n",
    "    'America/Yakutat' : 'US - Alaskan',\n",
    "    # Hawaiian Time Zone that doesn't observe day light savings\n",
    "    'Pacific/Honolulu' : 'US - Hawaiian',\n",
    "    # Aleutian time zone that observes day light savings and otherwise would be with Hawaiian\n",
    "    'America/Adak' : 'US - Aleutian'\n",
    "    }, inplace = True)"
   ]
  },
  {
   "cell_type": "code",
   "execution_count": 100,
   "id": "9222b81b",
   "metadata": {},
   "outputs": [
    {
     "data": {
      "text/plain": [
       "Timezone\n",
       "US - Eastern        4326\n",
       "US - Central        3792\n",
       "US - Pacific         937\n",
       "US - Mountain        698\n",
       "US - Arizona         100\n",
       "US - Alaskan          69\n",
       "US - Puerto Rico      43\n",
       "US - Hawaiian         34\n",
       "US - Aleutian          1\n",
       "Name: count, dtype: int64"
      ]
     },
     "execution_count": 100,
     "metadata": {},
     "output_type": "execute_result"
    }
   ],
   "source": [
    "# Check that none of the timezone with the city name attached remain\n",
    "df['Timezone'].value_counts()"
   ]
  },
  {
   "cell_type": "code",
   "execution_count": 101,
   "id": "97406e8f",
   "metadata": {},
   "outputs": [],
   "source": [
    "# Change the relevant columns to a category data type\n",
    "df['Area'] = df['Area'].astype('category')\n",
    "df['Timezone'] = df['Timezone'].astype('category')\n",
    "df['Education'] = df['Education'].astype('category')\n",
    "df['Employment'] = df['Employment'].astype('category')\n",
    "df['Marital'] = df['Marital'].astype('category')\n",
    "df['Gender'] = df['Gender'].astype('category')\n",
    "df['Initial_admin'] = df['Initial_admin'].astype('category')\n",
    "df['Services'] = df['Services'].astype('category')"
   ]
  },
  {
   "cell_type": "code",
   "execution_count": 102,
   "id": "9d1f3380",
   "metadata": {},
   "outputs": [
    {
     "data": {
      "text/plain": [
       "Unnamed: 0               int64\n",
       "CaseOrder                int64\n",
       "Customer_id             object\n",
       "Interaction             object\n",
       "UID                     object\n",
       "City                    object\n",
       "State                   object\n",
       "County                  object\n",
       "Zip                     object\n",
       "Lat                    float64\n",
       "Lng                    float64\n",
       "Population               int64\n",
       "Area                  category\n",
       "Timezone              category\n",
       "Job                     object\n",
       "Children               float64\n",
       "Age                    float64\n",
       "Education             category\n",
       "Employment            category\n",
       "Income                 float64\n",
       "Marital               category\n",
       "Gender                category\n",
       "ReAdmis                 object\n",
       "VitD_levels            float64\n",
       "Doc_visits               int64\n",
       "Full_meals_eaten         int64\n",
       "VitD_supp                int64\n",
       "Soft_drink              object\n",
       "Initial_admin         category\n",
       "HighBlood               object\n",
       "Stroke                  object\n",
       "Complication_risk       object\n",
       "Overweight             float64\n",
       "Arthritis               object\n",
       "Diabetes                object\n",
       "Hyperlipidemia          object\n",
       "BackPain                object\n",
       "Anxiety                float64\n",
       "Allergic_rhinitis       object\n",
       "Reflux_esophagitis      object\n",
       "Asthma                  object\n",
       "Services              category\n",
       "Initial_days           float64\n",
       "TotalCharge            float64\n",
       "Additional_charges     float64\n",
       "Item1                    int64\n",
       "Item2                    int64\n",
       "Item3                    int64\n",
       "Item4                    int64\n",
       "Item5                    int64\n",
       "Item6                    int64\n",
       "Item7                    int64\n",
       "Item8                    int64\n",
       "dtype: object"
      ]
     },
     "execution_count": 102,
     "metadata": {},
     "output_type": "execute_result"
    }
   ],
   "source": [
    "# Check that the columns are all category datatype\n",
    "df.dtypes"
   ]
  },
  {
   "cell_type": "code",
   "execution_count": 103,
   "id": "9a86edb8",
   "metadata": {},
   "outputs": [
    {
     "data": {
      "text/plain": [
       "education_ordinal\n",
       "4     2444\n",
       "8     1724\n",
       "6     1484\n",
       "2      832\n",
       "7      797\n",
       "9      701\n",
       "5      642\n",
       "1      552\n",
       "3      389\n",
       "10     208\n",
       "0      133\n",
       "11      94\n",
       "Name: count, dtype: int64"
      ]
     },
     "execution_count": 103,
     "metadata": {},
     "output_type": "execute_result"
    }
   ],
   "source": [
    "# Create Ordinal Encoding for the relevant columns\n",
    "# Order the schooling in a hierarchy\n",
    "education_order = [\n",
    "    \"No Schooling Completed\",\n",
    "    \"Nursery School to 8th Grade\",\n",
    "    \"9th Grade to 12th Grade, No Diploma\",\n",
    "    \"GED or Alternative Credential\",\n",
    "    \"Regular High School Diploma\",\n",
    "    \"Some College, Less than 1 Year\",\n",
    "    \"Some College, 1 or More Years, No Degree\",\n",
    "    \"Associate's Degree\",\n",
    "    \"Bachelor's Degree\",\n",
    "    \"Master's Degree\",\n",
    "    \"Professional School Degree\",\n",
    "    \"Doctorate Degree\"\n",
    "]\n",
    "# Create a mapping for the education order \n",
    "education_mapping = {education: index for index, education in enumerate(education_order)}\n",
    "# Apply ordinal encoding to the column using the mapping\n",
    "df['education_ordinal'] = df['Education'].map(education_mapping)\n",
    "# Check the new ordinal column\n",
    "df['education_ordinal'].value_counts()"
   ]
  },
  {
   "cell_type": "code",
   "execution_count": 104,
   "id": "3aeb7ab9",
   "metadata": {},
   "outputs": [
    {
     "data": {
      "text/plain": [
       "employment_ordinal\n",
       "3    6029\n",
       "1    1017\n",
       "2     991\n",
       "0     983\n",
       "4     980\n",
       "Name: count, dtype: int64"
      ]
     },
     "execution_count": 104,
     "metadata": {},
     "output_type": "execute_result"
    }
   ],
   "source": [
    "# Do the same for Employment, start with the heirarchy list\n",
    "employment_order = [\n",
    "    \"Unemployed\",\n",
    "    \"Student\",\n",
    "    \"Part Time\",\n",
    "    \"Full Time\",\n",
    "    \"Retired\"\n",
    "]\n",
    "\n",
    "# Create a dictionary mapping each employment level to its corresponding ordinal value\n",
    "employment_mapping = {employment: index for index, employment in enumerate(employment_order)}\n",
    "\n",
    "# Apply ordinal encoding to the \"Employment\" column using the defined mapping\n",
    "df['employment_ordinal'] = df['Employment'].map(employment_mapping)\n",
    "\n",
    "# Check the new column\n",
    "df['employment_ordinal'].value_counts()"
   ]
  },
  {
   "cell_type": "code",
   "execution_count": 105,
   "id": "1d759b89",
   "metadata": {},
   "outputs": [],
   "source": [
    "# Use univariate imputation on Children and income using the median and age using the mean\n",
    "# Define the columns\n",
    "columns_to_impute = ['Children', 'Income']\n",
    "\n",
    "# Create the SimpleImputer object with strategy='median'\n",
    "imputer = SimpleImputer(strategy='median')\n",
    "\n",
    "# Perform imputation on the specified columns\n",
    "df[columns_to_impute] = imputer.fit_transform(df[columns_to_impute])"
   ]
  },
  {
   "cell_type": "code",
   "execution_count": 106,
   "id": "4f051795",
   "metadata": {},
   "outputs": [],
   "source": [
    "# Define the Age column\n",
    "columns_to_impute = ['Age']\n",
    "\n",
    "# Create the SimpleImputer object with strategy='mean'\n",
    "imputer = SimpleImputer(strategy='mean')\n",
    "\n",
    "# Perform imputation on the specified columns\n",
    "df[columns_to_impute] = imputer.fit_transform(df[columns_to_impute])"
   ]
  },
  {
   "cell_type": "code",
   "execution_count": 107,
   "id": "3b6e78bc",
   "metadata": {},
   "outputs": [
    {
     "name": "stdout",
     "output_type": "stream",
     "text": [
      "<class 'pandas.core.frame.DataFrame'>\n",
      "RangeIndex: 10000 entries, 0 to 9999\n",
      "Data columns (total 55 columns):\n",
      " #   Column              Non-Null Count  Dtype   \n",
      "---  ------              --------------  -----   \n",
      " 0   Unnamed: 0          10000 non-null  int64   \n",
      " 1   CaseOrder           10000 non-null  int64   \n",
      " 2   Customer_id         10000 non-null  object  \n",
      " 3   Interaction         10000 non-null  object  \n",
      " 4   UID                 10000 non-null  object  \n",
      " 5   City                10000 non-null  object  \n",
      " 6   State               10000 non-null  object  \n",
      " 7   County              10000 non-null  object  \n",
      " 8   Zip                 10000 non-null  object  \n",
      " 9   Lat                 10000 non-null  float64 \n",
      " 10  Lng                 10000 non-null  float64 \n",
      " 11  Population          10000 non-null  int64   \n",
      " 12  Area                10000 non-null  category\n",
      " 13  Timezone            10000 non-null  category\n",
      " 14  Job                 10000 non-null  object  \n",
      " 15  Children            10000 non-null  float64 \n",
      " 16  Age                 10000 non-null  float64 \n",
      " 17  Education           10000 non-null  category\n",
      " 18  Employment          10000 non-null  category\n",
      " 19  Income              10000 non-null  float64 \n",
      " 20  Marital             10000 non-null  category\n",
      " 21  Gender              10000 non-null  category\n",
      " 22  ReAdmis             10000 non-null  object  \n",
      " 23  VitD_levels         10000 non-null  float64 \n",
      " 24  Doc_visits          10000 non-null  int64   \n",
      " 25  Full_meals_eaten    10000 non-null  int64   \n",
      " 26  VitD_supp           10000 non-null  int64   \n",
      " 27  Soft_drink          7533 non-null   object  \n",
      " 28  Initial_admin       10000 non-null  category\n",
      " 29  HighBlood           10000 non-null  object  \n",
      " 30  Stroke              10000 non-null  object  \n",
      " 31  Complication_risk   10000 non-null  object  \n",
      " 32  Overweight          9018 non-null   float64 \n",
      " 33  Arthritis           10000 non-null  object  \n",
      " 34  Diabetes            10000 non-null  object  \n",
      " 35  Hyperlipidemia      10000 non-null  object  \n",
      " 36  BackPain            10000 non-null  object  \n",
      " 37  Anxiety             9016 non-null   float64 \n",
      " 38  Allergic_rhinitis   10000 non-null  object  \n",
      " 39  Reflux_esophagitis  10000 non-null  object  \n",
      " 40  Asthma              10000 non-null  object  \n",
      " 41  Services            10000 non-null  category\n",
      " 42  Initial_days        8944 non-null   float64 \n",
      " 43  TotalCharge         10000 non-null  float64 \n",
      " 44  Additional_charges  10000 non-null  float64 \n",
      " 45  Item1               10000 non-null  int64   \n",
      " 46  Item2               10000 non-null  int64   \n",
      " 47  Item3               10000 non-null  int64   \n",
      " 48  Item4               10000 non-null  int64   \n",
      " 49  Item5               10000 non-null  int64   \n",
      " 50  Item6               10000 non-null  int64   \n",
      " 51  Item7               10000 non-null  int64   \n",
      " 52  Item8               10000 non-null  int64   \n",
      " 53  education_ordinal   10000 non-null  category\n",
      " 54  employment_ordinal  10000 non-null  category\n",
      "dtypes: category(10), float64(11), int64(14), object(20)\n",
      "memory usage: 3.5+ MB\n"
     ]
    }
   ],
   "source": [
    "# Check there are no longer null values in children, income, age\n",
    "df.info()"
   ]
  },
  {
   "cell_type": "code",
   "execution_count": 108,
   "id": "0de3ad44",
   "metadata": {},
   "outputs": [
    {
     "data": {
      "image/png": "[encoded data removed]",
      "text/plain": [
       "<Figure size 640x480 with 1 Axes>"
      ]
     },
     "metadata": {},
     "output_type": "display_data"
    }
   ],
   "source": [
    "# Check the distribution of Children\n",
    "plt.hist(df['Children']);"
   ]
  },
  {
   "cell_type": "code",
   "execution_count": 109,
   "id": "656f6012",
   "metadata": {},
   "outputs": [
    {
     "data": {
      "image/png": "[encoded data removed]",
      "text/plain": [
       "<Figure size 640x480 with 1 Axes>"
      ]
     },
     "metadata": {},
     "output_type": "display_data"
    }
   ],
   "source": [
    "# Check the distribution of Income\n",
    "plt.hist(df['Income']);"
   ]
  },
  {
   "cell_type": "code",
   "execution_count": 110,
   "id": "bfec1500",
   "metadata": {},
   "outputs": [
    {
     "data": {
      "image/png": "[encoded data removed]",
      "text/plain": [
       "<Figure size 640x480 with 1 Axes>"
      ]
     },
     "metadata": {},
     "output_type": "display_data"
    }
   ],
   "source": [
    "# Check the distribution of Age\n",
    "plt.hist(df['Age']);"
   ]
  },
  {
   "cell_type": "code",
   "execution_count": 111,
   "id": "728a8ac6",
   "metadata": {},
   "outputs": [
    {
     "name": "stderr",
     "output_type": "stream",
     "text": [
      "C:\\Users\\natal\\AppData\\Local\\Temp\\ipykernel_21412\\138112672.py:2: FutureWarning: A value is trying to be set on a copy of a DataFrame or Series through chained assignment using an inplace method.\n",
      "The behavior will change in pandas 3.0. This inplace method will never work because the intermediate object on which we are setting values always behaves as a copy.\n",
      "\n",
      "For example, when doing 'df[col].method(value, inplace=True)', try using 'df.method({col: value}, inplace=True)' or df[col] = df[col].method(value) instead, to perform the operation inplace on the original object.\n",
      "\n",
      "\n",
      "  df['Initial_days'].fillna(0, inplace=True)\n"
     ]
    }
   ],
   "source": [
    "# Change all nulls in Initial days to 0\n",
    "df['Initial_days'].fillna(0, inplace=True)"
   ]
  },
  {
   "cell_type": "code",
   "execution_count": 112,
   "id": "8f9da7d7",
   "metadata": {},
   "outputs": [
    {
     "data": {
      "text/plain": [
       "0"
      ]
     },
     "execution_count": 112,
     "metadata": {},
     "output_type": "execute_result"
    }
   ],
   "source": [
    "# Check that initial days as no nulls\n",
    "sum(df['Initial_days'].isnull())"
   ]
  },
  {
   "cell_type": "code",
   "execution_count": 113,
   "id": "8c4bdcaa",
   "metadata": {},
   "outputs": [
    {
     "name": "stderr",
     "output_type": "stream",
     "text": [
      "C:\\Users\\natal\\AppData\\Local\\Temp\\ipykernel_21412\\3540527947.py:2: FutureWarning: Downcasting behavior in `replace` is deprecated and will be removed in a future version. To retain the old behavior, explicitly call `result.infer_objects(copy=False)`. To opt-in to the future behavior, set `pd.set_option('future.no_silent_downcasting', True)`\n",
      "  df['Soft_drink'] = df['Soft_drink'].replace({'Yes': 1, 'No': 0})\n"
     ]
    }
   ],
   "source": [
    "# Before being about to univariate imputate the most frequent value I need to turn soft_drink into a 1/0\n",
    "df['Soft_drink'] = df['Soft_drink'].replace({'Yes': 1, 'No': 0})"
   ]
  },
  {
   "cell_type": "code",
   "execution_count": 114,
   "id": "a0f4e16b",
   "metadata": {},
   "outputs": [
    {
     "data": {
      "text/plain": [
       "Soft_drink\n",
       "0.0    5589\n",
       "1.0    1944\n",
       "Name: count, dtype: int64"
      ]
     },
     "execution_count": 114,
     "metadata": {},
     "output_type": "execute_result"
    }
   ],
   "source": [
    "# Checking to make sure that worked\n",
    "df['Soft_drink'].value_counts()"
   ]
  },
  {
   "cell_type": "code",
   "execution_count": 115,
   "id": "5b4d54e9",
   "metadata": {},
   "outputs": [],
   "source": [
    "# create an object for replacing the nulls with the most frequent value\n",
    "binary_imputer = SimpleImputer(strategy='most_frequent')\n",
    "\n",
    "# Impute the null values in the three columns\n",
    "binary_columns = ['Soft_drink', 'Overweight', 'Anxiety']\n",
    "df[binary_columns] = binary_imputer.fit_transform(df[binary_columns])"
   ]
  },
  {
   "cell_type": "code",
   "execution_count": 116,
   "id": "53f5279d",
   "metadata": {},
   "outputs": [
    {
     "data": {
      "text/plain": [
       "Soft_drink\n",
       "0.0    8056\n",
       "1.0    1944\n",
       "Name: count, dtype: int64"
      ]
     },
     "execution_count": 116,
     "metadata": {},
     "output_type": "execute_result"
    }
   ],
   "source": [
    "#Check the three columns to make sure there are no null values\n",
    "# Soft_drink first\n",
    "df['Soft_drink'].value_counts()"
   ]
  },
  {
   "cell_type": "code",
   "execution_count": 117,
   "id": "7e8ce9ab",
   "metadata": {},
   "outputs": [
    {
     "data": {
      "text/plain": [
       "Overweight\n",
       "1.0    7377\n",
       "0.0    2623\n",
       "Name: count, dtype: int64"
      ]
     },
     "execution_count": 117,
     "metadata": {},
     "output_type": "execute_result"
    }
   ],
   "source": [
    "# Check for no nulls in Overweight\n",
    "df['Overweight'].value_counts()"
   ]
  },
  {
   "cell_type": "code",
   "execution_count": 118,
   "id": "2220e824",
   "metadata": {},
   "outputs": [
    {
     "data": {
      "text/plain": [
       "Anxiety\n",
       "0.0    7094\n",
       "1.0    2906\n",
       "Name: count, dtype: int64"
      ]
     },
     "execution_count": 118,
     "metadata": {},
     "output_type": "execute_result"
    }
   ],
   "source": [
    "#Check for no nulls in Anxiety\n",
    "df['Anxiety'].value_counts()"
   ]
  },
  {
   "cell_type": "code",
   "execution_count": 119,
   "id": "e8cdb863",
   "metadata": {},
   "outputs": [
    {
     "name": "stderr",
     "output_type": "stream",
     "text": [
      "C:\\Users\\natal\\AppData\\Local\\Temp\\ipykernel_21412\\2028938358.py:6: FutureWarning: Downcasting behavior in `replace` is deprecated and will be removed in a future version. To retain the old behavior, explicitly call `result.infer_objects(copy=False)`. To opt-in to the future behavior, set `pd.set_option('future.no_silent_downcasting', True)`\n",
      "  df[columns_to_convert] = df[columns_to_convert].replace({'Yes': 1, 'No': 0})\n"
     ]
    }
   ],
   "source": [
    "# Define a list of columns to convert from \"yes\" and \"no\" to 1 and 0\n",
    "columns_to_convert = ['ReAdmis', 'HighBlood', 'Stroke', 'Arthritis', 'Diabetes','Hyperlipidemia', 'BackPain', \n",
    "                      'Allergic_rhinitis', 'Reflux_esophagitis', 'Asthma']\n",
    "\n",
    "# Convert the columns from \"yes\" and \"no\" to 1 and 0 using the mapping\n",
    "df[columns_to_convert] = df[columns_to_convert].replace({'Yes': 1, 'No': 0})\n",
    "\n",
    "# Convert the specified columns to integer data types\n",
    "df[columns_to_convert] = df[columns_to_convert].astype(int)"
   ]
  },
  {
   "cell_type": "code",
   "execution_count": 120,
   "id": "fd31a18c",
   "metadata": {},
   "outputs": [],
   "source": [
    "# Convert anxiety and overweight and Soft_drink from float to int\n",
    "df['Overweight'] = df['Overweight'].astype(int)\n",
    "df['Anxiety'] = df['Anxiety'].astype(int)\n",
    "df['Soft_drink'] = df['Soft_drink'].astype(int)"
   ]
  },
  {
   "cell_type": "code",
   "execution_count": 121,
   "id": "db034a3d",
   "metadata": {},
   "outputs": [],
   "source": [
    "# Convert Complication risk to 1, 2, 3 for low, medium, high\n",
    "risk_mapping = {'High': 3, 'Medium': 2, 'Low': 1}\n",
    "\n",
    "# Map the values in the \"complication_risk\" column using the defined mapping\n",
    "df['Complication_risk'] = df['Complication_risk'].map(risk_mapping)\n",
    "\n",
    "# Convert to int type\n",
    "df['Complication_risk'] = df['Complication_risk'].astype(int)"
   ]
  },
  {
   "cell_type": "code",
   "execution_count": 122,
   "id": "05650c3d",
   "metadata": {},
   "outputs": [
    {
     "data": {
      "text/plain": [
       "Complication_risk\n",
       "2    4517\n",
       "3    3358\n",
       "1    2125\n",
       "Name: count, dtype: int64"
      ]
     },
     "execution_count": 122,
     "metadata": {},
     "output_type": "execute_result"
    }
   ],
   "source": [
    "# Check the results\n",
    "df['Complication_risk'].value_counts()"
   ]
  },
  {
   "cell_type": "code",
   "execution_count": 123,
   "id": "6695a7a0",
   "metadata": {},
   "outputs": [
    {
     "name": "stdout",
     "output_type": "stream",
     "text": [
      "<class 'pandas.core.frame.DataFrame'>\n",
      "RangeIndex: 10000 entries, 0 to 9999\n",
      "Data columns (total 55 columns):\n",
      " #   Column              Non-Null Count  Dtype   \n",
      "---  ------              --------------  -----   \n",
      " 0   Unnamed: 0          10000 non-null  int64   \n",
      " 1   CaseOrder           10000 non-null  int64   \n",
      " 2   Customer_id         10000 non-null  object  \n",
      " 3   Interaction         10000 non-null  object  \n",
      " 4   UID                 10000 non-null  object  \n",
      " 5   City                10000 non-null  object  \n",
      " 6   State               10000 non-null  object  \n",
      " 7   County              10000 non-null  object  \n",
      " 8   Zip                 10000 non-null  object  \n",
      " 9   Lat                 10000 non-null  float64 \n",
      " 10  Lng                 10000 non-null  float64 \n",
      " 11  Population          10000 non-null  int64   \n",
      " 12  Area                10000 non-null  category\n",
      " 13  Timezone            10000 non-null  category\n",
      " 14  Job                 10000 non-null  object  \n",
      " 15  Children            10000 non-null  float64 \n",
      " 16  Age                 10000 non-null  float64 \n",
      " 17  Education           10000 non-null  category\n",
      " 18  Employment          10000 non-null  category\n",
      " 19  Income              10000 non-null  float64 \n",
      " 20  Marital             10000 non-null  category\n",
      " 21  Gender              10000 non-null  category\n",
      " 22  ReAdmis             10000 non-null  int32   \n",
      " 23  VitD_levels         10000 non-null  float64 \n",
      " 24  Doc_visits          10000 non-null  int64   \n",
      " 25  Full_meals_eaten    10000 non-null  int64   \n",
      " 26  VitD_supp           10000 non-null  int64   \n",
      " 27  Soft_drink          10000 non-null  int32   \n",
      " 28  Initial_admin       10000 non-null  category\n",
      " 29  HighBlood           10000 non-null  int32   \n",
      " 30  Stroke              10000 non-null  int32   \n",
      " 31  Complication_risk   10000 non-null  int32   \n",
      " 32  Overweight          10000 non-null  int32   \n",
      " 33  Arthritis           10000 non-null  int32   \n",
      " 34  Diabetes            10000 non-null  int32   \n",
      " 35  Hyperlipidemia      10000 non-null  int32   \n",
      " 36  BackPain            10000 non-null  int32   \n",
      " 37  Anxiety             10000 non-null  int32   \n",
      " 38  Allergic_rhinitis   10000 non-null  int32   \n",
      " 39  Reflux_esophagitis  10000 non-null  int32   \n",
      " 40  Asthma              10000 non-null  int32   \n",
      " 41  Services            10000 non-null  category\n",
      " 42  Initial_days        10000 non-null  float64 \n",
      " 43  TotalCharge         10000 non-null  float64 \n",
      " 44  Additional_charges  10000 non-null  float64 \n",
      " 45  Item1               10000 non-null  int64   \n",
      " 46  Item2               10000 non-null  int64   \n",
      " 47  Item3               10000 non-null  int64   \n",
      " 48  Item4               10000 non-null  int64   \n",
      " 49  Item5               10000 non-null  int64   \n",
      " 50  Item6               10000 non-null  int64   \n",
      " 51  Item7               10000 non-null  int64   \n",
      " 52  Item8               10000 non-null  int64   \n",
      " 53  education_ordinal   10000 non-null  category\n",
      " 54  employment_ordinal  10000 non-null  category\n",
      "dtypes: category(10), float64(9), int32(14), int64(14), object(8)\n",
      "memory usage: 3.0+ MB\n"
     ]
    }
   ],
   "source": [
    "# Check\n",
    "df.info()"
   ]
  },
  {
   "cell_type": "code",
   "execution_count": 124,
   "id": "8c5ee212",
   "metadata": {},
   "outputs": [],
   "source": [
    "# Turn the relevant columns to int datatype\n",
    "df['Age'] = df['Age'].astype(int)\n",
    "df['Children'] = df['Children'].astype(int)\n",
    "df['Initial_days'] = df['Initial_days'].astype(int)"
   ]
  },
  {
   "cell_type": "code",
   "execution_count": 125,
   "id": "5aad6060",
   "metadata": {},
   "outputs": [
    {
     "name": "stdout",
     "output_type": "stream",
     "text": [
      "<class 'pandas.core.frame.DataFrame'>\n",
      "RangeIndex: 10000 entries, 0 to 9999\n",
      "Data columns (total 55 columns):\n",
      " #   Column              Non-Null Count  Dtype   \n",
      "---  ------              --------------  -----   \n",
      " 0   Unnamed: 0          10000 non-null  int64   \n",
      " 1   CaseOrder           10000 non-null  int64   \n",
      " 2   Customer_id         10000 non-null  object  \n",
      " 3   Interaction         10000 non-null  object  \n",
      " 4   UID                 10000 non-null  object  \n",
      " 5   City                10000 non-null  object  \n",
      " 6   State               10000 non-null  object  \n",
      " 7   County              10000 non-null  object  \n",
      " 8   Zip                 10000 non-null  object  \n",
      " 9   Lat                 10000 non-null  float64 \n",
      " 10  Lng                 10000 non-null  float64 \n",
      " 11  Population          10000 non-null  int64   \n",
      " 12  Area                10000 non-null  category\n",
      " 13  Timezone            10000 non-null  category\n",
      " 14  Job                 10000 non-null  object  \n",
      " 15  Children            10000 non-null  int32   \n",
      " 16  Age                 10000 non-null  int32   \n",
      " 17  Education           10000 non-null  category\n",
      " 18  Employment          10000 non-null  category\n",
      " 19  Income              10000 non-null  float64 \n",
      " 20  Marital             10000 non-null  category\n",
      " 21  Gender              10000 non-null  category\n",
      " 22  ReAdmis             10000 non-null  int32   \n",
      " 23  VitD_levels         10000 non-null  float64 \n",
      " 24  Doc_visits          10000 non-null  int64   \n",
      " 25  Full_meals_eaten    10000 non-null  int64   \n",
      " 26  VitD_supp           10000 non-null  int64   \n",
      " 27  Soft_drink          10000 non-null  int32   \n",
      " 28  Initial_admin       10000 non-null  category\n",
      " 29  HighBlood           10000 non-null  int32   \n",
      " 30  Stroke              10000 non-null  int32   \n",
      " 31  Complication_risk   10000 non-null  int32   \n",
      " 32  Overweight          10000 non-null  int32   \n",
      " 33  Arthritis           10000 non-null  int32   \n",
      " 34  Diabetes            10000 non-null  int32   \n",
      " 35  Hyperlipidemia      10000 non-null  int32   \n",
      " 36  BackPain            10000 non-null  int32   \n",
      " 37  Anxiety             10000 non-null  int32   \n",
      " 38  Allergic_rhinitis   10000 non-null  int32   \n",
      " 39  Reflux_esophagitis  10000 non-null  int32   \n",
      " 40  Asthma              10000 non-null  int32   \n",
      " 41  Services            10000 non-null  category\n",
      " 42  Initial_days        10000 non-null  int32   \n",
      " 43  TotalCharge         10000 non-null  float64 \n",
      " 44  Additional_charges  10000 non-null  float64 \n",
      " 45  Item1               10000 non-null  int64   \n",
      " 46  Item2               10000 non-null  int64   \n",
      " 47  Item3               10000 non-null  int64   \n",
      " 48  Item4               10000 non-null  int64   \n",
      " 49  Item5               10000 non-null  int64   \n",
      " 50  Item6               10000 non-null  int64   \n",
      " 51  Item7               10000 non-null  int64   \n",
      " 52  Item8               10000 non-null  int64   \n",
      " 53  education_ordinal   10000 non-null  category\n",
      " 54  employment_ordinal  10000 non-null  category\n",
      "dtypes: category(10), float64(6), int32(17), int64(14), object(8)\n",
      "memory usage: 2.9+ MB\n"
     ]
    }
   ],
   "source": [
    "# Check the data types\n",
    "df.info()"
   ]
  },
  {
   "cell_type": "code",
   "execution_count": 126,
   "id": "38639631",
   "metadata": {},
   "outputs": [],
   "source": [
    "# Round Initial days to whole numbers\n",
    "df['Initial_days'] = df['Initial_days'].round()"
   ]
  },
  {
   "cell_type": "code",
   "execution_count": 127,
   "id": "72b4788d",
   "metadata": {},
   "outputs": [
    {
     "data": {
      "text/plain": [
       "Initial_days\n",
       "0     1056\n",
       "1      344\n",
       "3      333\n",
       "2      325\n",
       "6      323\n",
       "      ... \n",
       "29       6\n",
       "33       3\n",
       "31       3\n",
       "35       2\n",
       "32       2\n",
       "Name: count, Length: 71, dtype: int64"
      ]
     },
     "execution_count": 127,
     "metadata": {},
     "output_type": "execute_result"
    }
   ],
   "source": [
    "# Check initial days\n",
    "df['Initial_days'].value_counts()"
   ]
  },
  {
   "cell_type": "code",
   "execution_count": 128,
   "id": "7ad60720",
   "metadata": {},
   "outputs": [
    {
     "data": {
      "text/plain": [
       "['Unnamed: 0',\n",
       " 'CaseOrder',\n",
       " 'Customer_id',\n",
       " 'Interaction',\n",
       " 'UID',\n",
       " 'City',\n",
       " 'State',\n",
       " 'County',\n",
       " 'Zip',\n",
       " 'Lat',\n",
       " 'Lng',\n",
       " 'Population',\n",
       " 'Area',\n",
       " 'Timezone',\n",
       " 'Job',\n",
       " 'Children',\n",
       " 'Age',\n",
       " 'Education',\n",
       " 'Employment',\n",
       " 'Income',\n",
       " 'Marital',\n",
       " 'Gender',\n",
       " 'ReAdmis',\n",
       " 'VitD_levels',\n",
       " 'Doc_visits',\n",
       " 'Full_meals_eaten',\n",
       " 'VitD_supp',\n",
       " 'Soft_drink',\n",
       " 'Initial_admin',\n",
       " 'HighBlood',\n",
       " 'Stroke',\n",
       " 'Complication_risk',\n",
       " 'Overweight',\n",
       " 'Arthritis',\n",
       " 'Diabetes',\n",
       " 'Hyperlipidemia',\n",
       " 'BackPain',\n",
       " 'Anxiety',\n",
       " 'Allergic_rhinitis',\n",
       " 'Reflux_esophagitis',\n",
       " 'Asthma',\n",
       " 'Services',\n",
       " 'Initial_days',\n",
       " 'TotalCharge',\n",
       " 'Additional_charges',\n",
       " 'Item1',\n",
       " 'Item2',\n",
       " 'Item3',\n",
       " 'Item4',\n",
       " 'Item5',\n",
       " 'Item6',\n",
       " 'Item7',\n",
       " 'Item8',\n",
       " 'education_ordinal',\n",
       " 'employment_ordinal']"
      ]
     },
     "execution_count": 128,
     "metadata": {},
     "output_type": "execute_result"
    }
   ],
   "source": [
    "# Get the current column names from the DataFrame\n",
    "current_columns = df.columns.tolist()\n",
    "current_columns"
   ]
  },
  {
   "cell_type": "code",
   "execution_count": 129,
   "id": "4a4081e3",
   "metadata": {},
   "outputs": [],
   "source": [
    "columns_to_drop = [0]\n",
    "df.drop(df.columns[columns_to_drop], axis=1, inplace=True)"
   ]
  },
  {
   "cell_type": "code",
   "execution_count": 130,
   "id": "d78ba309",
   "metadata": {},
   "outputs": [
    {
     "data": {
      "text/plain": [
       "['CaseOrder',\n",
       " 'Customer_id',\n",
       " 'Interaction',\n",
       " 'UID',\n",
       " 'City',\n",
       " 'State',\n",
       " 'County',\n",
       " 'Zip',\n",
       " 'Lat',\n",
       " 'Lng',\n",
       " 'Population',\n",
       " 'Area',\n",
       " 'Timezone',\n",
       " 'Job',\n",
       " 'Children',\n",
       " 'Age',\n",
       " 'Education',\n",
       " 'Employment',\n",
       " 'Income',\n",
       " 'Marital',\n",
       " 'Gender',\n",
       " 'ReAdmis',\n",
       " 'VitD_levels',\n",
       " 'Doc_visits',\n",
       " 'Full_meals_eaten',\n",
       " 'VitD_supp',\n",
       " 'Soft_drink',\n",
       " 'Initial_admin',\n",
       " 'HighBlood',\n",
       " 'Stroke',\n",
       " 'Complication_risk',\n",
       " 'Overweight',\n",
       " 'Arthritis',\n",
       " 'Diabetes',\n",
       " 'Hyperlipidemia',\n",
       " 'BackPain',\n",
       " 'Anxiety',\n",
       " 'Allergic_rhinitis',\n",
       " 'Reflux_esophagitis',\n",
       " 'Asthma',\n",
       " 'Services',\n",
       " 'Initial_days',\n",
       " 'TotalCharge',\n",
       " 'Additional_charges',\n",
       " 'Item1',\n",
       " 'Item2',\n",
       " 'Item3',\n",
       " 'Item4',\n",
       " 'Item5',\n",
       " 'Item6',\n",
       " 'Item7',\n",
       " 'Item8',\n",
       " 'education_ordinal',\n",
       " 'employment_ordinal']"
      ]
     },
     "execution_count": 130,
     "metadata": {},
     "output_type": "execute_result"
    }
   ],
   "source": [
    "current_columns = df.columns.tolist()\n",
    "current_columns"
   ]
  },
  {
   "cell_type": "code",
   "execution_count": 131,
   "id": "1b9291c1",
   "metadata": {},
   "outputs": [],
   "source": [
    "# Rename all columns to be lowercase, use underscores where appropriate, and descriptive\n",
    "better_columns = ['case_order', 'customer_id', 'interaction_id', 'uid', 'city', 'state', 'county', 'zip_code', 'latitude',\n",
    "                  'longitude', 'population', 'urbanization', 'timezone', 'job', 'children', 'age', 'education', \n",
    "                  'employment_status', 'income', 'marital_status', 'gender', 'readmission', 'vitamin_d_levels', 'doctor_visits', 'full_meals', 'vitamin_d_suppliment',\n",
    "                  'soft_drink', 'initial_admission', 'high_blood_pressure', 'stroke', 'complication_risk', 'overweight',\n",
    "                  'arthritis', 'diabetes', 'hyperlipidemia', 'back_pain', 'anxiety', 'allergic_rhinitis', 'reflux_esophagitis',\n",
    "                  'asthma', 'services', 'initial_stay', 'daily_charge', 'additional_charge', 'survey_timely_admission',\n",
    "                  'survey_timely_treatment', 'survey_timely_visits', 'survey_reliability', 'survey_options',\n",
    "                  'survey_treatment_hours', 'survey_courteous_staff', 'survey_active_listening', 'education_ordinal', 'employment_ordinal']\n",
    "\n",
    "# Ensure that the number of elements in better_columns matches the current number of columns in the DataFrame\n",
    "if len(better_columns) != df.shape[1]:\n",
    "    raise ValueError(\"Length mismatch: The number of elements in better_columns does not match the current number of columns in the DataFrame.\")\n",
    "\n",
    "# Set the new columns \n",
    "df = df.set_axis(better_columns, axis=1)"
   ]
  },
  {
   "cell_type": "code",
   "execution_count": 132,
   "id": "e895503d",
   "metadata": {},
   "outputs": [
    {
     "name": "stdout",
     "output_type": "stream",
     "text": [
      "<class 'pandas.core.frame.DataFrame'>\n",
      "RangeIndex: 10000 entries, 0 to 9999\n",
      "Data columns (total 54 columns):\n",
      " #   Column                   Non-Null Count  Dtype   \n",
      "---  ------                   --------------  -----   \n",
      " 0   case_order               10000 non-null  int64   \n",
      " 1   customer_id              10000 non-null  object  \n",
      " 2   interaction_id           10000 non-null  object  \n",
      " 3   uid                      10000 non-null  object  \n",
      " 4   city                     10000 non-null  object  \n",
      " 5   state                    10000 non-null  object  \n",
      " 6   county                   10000 non-null  object  \n",
      " 7   zip_code                 10000 non-null  object  \n",
      " 8   latitude                 10000 non-null  float64 \n",
      " 9   longitude                10000 non-null  float64 \n",
      " 10  population               10000 non-null  int64   \n",
      " 11  urbanization             10000 non-null  category\n",
      " 12  timezone                 10000 non-null  category\n",
      " 13  job                      10000 non-null  object  \n",
      " 14  children                 10000 non-null  int32   \n",
      " 15  age                      10000 non-null  int32   \n",
      " 16  education                10000 non-null  category\n",
      " 17  employment_status        10000 non-null  category\n",
      " 18  income                   10000 non-null  float64 \n",
      " 19  marital_status           10000 non-null  category\n",
      " 20  gender                   10000 non-null  category\n",
      " 21  readmission              10000 non-null  int32   \n",
      " 22  vitamin_d_levels         10000 non-null  float64 \n",
      " 23  doctor_visits            10000 non-null  int64   \n",
      " 24  full_meals               10000 non-null  int64   \n",
      " 25  vitamin_d_suppliment     10000 non-null  int64   \n",
      " 26  soft_drink               10000 non-null  int32   \n",
      " 27  initial_admission        10000 non-null  category\n",
      " 28  high_blood_pressure      10000 non-null  int32   \n",
      " 29  stroke                   10000 non-null  int32   \n",
      " 30  complication_risk        10000 non-null  int32   \n",
      " 31  overweight               10000 non-null  int32   \n",
      " 32  arthritis                10000 non-null  int32   \n",
      " 33  diabetes                 10000 non-null  int32   \n",
      " 34  hyperlipidemia           10000 non-null  int32   \n",
      " 35  back_pain                10000 non-null  int32   \n",
      " 36  anxiety                  10000 non-null  int32   \n",
      " 37  allergic_rhinitis        10000 non-null  int32   \n",
      " 38  reflux_esophagitis       10000 non-null  int32   \n",
      " 39  asthma                   10000 non-null  int32   \n",
      " 40  services                 10000 non-null  category\n",
      " 41  initial_stay             10000 non-null  int32   \n",
      " 42  daily_charge             10000 non-null  float64 \n",
      " 43  additional_charge        10000 non-null  float64 \n",
      " 44  survey_timely_admission  10000 non-null  int64   \n",
      " 45  survey_timely_treatment  10000 non-null  int64   \n",
      " 46  survey_timely_visits     10000 non-null  int64   \n",
      " 47  survey_reliability       10000 non-null  int64   \n",
      " 48  survey_options           10000 non-null  int64   \n",
      " 49  survey_treatment_hours   10000 non-null  int64   \n",
      " 50  survey_courteous_staff   10000 non-null  int64   \n",
      " 51  survey_active_listening  10000 non-null  int64   \n",
      " 52  education_ordinal        10000 non-null  category\n",
      " 53  employment_ordinal       10000 non-null  category\n",
      "dtypes: category(10), float64(6), int32(17), int64(13), object(8)\n",
      "memory usage: 2.8+ MB\n"
     ]
    }
   ],
   "source": [
    "# create a new cleaned df\n",
    "clean_df = df\n",
    "\n",
    "# Check the clean data\n",
    "clean_df.info()"
   ]
  },
  {
   "cell_type": "markdown",
   "id": "4f4b55e4",
   "metadata": {},
   "source": [
    "5. CSV File\n",
    "    The cleaned data set is provided as clean_data.csv"
   ]
  },
  {
   "cell_type": "code",
   "execution_count": 133,
   "id": "d6099c0e",
   "metadata": {},
   "outputs": [],
   "source": [
    "clean_df.to_csv('clean_data.csv', index = False)"
   ]
  },
  {
   "cell_type": "markdown",
   "id": "a4e2370b",
   "metadata": {},
   "source": [
    "6. Disadvantages\n",
    "    * Using the imputation method for Age, Income, and Children definitely skewed the data more than is desired. This is especially obvious with Age where we can see the histogram spikes drastically with the imputed data. \n",
    "    * Deciding to use the most frequent result to fill in the null values for Soft drink, anxiety, and overweight will certainly cause some distortion in the dataset. However because those columns didn't have a huge amount of missing data the distortion will be minimal, better than a reduced dataset. \n",
    "    * There were no duplicates in the data so there were no disadvantages there. \n",
    "    * Leaving the outliers in income especially could skew the data since there are such disparities between the wealthier end and poor end. \n",
    "\n",
    "---\n",
    "\n",
    "7. Challenges\n",
    "    As discussed using the most frequent value for the nulls in the binary columns will distort the data and an analyst should be aware that this has happened. Though there are other ways to have dealt with these null values since there aren't too many nulls in the columns using this method is a good and valid way to deal with the nulls while keeping the integrity of the dataset. \n",
    "    \n",
    "    Deciding to translate the null values from initial days at hospital as 0 and removing the decimals could cause some incorrect conclusions. Since hospital stays are tracked in hours in the data there is the possibility that rounding the numbers to count in days will affect any nuance in the dataset analysis. However for the sake of the research question, which is what factors affect readmission, I decided that an analyst would be better served using days for the analysis over hours. However not being privvy to the specific needs and processes of the hospitals this is an assumption that very well could make the analysis harder. \n",
    "    \n",
    "    The gender columm disconnect between the data dictionary and the data itself and my choice to not correct is an issue that the data analyst will have to correct on their own, whether that means correcting the data dictionary or changing the variables in the gender column. However I stand by my statement that to fix this issue without understanding the actual question patients were answering would be unethical. Preferring not to state your gender and being non-binary are far from the same issue and hospitals, data analysts, and myself have a responsibility to treat gender and people with respect. "
   ]
  },
  {
   "cell_type": "markdown",
   "id": "0fb443bb",
   "metadata": {},
   "source": [
    "### Part 4: PCA and Sources\n",
    "\n",
    "#### E. PCA\n",
    "\n",
    "1. Variables and Output\n",
    "    Since principal component analysis required numeric variables that are on the same scale and are quantitative I will be using the following variables: \n",
    "    * population, children, age, income, vitamin_d_levels, initial_stay, daily_charge, additional_charge"
   ]
  },
  {
   "cell_type": "code",
   "execution_count": 134,
   "id": "9cc5e7c6",
   "metadata": {},
   "outputs": [],
   "source": [
    "# Create new DataFrame with numeric columns\n",
    "pca_df = clean_df[['population', 'children', 'age', 'income', 'vitamin_d_levels', 'initial_stay', 'daily_charge', \n",
    "                   'additional_charge']]\n",
    "\n",
    "# Normalize the columns and fit to the PCA\n",
    "pca_df_normalized = (pca_df - pca_df.mean()) / pca_df.std()\n",
    "pca = PCA(n_components=pca_df.shape[1])\n",
    "pca.fit(pca_df_normalized)\n",
    "loadings = pd.DataFrame(pca.components_.T, \n",
    "                        columns=['PC{}'.format(i+1) for i in range(pca_df_normalized.shape[1])],\n",
    "                        index=pca_df_normalized.columns)"
   ]
  },
  {
   "cell_type": "code",
   "execution_count": 135,
   "id": "7f5d2cde",
   "metadata": {},
   "outputs": [
    {
     "data": {
      "text/html": [
       "<div>\n",
       "<style scoped>\n",
       "    .dataframe tbody tr th:only-of-type {\n",
       "        vertical-align: middle;\n",
       "    }\n",
       "\n",
       "    .dataframe tbody tr th {\n",
       "        vertical-align: top;\n",
       "    }\n",
       "\n",
       "    .dataframe thead th {\n",
       "        text-align: right;\n",
       "    }\n",
       "</style>\n",
       "<table border=\"1\" class=\"dataframe\">\n",
       "  <thead>\n",
       "    <tr style=\"text-align: right;\">\n",
       "      <th></th>\n",
       "      <th>PC1</th>\n",
       "      <th>PC2</th>\n",
       "      <th>PC3</th>\n",
       "      <th>PC4</th>\n",
       "      <th>PC5</th>\n",
       "      <th>PC6</th>\n",
       "      <th>PC7</th>\n",
       "      <th>PC8</th>\n",
       "    </tr>\n",
       "  </thead>\n",
       "  <tbody>\n",
       "    <tr>\n",
       "      <th>population</th>\n",
       "      <td>0.017684</td>\n",
       "      <td>-0.025762</td>\n",
       "      <td>0.574139</td>\n",
       "      <td>0.076146</td>\n",
       "      <td>-0.658803</td>\n",
       "      <td>-0.479011</td>\n",
       "      <td>0.010772</td>\n",
       "      <td>-0.001206</td>\n",
       "    </tr>\n",
       "    <tr>\n",
       "      <th>children</th>\n",
       "      <td>0.003324</td>\n",
       "      <td>0.011706</td>\n",
       "      <td>0.459292</td>\n",
       "      <td>0.469729</td>\n",
       "      <td>0.684244</td>\n",
       "      <td>-0.316200</td>\n",
       "      <td>0.009099</td>\n",
       "      <td>0.001383</td>\n",
       "    </tr>\n",
       "    <tr>\n",
       "      <th>age</th>\n",
       "      <td>0.094208</td>\n",
       "      <td>0.700392</td>\n",
       "      <td>0.011832</td>\n",
       "      <td>-0.015087</td>\n",
       "      <td>-0.013750</td>\n",
       "      <td>0.012354</td>\n",
       "      <td>0.706797</td>\n",
       "      <td>0.017459</td>\n",
       "    </tr>\n",
       "    <tr>\n",
       "      <th>income</th>\n",
       "      <td>-0.008393</td>\n",
       "      <td>-0.005452</td>\n",
       "      <td>0.020052</td>\n",
       "      <td>0.779955</td>\n",
       "      <td>-0.293714</td>\n",
       "      <td>0.552127</td>\n",
       "      <td>0.007465</td>\n",
       "      <td>0.000221</td>\n",
       "    </tr>\n",
       "    <tr>\n",
       "      <th>vitamin_d_levels</th>\n",
       "      <td>0.558967</td>\n",
       "      <td>-0.067443</td>\n",
       "      <td>-0.416420</td>\n",
       "      <td>0.247549</td>\n",
       "      <td>-0.055951</td>\n",
       "      <td>-0.356601</td>\n",
       "      <td>0.023645</td>\n",
       "      <td>-0.563443</td>\n",
       "    </tr>\n",
       "    <tr>\n",
       "      <th>initial_stay</th>\n",
       "      <td>0.419744</td>\n",
       "      <td>-0.074487</td>\n",
       "      <td>0.533947</td>\n",
       "      <td>-0.321992</td>\n",
       "      <td>0.088243</td>\n",
       "      <td>0.488147</td>\n",
       "      <td>0.005815</td>\n",
       "      <td>-0.428228</td>\n",
       "    </tr>\n",
       "    <tr>\n",
       "      <th>daily_charge</th>\n",
       "      <td>0.702145</td>\n",
       "      <td>-0.090333</td>\n",
       "      <td>-0.008038</td>\n",
       "      <td>0.001817</td>\n",
       "      <td>0.006115</td>\n",
       "      <td>0.010766</td>\n",
       "      <td>-0.021404</td>\n",
       "      <td>0.705800</td>\n",
       "    </tr>\n",
       "    <tr>\n",
       "      <th>additional_charge</th>\n",
       "      <td>0.095363</td>\n",
       "      <td>0.700260</td>\n",
       "      <td>0.017420</td>\n",
       "      <td>0.005937</td>\n",
       "      <td>-0.019423</td>\n",
       "      <td>-0.001426</td>\n",
       "      <td>-0.706493</td>\n",
       "      <td>-0.026297</td>\n",
       "    </tr>\n",
       "  </tbody>\n",
       "</table>\n",
       "</div>"
      ],
      "text/plain": [
       "                        PC1       PC2       PC3       PC4       PC5       PC6  \\\n",
       "population         0.017684 -0.025762  0.574139  0.076146 -0.658803 -0.479011   \n",
       "children           0.003324  0.011706  0.459292  0.469729  0.684244 -0.316200   \n",
       "age                0.094208  0.700392  0.011832 -0.015087 -0.013750  0.012354   \n",
       "income            -0.008393 -0.005452  0.020052  0.779955 -0.293714  0.552127   \n",
       "vitamin_d_levels   0.558967 -0.067443 -0.416420  0.247549 -0.055951 -0.356601   \n",
       "initial_stay       0.419744 -0.074487  0.533947 -0.321992  0.088243  0.488147   \n",
       "daily_charge       0.702145 -0.090333 -0.008038  0.001817  0.006115  0.010766   \n",
       "additional_charge  0.095363  0.700260  0.017420  0.005937 -0.019423 -0.001426   \n",
       "\n",
       "                        PC7       PC8  \n",
       "population         0.010772 -0.001206  \n",
       "children           0.009099  0.001383  \n",
       "age                0.706797  0.017459  \n",
       "income             0.007465  0.000221  \n",
       "vitamin_d_levels   0.023645 -0.563443  \n",
       "initial_stay       0.005815 -0.428228  \n",
       "daily_charge      -0.021404  0.705800  \n",
       "additional_charge -0.706493 -0.026297  "
      ]
     },
     "execution_count": 135,
     "metadata": {},
     "output_type": "execute_result"
    }
   ],
   "source": [
    "loadings"
   ]
  },
  {
   "cell_type": "markdown",
   "id": "1e812869",
   "metadata": {},
   "source": [
    "2. PCs to Keep\n",
    "    The Pricipal components recognized by the PCA analysis are: \n",
    "    * PC1 through PC4\n",
    "    These values have eigenvalues above 1 which is the threshold according to the Kaiser rule. This is shown by the visualization below and the list of eigenvalues."
   ]
  },
  {
   "cell_type": "code",
   "execution_count": 136,
   "id": "b31be39f",
   "metadata": {},
   "outputs": [
    {
     "data": {
      "image/png": "[encoded data removed]",
      "text/plain": [
       "<Figure size 2000x1000 with 1 Axes>"
      ]
     },
     "metadata": {},
     "output_type": "display_data"
    }
   ],
   "source": [
    "# Create the covariance matrix\n",
    "covariance = np.dot(pca_df_normalized.T, pca_df_normalized)/pca_df.shape[0]\n",
    "eigenvalues = [np.dot(eigenvector.T, np.dot(covariance, eigenvector)) for eigenvector in pca.components_]\n",
    "\n",
    "plt.figure(figsize = [20,10])\n",
    "plt.plot(eigenvalues)\n",
    "plt.xlabel('Number of Components')\n",
    "plt.ylabel('Eigenvalues')\n",
    "plt.axhline(y = 1, color = 'red')\n",
    "plt.show();"
   ]
  },
  {
   "cell_type": "code",
   "execution_count": 137,
   "id": "79d60a7e",
   "metadata": {},
   "outputs": [
    {
     "data": {
      "text/plain": [
       "[1.9161505397733958,\n",
       " 1.6167995170834168,\n",
       " 1.0189037334562205,\n",
       " 1.0072686269098974,\n",
       " 0.9903804341409204,\n",
       " 0.9877063303815665,\n",
       " 0.37840958272683545,\n",
       " 0.08358123552777431]"
      ]
     },
     "execution_count": 137,
     "metadata": {},
     "output_type": "execute_result"
    }
   ],
   "source": [
    "eigenvalues"
   ]
  },
  {
   "cell_type": "markdown",
   "id": "c643706a",
   "metadata": {},
   "source": [
    "3. PCA Benefits\n",
    "    The benefits of the PCA is that it can help breakdown a dataset with a large amount of variables to the variables that will actually be useful for the analysis. It is usefull to be able to focus on the variables with the most amount of impact to the research question so as to save time on analysis that results in little or no usable suggestions. The PCA also reduces the chances of variables seeming to be more important than they really are and provides a framework for grouping the data for further analysis and computer learning. In this dataset specifically "
   ]
  },
  {
   "cell_type": "markdown",
   "id": "f29345a7",
   "metadata": {},
   "source": [
    "F. Panopto Recording\n",
    "\n",
    "https://wgu.hosted.panopto.com/Panopto/Pages/Viewer.aspx?id=791500ab-dfa0-49ee-9b88-b04b01693993\n",
    "\n",
    "---\n",
    "\n",
    "G. Code Sources\n",
    "\n",
    "No additional code sources were used beyond what is listed in references\n",
    "\n",
    "---\n",
    "\n",
    "H. References\n",
    "\n",
    "Larose, C. D., & Larose, D. T. (2019). Data science using Python and R. ISBN-13: 978-1-119-52684-1\n",
    "\n",
    "The course resources, especially the four videos, were also used as reference especially for the PCA. "
   ]
  }
 ],
 "metadata": {
  "kernelspec": {
   "display_name": "Python 3 (ipykernel)",
   "language": "python",
   "name": "python3"
  },
  "language_info": {
   "codemirror_mode": {
    "name": "ipython",
    "version": 3
   },
   "file_extension": ".py",
   "mimetype": "text/x-python",
   "name": "python",
   "nbconvert_exporter": "python",
   "pygments_lexer": "ipython3",
   "version": "3.12.4"
  }
 },
 "nbformat": 4,
 "nbformat_minor": 5
}
